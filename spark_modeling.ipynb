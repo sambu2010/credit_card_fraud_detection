{
 "cells": [
  {
   "cell_type": "code",
   "execution_count": 1,
   "metadata": {
    "cell_id": "00000-1785530e-d4da-4c73-86d1-804cb563b1bd",
    "deepnote_cell_type": "code",
    "deepnote_to_be_reexecuted": false,
    "execution_millis": 8201,
    "execution_start": 1639720754999,
    "source_hash": "37893909",
    "tags": []
   },
   "outputs": [
    {
     "name": "stdout",
     "output_type": "stream",
     "text": [
      "Hit:1 http://security.debian.org/debian-security buster/updates InRelease\n",
      "Hit:2 http://deb.debian.org/debian buster InRelease\n",
      "Hit:3 http://deb.debian.org/debian buster-updates InRelease\n",
      "\n",
      "\n",
      "\n",
      "\n",
      "openjdk-11-jdk is already the newest version (11.0.12+7-2~deb10u1).\n",
      "0 upgraded, 0 newly installed, 0 to remove and 5 not upgraded.\n",
      "Requirement already satisfied: pyspark in /root/venv/lib/python3.7/site-packages (3.2.0)\n",
      "Requirement already satisfied: py4j==0.10.9.2 in /root/venv/lib/python3.7/site-packages (from pyspark) (0.10.9.2)\n",
      "\u001b[33mWARNING: You are using pip version 20.1.1; however, version 21.3.1 is available.\n",
      "You should consider upgrading via the '/root/venv/bin/python -m pip install --upgrade pip' command.\u001b[0m\n"
     ]
    }
   ],
   "source": [
    "# Install PySpark on Deepnote instance\n",
    "# Takes ~2 minutes\n",
    "! sudo apt-get update\n",
    "! sudo mkdir -p /usr/share/man/man1\n",
    "! sudo apt-get install -y openjdk-11-jdk\n",
    "! pip install pyspark"
   ]
  },
  {
   "cell_type": "code",
   "execution_count": 2,
   "metadata": {
    "cell_id": "00001-4cf8d12f-bf3b-4f0d-bc3d-a3e983f20714",
    "deepnote_cell_type": "code",
    "deepnote_to_be_reexecuted": false,
    "execution_millis": 2602,
    "execution_start": 1639720763210,
    "source_hash": "3b57fb7e",
    "tags": []
   },
   "outputs": [],
   "source": [
    "import pandas as pd\n",
    "import numpy as np\n",
    "\n",
    "import seaborn as sns\n",
    "import matplotlib.pyplot as plt\n",
    "\n",
    "import sqlite3\n",
    "\n",
    "import pyspark\n",
    "from pyspark.ml.feature import VectorAssembler\n",
    "from pyspark.ml.feature import MinMaxScaler\n",
    "from pyspark.ml.classification import (DecisionTreeClassifier, RandomForestClassifier, GBTClassifier, LogisticRegression)\n",
    "from pyspark.ml.evaluation import (BinaryClassificationEvaluator, MulticlassClassificationEvaluator)\n",
    "from pyspark.mllib.evaluation import (BinaryClassificationMetrics, MulticlassMetrics)\n",
    "from pyspark.ml import Pipeline\n",
    "from pyspark.ml.tuning import ParamGridBuilder, CrossValidator\n",
    "from pyspark.sql.functions import lit\n",
    "import pyspark.sql.functions as F\n",
    "\n",
    "import warnings\n",
    "warnings.filterwarnings('ignore')"
   ]
  },
  {
   "cell_type": "code",
   "execution_count": 3,
   "metadata": {
    "cell_id": "00002-cf3b1a05-b84e-4447-92bc-2a7f0705e171",
    "deepnote_cell_type": "code",
    "deepnote_to_be_reexecuted": false,
    "execution_millis": 6904,
    "execution_start": 1639720765819,
    "source_hash": "ff70973",
    "tags": []
   },
   "outputs": [],
   "source": [
    "spark = pyspark.sql.SparkSession.builder.getOrCreate()"
   ]
  },
  {
   "cell_type": "code",
   "execution_count": 4,
   "metadata": {
    "cell_id": "00003-7b05beba-b4a4-441d-a989-10bf15604371",
    "deepnote_cell_type": "code",
    "deepnote_to_be_reexecuted": false,
    "execution_millis": 2,
    "execution_start": 1639720772730,
    "source_hash": "901c1366",
    "tags": []
   },
   "outputs": [],
   "source": [
    "filepath = 'final_data.csv'"
   ]
  },
  {
   "cell_type": "code",
   "execution_count": 5,
   "metadata": {
    "cell_id": "00004-7715d7f6-232c-4888-88b9-07c1b00e229c",
    "deepnote_cell_type": "code",
    "deepnote_to_be_reexecuted": false,
    "execution_millis": 22340,
    "execution_start": 1639720772736,
    "source_hash": "ba92f2dc",
    "tags": []
   },
   "outputs": [
    {
     "name": "stdout",
     "output_type": "stream",
     "text": [
      "root\n",
      " |-- _c0: integer (nullable = true)\n",
      " |-- amt: double (nullable = true)\n",
      " |-- gender: integer (nullable = true)\n",
      " |-- city_pop: integer (nullable = true)\n",
      " |-- age: double (nullable = true)\n",
      " |-- tran_day_of_week: integer (nullable = true)\n",
      " |-- tran_day_of_month: integer (nullable = true)\n",
      " |-- tran_month_of_year: integer (nullable = true)\n",
      " |-- tran_hour_of_day: integer (nullable = true)\n",
      " |-- cat_food_dining: integer (nullable = true)\n",
      " |-- cat_gas_transport: integer (nullable = true)\n",
      " |-- cat_grocery_net: integer (nullable = true)\n",
      " |-- cat_grocery_pos: integer (nullable = true)\n",
      " |-- cat_health_fitness: integer (nullable = true)\n",
      " |-- cat_home: integer (nullable = true)\n",
      " |-- cat_kids_pets: integer (nullable = true)\n",
      " |-- cat_misc_net: integer (nullable = true)\n",
      " |-- cat_misc_pos: integer (nullable = true)\n",
      " |-- cat_personal_care: integer (nullable = true)\n",
      " |-- cat_shopping_net: integer (nullable = true)\n",
      " |-- cat_shopping_pos: integer (nullable = true)\n",
      " |-- cat_travel: integer (nullable = true)\n",
      " |-- is_fraud: integer (nullable = true)\n",
      "\n"
     ]
    }
   ],
   "source": [
    "spark_df = spark.read.csv(filepath,\n",
    "                     sep=',',\n",
    "                     inferSchema=True,\n",
    "                     header=True,)\n",
    "\n",
    "spark_df.printSchema()"
   ]
  },
  {
   "cell_type": "code",
   "execution_count": 6,
   "metadata": {
    "cell_id": "00005-d00c7a8b-057d-4dbc-935e-5c142f2b9fc6",
    "deepnote_cell_type": "code",
    "deepnote_output_heights": [
     21.1875
    ],
    "deepnote_to_be_reexecuted": false,
    "execution_millis": 72,
    "execution_start": 1639720795085,
    "source_hash": "d31b6a6b",
    "tags": []
   },
   "outputs": [],
   "source": [
    "spark_df = spark_df.drop('_c0')"
   ]
  },
  {
   "cell_type": "code",
   "execution_count": 7,
   "metadata": {
    "cell_id": "00005-9563d6c1-b3d6-422a-9ec2-1b06ae2f6c50",
    "deepnote_cell_type": "code",
    "deepnote_to_be_reexecuted": false,
    "execution_millis": 991,
    "execution_start": 1639720795166,
    "source_hash": "3095dc77",
    "tags": []
   },
   "outputs": [
    {
     "name": "stdout",
     "output_type": "stream",
     "text": [
      "+------+------+--------+----+----------------+-----------------+------------------+----------------+---------------+-----------------+---------------+---------------+------------------+--------+-------------+------------+------------+-----------------+----------------+----------------+----------+--------+\n",
      "|   amt|gender|city_pop| age|tran_day_of_week|tran_day_of_month|tran_month_of_year|tran_hour_of_day|cat_food_dining|cat_gas_transport|cat_grocery_net|cat_grocery_pos|cat_health_fitness|cat_home|cat_kids_pets|cat_misc_net|cat_misc_pos|cat_personal_care|cat_shopping_net|cat_shopping_pos|cat_travel|is_fraud|\n",
      "+------+------+--------+----+----------------+-----------------+------------------+----------------+---------------+-----------------+---------------+---------------+------------------+--------+-------------+------------+------------+-----------------+----------------+----------------+----------+--------+\n",
      "|  2.86|     1|  333497|52.0|               6|               21|                 6|              12|              0|                0|              0|              0|                 0|       0|            0|           0|           0|                1|               0|               0|         0|       0|\n",
      "| 29.84|     2|     302|30.0|               6|               21|                 6|              12|              0|                0|              0|              0|                 0|       0|            0|           0|           0|                1|               0|               0|         0|       0|\n",
      "| 41.28|     2|   34496|50.0|               6|               21|                 6|              12|              0|                0|              0|              0|                 1|       0|            0|           0|           0|                0|               0|               0|         0|       0|\n",
      "| 60.05|     1|   54767|33.0|               6|               21|                 6|              12|              0|                0|              0|              0|                 0|       0|            0|           0|           1|                0|               0|               0|         0|       0|\n",
      "|  3.19|     1|    1126|65.0|               6|               21|                 6|              12|              0|                0|              0|              0|                 0|       0|            0|           0|           0|                0|               0|               0|         1|       0|\n",
      "| 19.55|     2|     520|29.0|               6|               21|                 6|              12|              0|                0|              0|              0|                 0|       0|            1|           0|           0|                0|               0|               0|         0|       0|\n",
      "|133.93|     2|    1139|69.0|               6|               21|                 6|              12|              0|                0|              0|              0|                 1|       0|            0|           0|           0|                0|               0|               0|         0|       0|\n",
      "| 10.37|     2|     343|48.0|               6|               21|                 6|              12|              0|                0|              0|              0|                 0|       0|            0|           0|           0|                1|               0|               0|         0|       0|\n",
      "|  4.37|     1|    3688|47.0|               6|               21|                 6|              12|              0|                0|              0|              0|                 0|       0|            0|           0|           0|                0|               0|               1|         0|       0|\n",
      "| 66.54|     2|     263|64.0|               6|               21|                 6|              12|              1|                0|              0|              0|                 0|       0|            0|           0|           0|                0|               0|               0|         0|       0|\n",
      "+------+------+--------+----+----------------+-----------------+------------------+----------------+---------------+-----------------+---------------+---------------+------------------+--------+-------------+------------+------------+-----------------+----------------+----------------+----------+--------+\n",
      "only showing top 10 rows\n",
      "\n"
     ]
    }
   ],
   "source": [
    "spark_df.show(10)"
   ]
  },
  {
   "cell_type": "code",
   "execution_count": 8,
   "metadata": {
    "cell_id": "00006-34e4bfc0-effd-4500-957d-740dbf3e5089",
    "deepnote_cell_type": "code",
    "deepnote_output_heights": [
     424.34375
    ],
    "deepnote_to_be_reexecuted": false,
    "execution_millis": 52,
    "execution_start": 1639720796167,
    "source_hash": "6a056c25",
    "tags": []
   },
   "outputs": [
    {
     "data": {
      "text/plain": [
       "[('amt', 'double'),\n",
       " ('gender', 'int'),\n",
       " ('city_pop', 'int'),\n",
       " ('age', 'double'),\n",
       " ('tran_day_of_week', 'int'),\n",
       " ('tran_day_of_month', 'int'),\n",
       " ('tran_month_of_year', 'int'),\n",
       " ('tran_hour_of_day', 'int'),\n",
       " ('cat_food_dining', 'int'),\n",
       " ('cat_gas_transport', 'int'),\n",
       " ('cat_grocery_net', 'int'),\n",
       " ('cat_grocery_pos', 'int'),\n",
       " ('cat_health_fitness', 'int'),\n",
       " ('cat_home', 'int'),\n",
       " ('cat_kids_pets', 'int'),\n",
       " ('cat_misc_net', 'int'),\n",
       " ('cat_misc_pos', 'int'),\n",
       " ('cat_personal_care', 'int'),\n",
       " ('cat_shopping_net', 'int'),\n",
       " ('cat_shopping_pos', 'int'),\n",
       " ('cat_travel', 'int'),\n",
       " ('is_fraud', 'int')]"
      ]
     },
     "execution_count": 8,
     "metadata": {},
     "output_type": "execute_result"
    }
   ],
   "source": [
    "spark_df.dtypes"
   ]
  },
  {
   "cell_type": "code",
   "execution_count": 9,
   "metadata": {
    "cell_id": "00008-791f8e9f-f7dd-481b-94a8-6374a447ff53",
    "deepnote_cell_type": "code",
    "deepnote_to_be_reexecuted": false,
    "execution_millis": 135,
    "execution_start": 1639720796223,
    "source_hash": "b7c2975f",
    "tags": []
   },
   "outputs": [],
   "source": [
    "spark_df.createOrReplaceTempView('data')"
   ]
  },
  {
   "cell_type": "code",
   "execution_count": 10,
   "metadata": {
    "cell_id": "00009-7a4857a5-d5a5-4d4a-bc6b-4ca795ecac05",
    "deepnote_cell_type": "code",
    "deepnote_to_be_reexecuted": false,
    "execution_millis": 6058,
    "execution_start": 1639720796405,
    "source_hash": "ae7adcd9",
    "tags": []
   },
   "outputs": [
    {
     "name": "stdout",
     "output_type": "stream",
     "text": [
      "+--------+-------+\n",
      "|is_fraud|    cnt|\n",
      "+--------+-------+\n",
      "|       1|   9651|\n",
      "|       0|1842743|\n",
      "+--------+-------+\n",
      "\n"
     ]
    }
   ],
   "source": [
    "fraud_counts = spark.sql(r\"\"\"SELECT is_fraud, COUNT(*) AS cnt \n",
    "                            FROM data\n",
    "                            GROUP BY is_fraud\"\"\")\n",
    "fraud_counts.show()"
   ]
  },
  {
   "cell_type": "code",
   "execution_count": 11,
   "metadata": {
    "cell_id": "00010-da4d9728-2586-43f9-a1f2-e55cbc8e4158",
    "deepnote_cell_type": "code",
    "deepnote_to_be_reexecuted": false,
    "execution_millis": 5590,
    "execution_start": 1639720802476,
    "source_hash": "3ba778aa",
    "tags": []
   },
   "outputs": [
    {
     "name": "stdout",
     "output_type": "stream",
     "text": [
      "+------+-------+\n",
      "|gender|    cnt|\n",
      "+------+-------+\n",
      "|  male| 837645|\n",
      "|female|1014749|\n",
      "+------+-------+\n",
      "\n"
     ]
    }
   ],
   "source": [
    "gender_counts = spark.sql(r\"\"\"SELECT CASE when gender = 1 then 'male' \n",
    "                                          when gender = 2 then 'female' \n",
    "                                          end as gender \n",
    "                                          , COUNT(*) AS cnt \n",
    "                            FROM data\n",
    "                            GROUP BY gender\"\"\")\n",
    "gender_counts.show()\n",
    "# male - 1, female - 2"
   ]
  },
  {
   "cell_type": "code",
   "execution_count": 12,
   "metadata": {
    "cell_id": "00011-ec51d73e-fe47-4f93-aaba-37aafc834923",
    "deepnote_cell_type": "code",
    "deepnote_to_be_reexecuted": false,
    "execution_millis": 5532,
    "execution_start": 1639720808074,
    "source_hash": "780cd08a",
    "tags": []
   },
   "outputs": [
    {
     "name": "stdout",
     "output_type": "stream",
     "text": [
      "+------+-------------------+\n",
      "|gender|                amt|\n",
      "+------+-------------------+\n",
      "|  male|5.879701363000017E7|\n",
      "|female|7.098831837999928E7|\n",
      "+------+-------------------+\n",
      "\n"
     ]
    }
   ],
   "source": [
    "gender_amounts = spark.sql(r\"\"\"SELECT CASE when gender = 1 then 'male' \n",
    "                                           when gender = 2 then 'female' \n",
    "                                           end as gender \n",
    "                                          , SUM(amt) AS amt \n",
    "                            FROM data\n",
    "                            GROUP BY gender\"\"\")\n",
    "gender_amounts.show()\n",
    "# male - 1, female - 2"
   ]
  },
  {
   "cell_type": "code",
   "execution_count": 13,
   "metadata": {
    "cell_id": "00012-21cc7a34-0784-4fd9-8411-b1305e28ec6b",
    "deepnote_cell_type": "code",
    "deepnote_to_be_reexecuted": false,
    "execution_millis": 9025,
    "execution_start": 1639720813578,
    "source_hash": "67277498",
    "tags": []
   },
   "outputs": [
    {
     "name": "stdout",
     "output_type": "stream",
     "text": [
      "+------+--------+-------+\n",
      "|gender|is_fraud|    cnt|\n",
      "+------+--------+-------+\n",
      "|  male|       0| 832893|\n",
      "|  male|       1|   4752|\n",
      "|female|       1|   4899|\n",
      "|female|       0|1009850|\n",
      "+------+--------+-------+\n",
      "\n"
     ]
    }
   ],
   "source": [
    "fraud_by_gender_cnt = spark.sql(r\"\"\"SELECT CASE when gender = 1 then 'male' \n",
    "                                           when gender = 2 then 'female' \n",
    "                                           end as gender\n",
    "                                           , is_fraud\n",
    "                                           , COUNT(*) AS cnt \n",
    "                            FROM data\n",
    "                            GROUP BY gender, is_fraud\"\"\")\n",
    "fraud_by_gender_cnt.show()\n",
    "# male - 1, female - 2"
   ]
  },
  {
   "cell_type": "code",
   "execution_count": 14,
   "metadata": {
    "cell_id": "00013-43283e55-0227-4b8e-a0e7-29a68328dfec",
    "deepnote_cell_type": "code",
    "deepnote_to_be_reexecuted": false,
    "execution_millis": 7949,
    "execution_start": 1639720822634,
    "source_hash": "aebecf00",
    "tags": []
   },
   "outputs": [
    {
     "name": "stdout",
     "output_type": "stream",
     "text": [
      "+------+--------+-------------------+\n",
      "|gender|is_fraud|                amt|\n",
      "+------+--------+-------------------+\n",
      "|  male|       0|5.607834692000026E7|\n",
      "|  male|       1| 2718666.7100000037|\n",
      "|female|       1|         2402746.58|\n",
      "|female|       0| 6.85855717999996E7|\n",
      "+------+--------+-------------------+\n",
      "\n"
     ]
    }
   ],
   "source": [
    "fraud_by_gender_amt = spark.sql(r\"\"\"SELECT CASE when gender = 1 then 'male' \n",
    "                                           when gender = 2 then 'female' \n",
    "                                           end as gender\n",
    "                                           , is_fraud\n",
    "                                           , sum(amt) AS amt \n",
    "                            FROM data\n",
    "                            GROUP BY gender, is_fraud\"\"\")\n",
    "fraud_by_gender_amt.show()\n",
    "# male - 1, female - 2"
   ]
  },
  {
   "cell_type": "code",
   "execution_count": 15,
   "metadata": {
    "cell_id": "00014-6a2feffd-a16d-4944-88c9-1456f256a37a",
    "deepnote_cell_type": "code",
    "deepnote_to_be_reexecuted": false,
    "execution_millis": 670,
    "execution_start": 1639720830606,
    "source_hash": "de25e40e",
    "tags": []
   },
   "outputs": [
    {
     "name": "stdout",
     "output_type": "stream",
     "text": [
      "+------+------+--------+----+----------------+-----------------+------------------+----------------+---------------+-----------------+---------------+---------------+------------------+--------+-------------+------------+------------+-----------------+----------------+----------------+----------+--------+\n",
      "|   amt|gender|city_pop| age|tran_day_of_week|tran_day_of_month|tran_month_of_year|tran_hour_of_day|cat_food_dining|cat_gas_transport|cat_grocery_net|cat_grocery_pos|cat_health_fitness|cat_home|cat_kids_pets|cat_misc_net|cat_misc_pos|cat_personal_care|cat_shopping_net|cat_shopping_pos|cat_travel|is_fraud|\n",
      "+------+------+--------+----+----------------+-----------------+------------------+----------------+---------------+-----------------+---------------+---------------+------------------+--------+-------------+------------+------------+-----------------+----------------+----------------+----------+--------+\n",
      "|  2.86|     1|  333497|52.0|               6|               21|                 6|              12|              0|                0|              0|              0|                 0|       0|            0|           0|           0|                1|               0|               0|         0|       0|\n",
      "| 29.84|     2|     302|30.0|               6|               21|                 6|              12|              0|                0|              0|              0|                 0|       0|            0|           0|           0|                1|               0|               0|         0|       0|\n",
      "| 41.28|     2|   34496|50.0|               6|               21|                 6|              12|              0|                0|              0|              0|                 1|       0|            0|           0|           0|                0|               0|               0|         0|       0|\n",
      "| 60.05|     1|   54767|33.0|               6|               21|                 6|              12|              0|                0|              0|              0|                 0|       0|            0|           0|           1|                0|               0|               0|         0|       0|\n",
      "|  3.19|     1|    1126|65.0|               6|               21|                 6|              12|              0|                0|              0|              0|                 0|       0|            0|           0|           0|                0|               0|               0|         1|       0|\n",
      "| 19.55|     2|     520|29.0|               6|               21|                 6|              12|              0|                0|              0|              0|                 0|       0|            1|           0|           0|                0|               0|               0|         0|       0|\n",
      "|133.93|     2|    1139|69.0|               6|               21|                 6|              12|              0|                0|              0|              0|                 1|       0|            0|           0|           0|                0|               0|               0|         0|       0|\n",
      "| 10.37|     2|     343|48.0|               6|               21|                 6|              12|              0|                0|              0|              0|                 0|       0|            0|           0|           0|                1|               0|               0|         0|       0|\n",
      "|  4.37|     1|    3688|47.0|               6|               21|                 6|              12|              0|                0|              0|              0|                 0|       0|            0|           0|           0|                0|               0|               1|         0|       0|\n",
      "| 66.54|     2|     263|64.0|               6|               21|                 6|              12|              1|                0|              0|              0|                 0|       0|            0|           0|           0|                0|               0|               0|         0|       0|\n",
      "|  7.01|     1|     564|24.0|               6|               21|                 6|              12|              1|                0|              0|              0|                 0|       0|            0|           0|           0|                0|               0|               0|         0|       0|\n",
      "|  42.4|     1|    1645|44.0|               6|               21|                 6|              12|              0|                0|              0|              0|                 0|       0|            1|           0|           0|                0|               0|               0|         0|       0|\n",
      "|  2.91|     2|   26551|43.0|               6|               21|                 6|              12|              0|                0|              0|              0|                 0|       1|            0|           0|           0|                0|               0|               0|         0|       0|\n",
      "|  7.93|     1|    2258|83.0|               6|               21|                 6|              12|              1|                0|              0|              0|                 0|       0|            0|           0|           0|                0|               0|               0|         0|       0|\n",
      "|  2.91|     2|    1089|49.0|               6|               21|                 6|              12|              0|                0|              0|              0|                 0|       0|            1|           0|           0|                0|               0|               0|         0|       0|\n",
      "| 24.73|     2|   88735|32.0|               6|               21|                 6|              12|              0|                0|              0|              0|                 0|       0|            0|           0|           0|                0|               0|               0|         0|       0|\n",
      "|  2.33|     1|   32891|33.0|               6|               21|                 6|              12|              0|                0|              0|              0|                 0|       0|            0|           0|           0|                0|               0|               1|         0|       0|\n",
      "|  16.6|     2|    5875|28.0|               6|               21|                 6|              12|              0|                0|              0|              0|                 0|       0|            1|           0|           0|                0|               0|               0|         0|       0|\n",
      "| 80.11|     2|   10076|43.0|               6|               21|                 6|              12|              0|                0|              0|              0|                 0|       0|            0|           0|           0|                0|               0|               0|         0|       0|\n",
      "|  5.71|     2|     606|23.0|               6|               21|                 6|              12|              0|                0|              0|              0|                 0|       0|            0|           0|           0|                1|               0|               0|         0|       0|\n",
      "+------+------+--------+----+----------------+-----------------+------------------+----------------+---------------+-----------------+---------------+---------------+------------------+--------+-------------+------------+------------+-----------------+----------------+----------------+----------+--------+\n",
      "only showing top 20 rows\n",
      "\n"
     ]
    }
   ],
   "source": [
    "spark_df.show()"
   ]
  },
  {
   "cell_type": "markdown",
   "metadata": {
    "cell_id": "00015-a3f8a026-674f-4587-a080-3a6bfdd99316",
    "deepnote_cell_type": "markdown",
    "tags": []
   },
   "source": [
    "### split data into train, val, and test (stratified)"
   ]
  },
  {
   "cell_type": "code",
   "execution_count": 16,
   "metadata": {
    "cell_id": "00015-97c1ce38-0583-4419-86b9-c41807b742fc",
    "deepnote_cell_type": "code",
    "deepnote_to_be_reexecuted": false,
    "execution_millis": 8456,
    "execution_start": 1639720831303,
    "source_hash": "1c65a719",
    "tags": []
   },
   "outputs": [],
   "source": [
    "fractions = spark_df.select(\"is_fraud\").distinct().withColumn(\"fraction\", lit(0.6)).rdd.collectAsMap()                                                         \n",
    "train_df = spark_df.stat.sampleBy(\"is_fraud\", fractions, seed = 42)"
   ]
  },
  {
   "cell_type": "code",
   "execution_count": 17,
   "metadata": {
    "cell_id": "00016-9c970e7f-8d73-40e0-8edd-91128223818d",
    "deepnote_cell_type": "code",
    "deepnote_to_be_reexecuted": false,
    "execution_millis": 160,
    "execution_start": 1639720839784,
    "source_hash": "b9449440",
    "tags": []
   },
   "outputs": [],
   "source": [
    "test_df = spark_df.subtract(train_df)"
   ]
  },
  {
   "cell_type": "code",
   "execution_count": 18,
   "metadata": {
    "cell_id": "00018-587d6dd3-7e0c-4e77-a6ed-ed0b53ade037",
    "deepnote_cell_type": "code",
    "deepnote_to_be_reexecuted": false,
    "execution_millis": 57774,
    "execution_start": 1639720839981,
    "source_hash": "3f91afd7",
    "tags": []
   },
   "outputs": [],
   "source": [
    "fractions = test_df.select(\"is_fraud\").distinct().withColumn(\"fraction\", lit(0.5)).rdd.collectAsMap()                                                         \n",
    "val_df = test_df.stat.sampleBy(\"is_fraud\", fractions, seed = 42)"
   ]
  },
  {
   "cell_type": "code",
   "execution_count": 19,
   "metadata": {
    "cell_id": "00019-0a17e7fe-e70a-413f-8191-3fa41b47e48f",
    "deepnote_cell_type": "code",
    "deepnote_to_be_reexecuted": false,
    "execution_millis": 64,
    "execution_start": 1639720897761,
    "source_hash": "dc3df2e0",
    "tags": []
   },
   "outputs": [],
   "source": [
    "test_df = test_df.subtract(val_df)"
   ]
  },
  {
   "cell_type": "code",
   "execution_count": 20,
   "metadata": {
    "cell_id": "00020-8de6fd42-7455-4deb-abd7-52b1d5d01e8e",
    "deepnote_cell_type": "code",
    "deepnote_to_be_reexecuted": false,
    "execution_millis": 5299,
    "execution_start": 1639720897842,
    "source_hash": "da96d146",
    "tags": []
   },
   "outputs": [
    {
     "name": "stdout",
     "output_type": "stream",
     "text": [
      "+--------+-------+\n",
      "|is_fraud|  count|\n",
      "+--------+-------+\n",
      "|       1|   5765|\n",
      "|       0|1106662|\n",
      "+--------+-------+\n",
      "\n"
     ]
    }
   ],
   "source": [
    "train_df.groupBy('is_fraud').count().show()"
   ]
  },
  {
   "cell_type": "code",
   "execution_count": 21,
   "metadata": {
    "cell_id": "00021-e313f2b4-f6c9-4b20-ada1-70d632683c53",
    "deepnote_cell_type": "code",
    "deepnote_to_be_reexecuted": false,
    "execution_millis": 50362,
    "execution_start": 1639720903153,
    "source_hash": "f817dbb5",
    "tags": []
   },
   "outputs": [
    {
     "name": "stdout",
     "output_type": "stream",
     "text": [
      "+--------+------+\n",
      "|is_fraud| count|\n",
      "+--------+------+\n",
      "|       1|  1961|\n",
      "|       0|368407|\n",
      "+--------+------+\n",
      "\n"
     ]
    }
   ],
   "source": [
    "val_df.groupBy('is_fraud').count().show()"
   ]
  },
  {
   "cell_type": "code",
   "execution_count": 22,
   "metadata": {
    "cell_id": "00022-6a2f58e9-b1b3-4eb1-a60b-a30939f2f8a1",
    "deepnote_cell_type": "code",
    "deepnote_to_be_reexecuted": false,
    "execution_millis": 64557,
    "execution_start": 1639720953522,
    "source_hash": "3a1ad524",
    "tags": []
   },
   "outputs": [
    {
     "name": "stdout",
     "output_type": "stream",
     "text": [
      "+--------+------+\n",
      "|is_fraud| count|\n",
      "+--------+------+\n",
      "|       1|  1924|\n",
      "|       0|367670|\n",
      "+--------+------+\n",
      "\n"
     ]
    }
   ],
   "source": [
    "test_df.groupBy('is_fraud').count().show()"
   ]
  },
  {
   "cell_type": "markdown",
   "metadata": {
    "cell_id": "00023-ed29c5e5-d876-41ae-b157-14631355133b",
    "deepnote_cell_type": "markdown",
    "tags": []
   },
   "source": [
    "### oversample the minority class"
   ]
  },
  {
   "cell_type": "code",
   "execution_count": 23,
   "metadata": {
    "cell_id": "00025-38f32f22-69eb-45ab-acf6-157665752229",
    "deepnote_cell_type": "code",
    "deepnote_to_be_reexecuted": false,
    "execution_millis": 15745,
    "execution_start": 1639721018120,
    "source_hash": "9769a8ae",
    "tags": []
   },
   "outputs": [
    {
     "name": "stdout",
     "output_type": "stream",
     "text": [
      "ratio: 191\n"
     ]
    }
   ],
   "source": [
    "# Implement oversampling method\n",
    "import pyspark.sql.functions as F\n",
    "\n",
    "# calculate ratio\n",
    "major_df = train_df.filter(train_df.is_fraud == 0)\n",
    "minor_df = train_df.filter(train_df.is_fraud == 1)\n",
    "ratio = int(major_df.count()/minor_df.count())\n",
    "print(\"ratio: {}\".format(ratio))\n",
    "a = range(ratio)\n",
    "\n",
    "# duplicate the minority rows\n",
    "oversampled_df = minor_df.withColumn(\"dummy\", F.explode(F.array([F.lit(x) for x in a]))).drop('dummy')\n",
    "\n",
    "# combine both oversampled minority rows and previous majority rows \n",
    "train_df_os = major_df.unionAll(oversampled_df)"
   ]
  },
  {
   "cell_type": "code",
   "execution_count": 24,
   "metadata": {
    "cell_id": "00026-e41e5416-bd6f-4796-9675-320c377263a5",
    "deepnote_cell_type": "code",
    "deepnote_to_be_reexecuted": false,
    "execution_millis": 14482,
    "execution_start": 1639721033872,
    "source_hash": "e79f5c96",
    "tags": []
   },
   "outputs": [
    {
     "name": "stdout",
     "output_type": "stream",
     "text": [
      "+--------+-------+\n",
      "|is_fraud|  count|\n",
      "+--------+-------+\n",
      "|       0|1106662|\n",
      "|       1|1101115|\n",
      "+--------+-------+\n",
      "\n"
     ]
    }
   ],
   "source": [
    "train_df_os.groupby('is_fraud').count().show()"
   ]
  },
  {
   "cell_type": "markdown",
   "metadata": {
    "cell_id": "00026-fc7c27a3-c1bf-4d0b-9f78-bedc51bf35d6",
    "deepnote_cell_type": "markdown",
    "tags": []
   },
   "source": [
    "### Modeling"
   ]
  },
  {
   "cell_type": "code",
   "execution_count": 25,
   "metadata": {
    "cell_id": "00027-ff41ca2c-78e1-40b8-b793-d1c424f555ca",
    "deepnote_cell_type": "code",
    "deepnote_output_heights": [
     424.34375
    ],
    "deepnote_to_be_reexecuted": false,
    "execution_millis": 21,
    "execution_start": 1639721048368,
    "source_hash": "640c6f9e",
    "tags": []
   },
   "outputs": [
    {
     "data": {
      "text/plain": [
       "['amt',\n",
       " 'gender',\n",
       " 'city_pop',\n",
       " 'age',\n",
       " 'tran_day_of_week',\n",
       " 'tran_day_of_month',\n",
       " 'tran_month_of_year',\n",
       " 'tran_hour_of_day',\n",
       " 'cat_food_dining',\n",
       " 'cat_gas_transport',\n",
       " 'cat_grocery_net',\n",
       " 'cat_grocery_pos',\n",
       " 'cat_health_fitness',\n",
       " 'cat_home',\n",
       " 'cat_kids_pets',\n",
       " 'cat_misc_net',\n",
       " 'cat_misc_pos',\n",
       " 'cat_personal_care',\n",
       " 'cat_shopping_net',\n",
       " 'cat_shopping_pos',\n",
       " 'cat_travel',\n",
       " 'is_fraud']"
      ]
     },
     "execution_count": 25,
     "metadata": {},
     "output_type": "execute_result"
    }
   ],
   "source": [
    "train_df_os.schema.names#[:-1]"
   ]
  },
  {
   "cell_type": "code",
   "execution_count": 26,
   "metadata": {
    "cell_id": "00028-9bec59c1-0d03-468d-882d-fab95f3ece2d",
    "deepnote_cell_type": "code",
    "deepnote_to_be_reexecuted": false,
    "execution_millis": 420,
    "execution_start": 1639721048424,
    "source_hash": "3ac63754",
    "tags": []
   },
   "outputs": [],
   "source": [
    "# the feature columns\n",
    "features = train_df_os.schema.names[:-1]\n",
    "\n",
    "assembler = VectorAssembler(inputCols=features, outputCol='features')\n",
    "\n",
    "train_pack = assembler.transform(train_df_os)\n",
    "val_pack = assembler.transform(val_df)\n",
    "test_pack = assembler.transform(test_df)"
   ]
  },
  {
   "cell_type": "code",
   "execution_count": 27,
   "metadata": {
    "cell_id": "00029-8e698ae1-8a43-4e51-b986-7d521773c5f4",
    "deepnote_cell_type": "code",
    "deepnote_to_be_reexecuted": false,
    "execution_millis": 23856,
    "execution_start": 1639721048863,
    "source_hash": "a5981c4",
    "tags": []
   },
   "outputs": [],
   "source": [
    "# scaling\n",
    "minmaxscale = MinMaxScaler(inputCol='features', outputCol='features_scaled')\n",
    "minmaxscale = minmaxscale.fit(train_pack)\n",
    "\n",
    "train_pack = minmaxscale.transform(train_pack)\n",
    "val_pack  = minmaxscale.transform(val_pack)\n",
    "test_pack  = minmaxscale.transform(test_pack)"
   ]
  },
  {
   "cell_type": "code",
   "execution_count": 28,
   "metadata": {
    "cell_id": "00030-2fbbedfd-0717-40b9-bc50-3dcf73d86cc5",
    "deepnote_cell_type": "code",
    "deepnote_to_be_reexecuted": false,
    "execution_millis": 80196,
    "execution_start": 1639721072731,
    "source_hash": "e3337013",
    "tags": []
   },
   "outputs": [],
   "source": [
    "# logistic regression\n",
    "lr = LogisticRegression(labelCol='is_fraud', \n",
    "                        featuresCol='features_scaled',\n",
    "                        predictionCol='prediction')\n",
    "\n",
    "lr_model = lr.fit(train_pack)\n",
    "lr_pred = lr_model.transform(val_pack)"
   ]
  },
  {
   "cell_type": "code",
   "execution_count": 29,
   "metadata": {
    "cell_id": "00031-1610892e-1137-4695-b0a9-26644434a4f5",
    "deepnote_cell_type": "code",
    "deepnote_to_be_reexecuted": false,
    "execution_millis": 105508,
    "execution_start": 1639721152970,
    "source_hash": "8a3d431",
    "tags": []
   },
   "outputs": [],
   "source": [
    "# Random Forest (depth = 2)\n",
    "rf = RandomForestClassifier(maxDepth=2, \n",
    "                            labelCol='is_fraud',\n",
    "                            featuresCol='features',\n",
    "                            predictionCol='prediction')\n",
    "\n",
    "rf_model = rf.fit(train_pack)\n",
    "rf_pred = rf_model.transform(val_pack)"
   ]
  },
  {
   "cell_type": "code",
   "execution_count": 30,
   "metadata": {
    "cell_id": "00032-628919fc-09d3-4ff6-8e60-e49eedd1ce16",
    "deepnote_cell_type": "code",
    "deepnote_to_be_reexecuted": false,
    "execution_millis": 339673,
    "execution_start": 1639721258522,
    "source_hash": "e43b5ded",
    "tags": []
   },
   "outputs": [],
   "source": [
    "# Gradient Boosted Tree (depth = 2)\n",
    "gbt = GBTClassifier(maxDepth=2, \n",
    "                    labelCol='is_fraud', \n",
    "                    featuresCol='features',\n",
    "                    predictionCol='prediction')\n",
    "\n",
    "gbt_model = gbt.fit(train_pack)\n",
    "gbt_pred = gbt_model.transform(val_pack)"
   ]
  },
  {
   "cell_type": "code",
   "execution_count": 31,
   "metadata": {
    "cell_id": "00033-8eb48098-e015-4bf0-ab70-67081661cdd7",
    "deepnote_cell_type": "code",
    "deepnote_to_be_reexecuted": false,
    "execution_millis": 43,
    "execution_start": 1639721598239,
    "source_hash": "8b46394f",
    "tags": []
   },
   "outputs": [],
   "source": [
    "accuracy = MulticlassClassificationEvaluator(labelCol='is_fraud', \n",
    "                                             predictionCol='prediction',\n",
    "                                             metricName='accuracy')\n",
    "\n",
    "precision = MulticlassClassificationEvaluator(labelCol='is_fraud', \n",
    "                                              predictionCol='prediction',\n",
    "                                              metricName='weightedPrecision')\n",
    "\n",
    "recall = MulticlassClassificationEvaluator(labelCol='is_fraud', \n",
    "                                           predictionCol='prediction',\n",
    "                                           metricName='weightedRecall')\n",
    "\n",
    "f1 = MulticlassClassificationEvaluator(labelCol='is_fraud', \n",
    "                                       predictionCol='prediction',\n",
    "                                       metricName='f1')\n",
    "\n",
    "areaROC = BinaryClassificationEvaluator(labelCol='is_fraud',\n",
    "                                        rawPredictionCol='prediction',\n",
    "                                        metricName='areaUnderROC')\n",
    "\n",
    "areaPR = BinaryClassificationEvaluator(labelCol='is_fraud',\n",
    "                                       rawPredictionCol='prediction',\n",
    "                                       metricName='areaUnderPR')"
   ]
  },
  {
   "cell_type": "code",
   "execution_count": 32,
   "metadata": {
    "cell_id": "00034-4a05c4c1-a150-4081-a427-b9fddad87a04",
    "deepnote_cell_type": "code",
    "deepnote_output_heights": [
     119
    ],
    "deepnote_to_be_reexecuted": false,
    "execution_millis": 898470,
    "execution_start": 1639721598310,
    "source_hash": "7d7b4517",
    "tags": []
   },
   "outputs": [
    {
     "data": {
      "application/vnd.deepnote.dataframe.v3+json": {
       "column_count": 6,
       "columns": [
        {
         "dtype": "float64",
         "name": "accuracy",
         "stats": {
          "histogram": [
           {
            "bin_end": 0.8957175025920167,
            "bin_start": 0.8877980819077242,
            "count": 1
           },
           {
            "bin_end": 0.903636923276309,
            "bin_start": 0.8957175025920167,
            "count": 0
           },
           {
            "bin_end": 0.9115563439606014,
            "bin_start": 0.903636923276309,
            "count": 0
           },
           {
            "bin_end": 0.9194757646448938,
            "bin_start": 0.9115563439606014,
            "count": 0
           },
           {
            "bin_end": 0.9273951853291862,
            "bin_start": 0.9194757646448938,
            "count": 1
           },
           {
            "bin_end": 0.9353146060134785,
            "bin_start": 0.9273951853291862,
            "count": 0
           },
           {
            "bin_end": 0.9432340266977709,
            "bin_start": 0.9353146060134785,
            "count": 0
           },
           {
            "bin_end": 0.9511534473820633,
            "bin_start": 0.9432340266977709,
            "count": 0
           },
           {
            "bin_end": 0.9590728680663556,
            "bin_start": 0.9511534473820633,
            "count": 0
           },
           {
            "bin_end": 0.966992288750648,
            "bin_start": 0.9590728680663556,
            "count": 1
           }
          ],
          "max": "0.966992288750648",
          "min": "0.8877980819077242",
          "nan_count": 0,
          "unique_count": 3
         }
        },
        {
         "dtype": "float64",
         "name": "precision",
         "stats": {
          "histogram": [
           {
            "bin_end": 0.9935966782584011,
            "bin_start": 0.9934801411530998,
            "count": 1
           },
           {
            "bin_end": 0.9937132153637025,
            "bin_start": 0.9935966782584011,
            "count": 0
           },
           {
            "bin_end": 0.9938297524690038,
            "bin_start": 0.9937132153637025,
            "count": 0
           },
           {
            "bin_end": 0.9939462895743052,
            "bin_start": 0.9938297524690038,
            "count": 1
           },
           {
            "bin_end": 0.9940628266796065,
            "bin_start": 0.9939462895743052,
            "count": 0
           },
           {
            "bin_end": 0.994179363784908,
            "bin_start": 0.9940628266796065,
            "count": 0
           },
           {
            "bin_end": 0.9942959008902094,
            "bin_start": 0.994179363784908,
            "count": 0
           },
           {
            "bin_end": 0.9944124379955107,
            "bin_start": 0.9942959008902094,
            "count": 0
           },
           {
            "bin_end": 0.9945289751008121,
            "bin_start": 0.9944124379955107,
            "count": 0
           },
           {
            "bin_end": 0.9946455122061134,
            "bin_start": 0.9945289751008121,
            "count": 1
           }
          ],
          "max": "0.9946455122061134",
          "min": "0.9934801411530998",
          "nan_count": 0,
          "unique_count": 3
         }
        },
        {
         "dtype": "float64",
         "name": "recall",
         "stats": {
          "histogram": [
           {
            "bin_end": 0.8957175025920167,
            "bin_start": 0.8877980819077242,
            "count": 1
           },
           {
            "bin_end": 0.903636923276309,
            "bin_start": 0.8957175025920167,
            "count": 0
           },
           {
            "bin_end": 0.9115563439606014,
            "bin_start": 0.903636923276309,
            "count": 0
           },
           {
            "bin_end": 0.9194757646448938,
            "bin_start": 0.9115563439606014,
            "count": 0
           },
           {
            "bin_end": 0.9273951853291862,
            "bin_start": 0.9194757646448938,
            "count": 1
           },
           {
            "bin_end": 0.9353146060134785,
            "bin_start": 0.9273951853291862,
            "count": 0
           },
           {
            "bin_end": 0.9432340266977709,
            "bin_start": 0.9353146060134785,
            "count": 0
           },
           {
            "bin_end": 0.9511534473820633,
            "bin_start": 0.9432340266977709,
            "count": 0
           },
           {
            "bin_end": 0.9590728680663556,
            "bin_start": 0.9511534473820633,
            "count": 0
           },
           {
            "bin_end": 0.966992288750648,
            "bin_start": 0.9590728680663556,
            "count": 1
           }
          ],
          "max": "0.966992288750648",
          "min": "0.8877980819077242",
          "nan_count": 0,
          "unique_count": 3
         }
        },
        {
         "dtype": "float64",
         "name": "f1",
         "stats": {
          "histogram": [
           {
            "bin_end": 0.9400144941501406,
            "bin_start": 0.9356861525983641,
            "count": 1
           },
           {
            "bin_end": 0.9443428357019171,
            "bin_start": 0.9400144941501406,
            "count": 0
           },
           {
            "bin_end": 0.9486711772536937,
            "bin_start": 0.9443428357019171,
            "count": 0
           },
           {
            "bin_end": 0.9529995188054702,
            "bin_start": 0.9486711772536937,
            "count": 0
           },
           {
            "bin_end": 0.9573278603572467,
            "bin_start": 0.9529995188054702,
            "count": 1
           },
           {
            "bin_end": 0.9616562019090232,
            "bin_start": 0.9573278603572467,
            "count": 0
           },
           {
            "bin_end": 0.9659845434607998,
            "bin_start": 0.9616562019090232,
            "count": 0
           },
           {
            "bin_end": 0.9703128850125763,
            "bin_start": 0.9659845434607998,
            "count": 0
           },
           {
            "bin_end": 0.9746412265643528,
            "bin_start": 0.9703128850125763,
            "count": 0
           },
           {
            "bin_end": 0.9789695681161293,
            "bin_start": 0.9746412265643528,
            "count": 1
           }
          ],
          "max": "0.9789695681161293",
          "min": "0.9356861525983641",
          "nan_count": 0,
          "unique_count": 3
         }
        },
        {
         "dtype": "float64",
         "name": "areaROC",
         "stats": {
          "histogram": [
           {
            "bin_end": 0.835940473385637,
            "bin_start": 0.825669557503213,
            "count": 1
           },
           {
            "bin_end": 0.8462113892680609,
            "bin_start": 0.835940473385637,
            "count": 0
           },
           {
            "bin_end": 0.856482305150485,
            "bin_start": 0.8462113892680609,
            "count": 0
           },
           {
            "bin_end": 0.866753221032909,
            "bin_start": 0.856482305150485,
            "count": 1
           },
           {
            "bin_end": 0.8770241369153329,
            "bin_start": 0.866753221032909,
            "count": 0
           },
           {
            "bin_end": 0.8872950527977569,
            "bin_start": 0.8770241369153329,
            "count": 0
           },
           {
            "bin_end": 0.8975659686801809,
            "bin_start": 0.8872950527977569,
            "count": 0
           },
           {
            "bin_end": 0.9078368845626049,
            "bin_start": 0.8975659686801809,
            "count": 0
           },
           {
            "bin_end": 0.9181078004450288,
            "bin_start": 0.9078368845626049,
            "count": 0
           },
           {
            "bin_end": 0.9283787163274528,
            "bin_start": 0.9181078004450288,
            "count": 1
           }
          ],
          "max": "0.9283787163274528",
          "min": "0.825669557503213",
          "nan_count": 0,
          "unique_count": 3
         }
        },
        {
         "dtype": "float64",
         "name": "areaPR",
         "stats": {
          "histogram": [
           {
            "bin_end": 0.038198162658007274,
            "bin_start": 0.03159098952507726,
            "count": 1
           },
           {
            "bin_end": 0.044805335790937297,
            "bin_start": 0.038198162658007274,
            "count": 0
           },
           {
            "bin_end": 0.05141250892386731,
            "bin_start": 0.044805335790937297,
            "count": 0
           },
           {
            "bin_end": 0.058019682056797334,
            "bin_start": 0.05141250892386731,
            "count": 0
           },
           {
            "bin_end": 0.06462685518972736,
            "bin_start": 0.058019682056797334,
            "count": 1
           },
           {
            "bin_end": 0.07123402832265736,
            "bin_start": 0.06462685518972736,
            "count": 0
           },
           {
            "bin_end": 0.07784120145558739,
            "bin_start": 0.07123402832265736,
            "count": 0
           },
           {
            "bin_end": 0.0844483745885174,
            "bin_start": 0.07784120145558739,
            "count": 0
           },
           {
            "bin_end": 0.09105554772144742,
            "bin_start": 0.0844483745885174,
            "count": 0
           },
           {
            "bin_end": 0.09766272085437744,
            "bin_start": 0.09105554772144742,
            "count": 1
           }
          ],
          "max": "0.09766272085437744",
          "min": "0.03159098952507726",
          "nan_count": 0,
          "unique_count": 3
         }
        },
        {
         "dtype": "object",
         "name": "_deepnote_index_column"
        }
       ],
       "row_count": 3,
       "rows": [
        {
         "_deepnote_index_column": "LR",
         "accuracy": 0.8877980819077242,
         "areaPR": 0.03159098952507726,
         "areaROC": 0.825669557503213,
         "f1": 0.9356861525983641,
         "precision": 0.9934801411530998,
         "recall": 0.8877980819077242
        },
        {
         "_deepnote_index_column": "RF",
         "accuracy": 0.966992288750648,
         "areaPR": 0.09766272085437744,
         "areaROC": 0.8576153755198966,
         "f1": 0.9789695681161293,
         "precision": 0.9939118423583031,
         "recall": 0.966992288750648
        },
        {
         "_deepnote_index_column": "GBT",
         "accuracy": 0.9236111111111112,
         "areaPR": 0.059157064318699784,
         "areaROC": 0.9283787163274528,
         "f1": 0.9556068560395913,
         "precision": 0.9946455122061134,
         "recall": 0.9236111111111112
        }
       ]
      },
      "text/html": [
       "<div>\n",
       "<style scoped>\n",
       "    .dataframe tbody tr th:only-of-type {\n",
       "        vertical-align: middle;\n",
       "    }\n",
       "\n",
       "    .dataframe tbody tr th {\n",
       "        vertical-align: top;\n",
       "    }\n",
       "\n",
       "    .dataframe thead th {\n",
       "        text-align: right;\n",
       "    }\n",
       "</style>\n",
       "<table border=\"1\" class=\"dataframe\">\n",
       "  <thead>\n",
       "    <tr style=\"text-align: right;\">\n",
       "      <th></th>\n",
       "      <th>accuracy</th>\n",
       "      <th>precision</th>\n",
       "      <th>recall</th>\n",
       "      <th>f1</th>\n",
       "      <th>areaROC</th>\n",
       "      <th>areaPR</th>\n",
       "    </tr>\n",
       "  </thead>\n",
       "  <tbody>\n",
       "    <tr>\n",
       "      <th>LR</th>\n",
       "      <td>0.887798</td>\n",
       "      <td>0.993480</td>\n",
       "      <td>0.887798</td>\n",
       "      <td>0.935686</td>\n",
       "      <td>0.825670</td>\n",
       "      <td>0.031591</td>\n",
       "    </tr>\n",
       "    <tr>\n",
       "      <th>RF</th>\n",
       "      <td>0.966992</td>\n",
       "      <td>0.993912</td>\n",
       "      <td>0.966992</td>\n",
       "      <td>0.978970</td>\n",
       "      <td>0.857615</td>\n",
       "      <td>0.097663</td>\n",
       "    </tr>\n",
       "    <tr>\n",
       "      <th>GBT</th>\n",
       "      <td>0.923611</td>\n",
       "      <td>0.994646</td>\n",
       "      <td>0.923611</td>\n",
       "      <td>0.955607</td>\n",
       "      <td>0.928379</td>\n",
       "      <td>0.059157</td>\n",
       "    </tr>\n",
       "  </tbody>\n",
       "</table>\n",
       "</div>"
      ],
      "text/plain": [
       "     accuracy  precision    recall        f1   areaROC    areaPR\n",
       "LR   0.887798   0.993480  0.887798  0.935686  0.825670  0.031591\n",
       "RF   0.966992   0.993912  0.966992  0.978970  0.857615  0.097663\n",
       "GBT  0.923611   0.994646  0.923611  0.955607  0.928379  0.059157"
      ]
     },
     "execution_count": 32,
     "metadata": {},
     "output_type": "execute_result"
    }
   ],
   "source": [
    "# the error metrics\n",
    "metrics = [accuracy, precision, recall, f1, areaROC, areaPR]\n",
    "metric_labels = ['accuracy', 'precision', 'recall', 'f1', 'areaROC', 'areaPR']\n",
    "\n",
    "# the predictions from each model\n",
    "predictions = [lr_pred, rf_pred, gbt_pred]\n",
    "predict_labels = ['LR', 'RF', 'GBT']\n",
    "\n",
    "eval_list = list()\n",
    "\n",
    "# for each model's predictions, calculate error metrics\n",
    "# and add to a Pandas series\n",
    "for pred in zip(predict_labels, predictions):\n",
    "    name = pred[0]\n",
    "    predict = pred[1]\n",
    "    \n",
    "    metric_vals = pd.Series(dict([(x[0], x[1].evaluate(predict)) \n",
    "                                 for x in zip(metric_labels, metrics)]),\n",
    "                            name=name)\n",
    "    eval_list.append(metric_vals)\n",
    "    \n",
    "# combine all the series into a dataframe\n",
    "eval_df = pd.concat(eval_list, axis=1).T\n",
    "eval_df = eval_df[metric_labels]\n",
    "eval_df"
   ]
  },
  {
   "cell_type": "markdown",
   "metadata": {
    "cell_id": "00035-b76f2f32-df13-4fa7-a269-3d0251de189f",
    "deepnote_cell_type": "markdown",
    "tags": []
   },
   "source": [
    "### Grid Search CV to tune the model"
   ]
  },
  {
   "cell_type": "code",
   "execution_count": 50,
   "metadata": {
    "cell_id": "00039-8e968fe2-2cfc-4628-9ecd-cb6ec8f3935d",
    "deepnote_cell_type": "code",
    "deepnote_to_be_reexecuted": false,
    "execution_millis": 16,
    "execution_start": 1639729473583,
    "source_hash": "8f8b12b4",
    "tags": []
   },
   "outputs": [],
   "source": [
    "# Tuning the GradientBoostedTree model\n",
    "gbt_2 = GBTClassifier(featuresCol='features',\n",
    "                     labelCol='is_fraud', \n",
    "                     predictionCol='prediction')\n",
    " \n",
    "# the pipeline\n",
    "pipeline = Pipeline(stages=[assembler, gbt_2]) \n",
    "\n",
    "# the parameter grid\n",
    "paramgrid = (ParamGridBuilder().addGrid(gbt_2.maxDepth, [2, 4, 6])\n",
    "                               .addGrid(gbt_2.stepSize, [0.001, 0.01, 0.1, 1])\n",
    "# commented out, training takes too much time                               .addGrid(gbt_2.maxBins,  [10, 20, 40])\n",
    "# commented out, training takes too much time                               .addGrid(gbt_2.maxIter,  [5, 10, 20])\n",
    "                               .build())\n",
    "\n",
    "# use f1 score as the evaluation metric for best model \n",
    "evaluator = MulticlassClassificationEvaluator(labelCol='is_fraud', \n",
    "                                              predictionCol='prediction', \n",
    "                                              metricName='f1') "
   ]
  },
  {
   "cell_type": "code",
   "execution_count": 49,
   "metadata": {
    "cell_id": "00039-f006c813-51ac-4cde-9394-9e2744e0dccc",
    "deepnote_cell_type": "code",
    "deepnote_to_be_reexecuted": false,
    "execution_millis": 45852,
    "execution_start": 1639729474040,
    "source_hash": "f24f9fe1",
    "tags": []
   },
   "outputs": [],
   "source": [
    "# 5 folds CV\n",
    "crossval = CrossValidator(estimator=pipeline, \n",
    "                          estimatorParamMaps=paramgrid, \n",
    "                          evaluator=evaluator, \n",
    "                          numFolds=5) \n",
    "\n",
    "gbt_tuned_model = crossval.fit(train_df_os) "
   ]
  },
  {
   "cell_type": "code",
   "execution_count": null,
   "metadata": {
    "cell_id": "00038-3a9d39cb-1eed-4280-9ca0-32518b593f37",
    "deepnote_cell_type": "code",
    "tags": []
   },
   "outputs": [],
   "source": [
    "# return the best model based on f1 score\n",
    "best_pipeline = gbt_tuned_model.bestModel\n",
    "\n",
    "best_gbt_model = best_pipeline.stages[1]"
   ]
  },
  {
   "cell_type": "code",
   "execution_count": null,
   "metadata": {
    "cell_id": "00039-1b5405c4-f6ff-44f1-b683-b423e2509f76",
    "deepnote_cell_type": "code",
    "tags": []
   },
   "outputs": [],
   "source": [
    "# number of trees\n",
    "len(best_gbt_model.trees)"
   ]
  },
  {
   "cell_type": "code",
   "execution_count": null,
   "metadata": {
    "cell_id": "00040-68bc913b-c252-4396-b715-22a7e3792d5a",
    "deepnote_cell_type": "code",
    "tags": []
   },
   "outputs": [],
   "source": [
    "# list some of the trees\n",
    "best_gbt_model.trees[:10]"
   ]
  },
  {
   "cell_type": "code",
   "execution_count": null,
   "metadata": {
    "cell_id": "00041-0c7260f5-bbfa-4115-b770-c394619b24d5",
    "deepnote_cell_type": "code",
    "tags": []
   },
   "outputs": [],
   "source": [
    "# weights\n",
    "best_gbt_model.treeWeights[:10]"
   ]
  },
  {
   "cell_type": "code",
   "execution_count": null,
   "metadata": {
    "cell_id": "00042-5bbd5677-96e6-4cc5-a0b9-8a2771ddc170",
    "deepnote_cell_type": "code",
    "tags": []
   },
   "outputs": [],
   "source": [
    "# extract feature importances\n",
    "feature_importances = best_gbt_model.featureImportances.toArray()\n",
    "\n",
    "# extract feature names, except for the predictor\n",
    "feature_names = train_df_os.columns[:-1]\n",
    "\n",
    "feature_series = (pd.Series(dict(zip(feature_names, feature_importances)))\n",
    "                  .sort_values(ascending=True))\n",
    "\n",
    "feature_series"
   ]
  },
  {
   "cell_type": "code",
   "execution_count": null,
   "metadata": {
    "cell_id": "00043-dc528eef-03dc-4ccd-9cce-c9de3ae7dfea",
    "deepnote_cell_type": "code",
    "tags": []
   },
   "outputs": [],
   "source": [
    "sns.set_palette('dark')\n",
    "sns.set_context('notebook')\n",
    "sns.set_style('white')\n",
    "\n",
    "ax = feature_series.plot(kind='barh')\n",
    "_ = ax.set(xlabel='Relative Importance', \n",
    "           ylabel='Features', \n",
    "           title='Feature Importances for Best GradientBoostedTree Model')\n",
    "\n",
    "fig = plt.gcf()"
   ]
  },
  {
   "cell_type": "markdown",
   "metadata": {
    "cell_id": "00044-c6a260f9-577e-4852-9591-853b5671b8dd",
    "deepnote_cell_type": "markdown",
    "tags": []
   },
   "source": [
    "### Model testing"
   ]
  },
  {
   "cell_type": "code",
   "execution_count": null,
   "metadata": {
    "cell_id": "00045-a2f67c20-4d2c-4e49-aff5-67b0c545fe7c",
    "deepnote_cell_type": "code",
    "tags": []
   },
   "outputs": [],
   "source": [
    "gbt_pred_test = best_pipeline.transform(test_df)\n",
    "\n",
    "evaluate_model_predictions([gbt_pred_test], ['GBT_GridSearch'])"
   ]
  },
  {
   "cell_type": "markdown",
   "metadata": {
    "created_in_deepnote_cell": true,
    "deepnote_cell_type": "markdown",
    "tags": []
   },
   "source": [
    "<a style='text-decoration:none;line-height:16px;display:flex;color:#5B5B62;padding:10px;justify-content:end;' href='https://deepnote.com?utm_source=created-in-deepnote-cell&projectId=1ffa185a-4bcd-432d-b0bf-f70e3dc06cbd' target=\"_blank\">\n",
    "<img alt='Created in deepnote.com' style='display:inline;max-height:16px;margin:0px;margin-right:7.5px;' src='data:image/svg+xml;base64,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' > </img>\n",
    "Created in <span style='font-weight:600;margin-left:4px;'>Deepnote</span></a>"
   ]
  }
 ],
 "metadata": {
  "deepnote": {
   "is_reactive": false
  },
  "deepnote_execution_queue": [
   {
    "cellId": "00039-f006c813-51ac-4cde-9394-9e2744e0dccc",
    "msgId": "d8a887d0-83ee-4fdf-83c5-7f19131454b4",
    "sessionId": "2a36bdef-ff31-425d-ab4a-c1d6916c3b02"
   }
  ],
  "deepnote_notebook_id": "250742c5-eb7d-4646-8dc1-e087c7b4ae73",
  "kernelspec": {
   "display_name": "Python [conda env:metis] *",
   "language": "python",
   "name": "conda-env-metis-py"
  },
  "language_info": {
   "codemirror_mode": {
    "name": "ipython",
    "version": 3
   },
   "file_extension": ".py",
   "mimetype": "text/x-python",
   "name": "python",
   "nbconvert_exporter": "python",
   "pygments_lexer": "ipython3",
   "version": "3.8.10"
  }
 },
 "nbformat": 4,
 "nbformat_minor": 4
}
