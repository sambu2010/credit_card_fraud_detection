{
 "cells": [
  {
   "cell_type": "code",
   "execution_count": 384,
   "id": "fc7c09a7",
   "metadata": {},
   "outputs": [],
   "source": [
    "#data imports \n",
    "import pandas as pd\n",
    "import numpy as np\n",
    "\n",
    "#viz imports\n",
    "import matplotlib.pyplot as plt\n",
    "import seaborn as sns\n",
    "sns.set()\n",
    "\n",
    "# modeling imports\n",
    "from sklearn.linear_model import LogisticRegression\n",
    "from sklearn.tree import DecisionTreeClassifier\n",
    "from sklearn.ensemble import RandomForestClassifier\n",
    "from sklearn.model_selection import train_test_split\n",
    "from sklearn.model_selection import GridSearchCV\n",
    "from sklearn.metrics import precision_score, recall_score, accuracy_score, f1_score\n",
    "from sklearn.metrics import roc_auc_score, roc_curve\n",
    "from sklearn.metrics import confusion_matrix\n",
    "from sklearn.preprocessing import StandardScaler\n",
    "import xgboost as xgb\n",
    "from xgboost import plot_importance\n",
    "import imblearn.over_sampling"
   ]
  },
  {
   "cell_type": "markdown",
   "id": "a57ffaa5",
   "metadata": {},
   "source": [
    "### EDA"
   ]
  },
  {
   "cell_type": "code",
   "execution_count": 113,
   "id": "65152d54",
   "metadata": {},
   "outputs": [
    {
     "name": "stderr",
     "output_type": "stream",
     "text": [
      "/Users/sambutsydypov/opt/anaconda3/envs/metis/lib/python3.8/site-packages/numpy/lib/arraysetops.py:580: FutureWarning: elementwise comparison failed; returning scalar instead, but in the future will perform elementwise comparison\n",
      "  mask |= (ar1 == a)\n"
     ]
    }
   ],
   "source": [
    "fraud_df = pd.read_csv('data/fraud_data.csv', index_col = 0)"
   ]
  },
  {
   "cell_type": "code",
   "execution_count": 114,
   "id": "e4e70cba",
   "metadata": {},
   "outputs": [
    {
     "name": "stdout",
     "output_type": "stream",
     "text": [
      "<class 'pandas.core.frame.DataFrame'>\n",
      "Int64Index: 1852394 entries, 0 to 555718\n",
      "Data columns (total 22 columns):\n",
      " #   Column                 Dtype  \n",
      "---  ------                 -----  \n",
      " 0   trans_date_trans_time  object \n",
      " 1   cc_num                 int64  \n",
      " 2   merchant               object \n",
      " 3   category               object \n",
      " 4   amt                    float64\n",
      " 5   first                  object \n",
      " 6   last                   object \n",
      " 7   gender                 object \n",
      " 8   street                 object \n",
      " 9   city                   object \n",
      " 10  state                  object \n",
      " 11  zip                    int64  \n",
      " 12  lat                    float64\n",
      " 13  long                   float64\n",
      " 14  city_pop               int64  \n",
      " 15  job                    object \n",
      " 16  dob                    object \n",
      " 17  trans_num              object \n",
      " 18  unix_time              int64  \n",
      " 19  merch_lat              float64\n",
      " 20  merch_long             float64\n",
      " 21  is_fraud               int64  \n",
      "dtypes: float64(5), int64(5), object(12)\n",
      "memory usage: 325.1+ MB\n"
     ]
    }
   ],
   "source": [
    "fraud_df.info()"
   ]
  },
  {
   "cell_type": "code",
   "execution_count": 115,
   "id": "36bb687d",
   "metadata": {},
   "outputs": [
    {
     "data": {
      "text/plain": [
       "trans_date_trans_time    0\n",
       "cc_num                   0\n",
       "merchant                 0\n",
       "category                 0\n",
       "amt                      0\n",
       "first                    0\n",
       "last                     0\n",
       "gender                   0\n",
       "street                   0\n",
       "city                     0\n",
       "state                    0\n",
       "zip                      0\n",
       "lat                      0\n",
       "long                     0\n",
       "city_pop                 0\n",
       "job                      0\n",
       "dob                      0\n",
       "trans_num                0\n",
       "unix_time                0\n",
       "merch_lat                0\n",
       "merch_long               0\n",
       "is_fraud                 0\n",
       "dtype: int64"
      ]
     },
     "execution_count": 115,
     "metadata": {},
     "output_type": "execute_result"
    }
   ],
   "source": [
    "fraud_df.isna().sum()"
   ]
  },
  {
   "cell_type": "code",
   "execution_count": 116,
   "id": "b6f9656f",
   "metadata": {},
   "outputs": [
    {
     "data": {
      "text/plain": [
       "0    1842743\n",
       "1       9651\n",
       "Name: is_fraud, dtype: int64"
      ]
     },
     "execution_count": 116,
     "metadata": {},
     "output_type": "execute_result"
    }
   ],
   "source": [
    "fraud_df.is_fraud.value_counts()"
   ]
  },
  {
   "cell_type": "code",
   "execution_count": 381,
   "id": "5b90312c",
   "metadata": {},
   "outputs": [
    {
     "data": {
      "image/png": "[encoded data removed]",
      "text/plain": [
       "<Figure size 720x504 with 1 Axes>"
      ]
     },
     "metadata": {},
     "output_type": "display_data"
    },
    {
     "data": {
      "text/plain": [
       "<Figure size 432x288 with 0 Axes>"
      ]
     },
     "metadata": {},
     "output_type": "display_data"
    }
   ],
   "source": [
    "plt.figure(figsize=[10,7]);\n",
    "g = sns.countplot(x = fraud_df.is_fraud);\n",
    "g.set_xticklabels(['Valid', 'Fraud']);\n",
    "g.set_yscale(\"log\");\n",
    "g.set_yticklabels([]);\n",
    "g.set_xlabel('');\n",
    "g.set_ylabel('');\n",
    "plt.show();\n",
    "plt.savefig('class_imbalance.png', dpi=500);"
   ]
  },
  {
   "cell_type": "code",
   "execution_count": 118,
   "id": "eb58e7a8",
   "metadata": {},
   "outputs": [
    {
     "data": {
      "text/plain": [
       "(1852394, 22)"
      ]
     },
     "execution_count": 118,
     "metadata": {},
     "output_type": "execute_result"
    }
   ],
   "source": [
    "fraud_df.shape"
   ]
  },
  {
   "cell_type": "code",
   "execution_count": 119,
   "id": "9902cfb6",
   "metadata": {},
   "outputs": [
    {
     "data": {
      "text/plain": [
       "trans_date_trans_time    1819551\n",
       "cc_num                       999\n",
       "merchant                     693\n",
       "category                      14\n",
       "amt                        60616\n",
       "first                        355\n",
       "last                         486\n",
       "gender                         2\n",
       "street                       999\n",
       "city                         906\n",
       "state                         51\n",
       "zip                          985\n",
       "lat                          983\n",
       "long                         983\n",
       "city_pop                     891\n",
       "job                          497\n",
       "dob                          984\n",
       "trans_num                1852394\n",
       "unix_time                1819583\n",
       "merch_lat                1754157\n",
       "merch_long               1809753\n",
       "is_fraud                       2\n",
       "dtype: int64"
      ]
     },
     "execution_count": 119,
     "metadata": {},
     "output_type": "execute_result"
    }
   ],
   "source": [
    "fraud_df.nunique()"
   ]
  },
  {
   "cell_type": "code",
   "execution_count": 120,
   "id": "c89d14f0",
   "metadata": {},
   "outputs": [
    {
     "data": {
      "text/html": [
       "<div>\n",
       "<style scoped>\n",
       "    .dataframe tbody tr th:only-of-type {\n",
       "        vertical-align: middle;\n",
       "    }\n",
       "\n",
       "    .dataframe tbody tr th {\n",
       "        vertical-align: top;\n",
       "    }\n",
       "\n",
       "    .dataframe thead th {\n",
       "        text-align: right;\n",
       "    }\n",
       "</style>\n",
       "<table border=\"1\" class=\"dataframe\">\n",
       "  <thead>\n",
       "    <tr style=\"text-align: right;\">\n",
       "      <th></th>\n",
       "      <th>trans_date_trans_time</th>\n",
       "      <th>cc_num</th>\n",
       "      <th>merchant</th>\n",
       "      <th>category</th>\n",
       "      <th>amt</th>\n",
       "      <th>first</th>\n",
       "      <th>last</th>\n",
       "      <th>gender</th>\n",
       "      <th>street</th>\n",
       "      <th>city</th>\n",
       "      <th>...</th>\n",
       "      <th>lat</th>\n",
       "      <th>long</th>\n",
       "      <th>city_pop</th>\n",
       "      <th>job</th>\n",
       "      <th>dob</th>\n",
       "      <th>trans_num</th>\n",
       "      <th>unix_time</th>\n",
       "      <th>merch_lat</th>\n",
       "      <th>merch_long</th>\n",
       "      <th>is_fraud</th>\n",
       "    </tr>\n",
       "  </thead>\n",
       "  <tbody>\n",
       "    <tr>\n",
       "      <th>0</th>\n",
       "      <td>2019-01-01 00:00:18</td>\n",
       "      <td>2703186189652095</td>\n",
       "      <td>fraud_Rippin, Kub and Mann</td>\n",
       "      <td>misc_net</td>\n",
       "      <td>4.97</td>\n",
       "      <td>Jennifer</td>\n",
       "      <td>Banks</td>\n",
       "      <td>F</td>\n",
       "      <td>561 Perry Cove</td>\n",
       "      <td>Moravian Falls</td>\n",
       "      <td>...</td>\n",
       "      <td>36.0788</td>\n",
       "      <td>-81.1781</td>\n",
       "      <td>3495</td>\n",
       "      <td>Psychologist, counselling</td>\n",
       "      <td>1988-03-09</td>\n",
       "      <td>0b242abb623afc578575680df30655b9</td>\n",
       "      <td>1325376018</td>\n",
       "      <td>36.011293</td>\n",
       "      <td>-82.048315</td>\n",
       "      <td>0</td>\n",
       "    </tr>\n",
       "    <tr>\n",
       "      <th>1</th>\n",
       "      <td>2019-01-01 00:00:44</td>\n",
       "      <td>630423337322</td>\n",
       "      <td>fraud_Heller, Gutmann and Zieme</td>\n",
       "      <td>grocery_pos</td>\n",
       "      <td>107.23</td>\n",
       "      <td>Stephanie</td>\n",
       "      <td>Gill</td>\n",
       "      <td>F</td>\n",
       "      <td>43039 Riley Greens Suite 393</td>\n",
       "      <td>Orient</td>\n",
       "      <td>...</td>\n",
       "      <td>48.8878</td>\n",
       "      <td>-118.2105</td>\n",
       "      <td>149</td>\n",
       "      <td>Special educational needs teacher</td>\n",
       "      <td>1978-06-21</td>\n",
       "      <td>1f76529f8574734946361c461b024d99</td>\n",
       "      <td>1325376044</td>\n",
       "      <td>49.159047</td>\n",
       "      <td>-118.186462</td>\n",
       "      <td>0</td>\n",
       "    </tr>\n",
       "    <tr>\n",
       "      <th>2</th>\n",
       "      <td>2019-01-01 00:00:51</td>\n",
       "      <td>38859492057661</td>\n",
       "      <td>fraud_Lind-Buckridge</td>\n",
       "      <td>entertainment</td>\n",
       "      <td>220.11</td>\n",
       "      <td>Edward</td>\n",
       "      <td>Sanchez</td>\n",
       "      <td>M</td>\n",
       "      <td>594 White Dale Suite 530</td>\n",
       "      <td>Malad City</td>\n",
       "      <td>...</td>\n",
       "      <td>42.1808</td>\n",
       "      <td>-112.2620</td>\n",
       "      <td>4154</td>\n",
       "      <td>Nature conservation officer</td>\n",
       "      <td>1962-01-19</td>\n",
       "      <td>a1a22d70485983eac12b5b88dad1cf95</td>\n",
       "      <td>1325376051</td>\n",
       "      <td>43.150704</td>\n",
       "      <td>-112.154481</td>\n",
       "      <td>0</td>\n",
       "    </tr>\n",
       "    <tr>\n",
       "      <th>3</th>\n",
       "      <td>2019-01-01 00:01:16</td>\n",
       "      <td>3534093764340240</td>\n",
       "      <td>fraud_Kutch, Hermiston and Farrell</td>\n",
       "      <td>gas_transport</td>\n",
       "      <td>45.00</td>\n",
       "      <td>Jeremy</td>\n",
       "      <td>White</td>\n",
       "      <td>M</td>\n",
       "      <td>9443 Cynthia Court Apt. 038</td>\n",
       "      <td>Boulder</td>\n",
       "      <td>...</td>\n",
       "      <td>46.2306</td>\n",
       "      <td>-112.1138</td>\n",
       "      <td>1939</td>\n",
       "      <td>Patent attorney</td>\n",
       "      <td>1967-01-12</td>\n",
       "      <td>6b849c168bdad6f867558c3793159a81</td>\n",
       "      <td>1325376076</td>\n",
       "      <td>47.034331</td>\n",
       "      <td>-112.561071</td>\n",
       "      <td>0</td>\n",
       "    </tr>\n",
       "    <tr>\n",
       "      <th>4</th>\n",
       "      <td>2019-01-01 00:03:06</td>\n",
       "      <td>375534208663984</td>\n",
       "      <td>fraud_Keeling-Crist</td>\n",
       "      <td>misc_pos</td>\n",
       "      <td>41.96</td>\n",
       "      <td>Tyler</td>\n",
       "      <td>Garcia</td>\n",
       "      <td>M</td>\n",
       "      <td>408 Bradley Rest</td>\n",
       "      <td>Doe Hill</td>\n",
       "      <td>...</td>\n",
       "      <td>38.4207</td>\n",
       "      <td>-79.4629</td>\n",
       "      <td>99</td>\n",
       "      <td>Dance movement psychotherapist</td>\n",
       "      <td>1986-03-28</td>\n",
       "      <td>a41d7549acf90789359a9aa5346dcb46</td>\n",
       "      <td>1325376186</td>\n",
       "      <td>38.674999</td>\n",
       "      <td>-78.632459</td>\n",
       "      <td>0</td>\n",
       "    </tr>\n",
       "  </tbody>\n",
       "</table>\n",
       "<p>5 rows × 22 columns</p>\n",
       "</div>"
      ],
      "text/plain": [
       "  trans_date_trans_time            cc_num                            merchant  \\\n",
       "0   2019-01-01 00:00:18  2703186189652095          fraud_Rippin, Kub and Mann   \n",
       "1   2019-01-01 00:00:44      630423337322     fraud_Heller, Gutmann and Zieme   \n",
       "2   2019-01-01 00:00:51    38859492057661                fraud_Lind-Buckridge   \n",
       "3   2019-01-01 00:01:16  3534093764340240  fraud_Kutch, Hermiston and Farrell   \n",
       "4   2019-01-01 00:03:06   375534208663984                 fraud_Keeling-Crist   \n",
       "\n",
       "        category     amt      first     last gender  \\\n",
       "0       misc_net    4.97   Jennifer    Banks      F   \n",
       "1    grocery_pos  107.23  Stephanie     Gill      F   \n",
       "2  entertainment  220.11     Edward  Sanchez      M   \n",
       "3  gas_transport   45.00     Jeremy    White      M   \n",
       "4       misc_pos   41.96      Tyler   Garcia      M   \n",
       "\n",
       "                         street            city  ...      lat      long  \\\n",
       "0                561 Perry Cove  Moravian Falls  ...  36.0788  -81.1781   \n",
       "1  43039 Riley Greens Suite 393          Orient  ...  48.8878 -118.2105   \n",
       "2      594 White Dale Suite 530      Malad City  ...  42.1808 -112.2620   \n",
       "3   9443 Cynthia Court Apt. 038         Boulder  ...  46.2306 -112.1138   \n",
       "4              408 Bradley Rest        Doe Hill  ...  38.4207  -79.4629   \n",
       "\n",
       "   city_pop                                job         dob  \\\n",
       "0      3495          Psychologist, counselling  1988-03-09   \n",
       "1       149  Special educational needs teacher  1978-06-21   \n",
       "2      4154        Nature conservation officer  1962-01-19   \n",
       "3      1939                    Patent attorney  1967-01-12   \n",
       "4        99     Dance movement psychotherapist  1986-03-28   \n",
       "\n",
       "                          trans_num   unix_time  merch_lat  merch_long  \\\n",
       "0  0b242abb623afc578575680df30655b9  1325376018  36.011293  -82.048315   \n",
       "1  1f76529f8574734946361c461b024d99  1325376044  49.159047 -118.186462   \n",
       "2  a1a22d70485983eac12b5b88dad1cf95  1325376051  43.150704 -112.154481   \n",
       "3  6b849c168bdad6f867558c3793159a81  1325376076  47.034331 -112.561071   \n",
       "4  a41d7549acf90789359a9aa5346dcb46  1325376186  38.674999  -78.632459   \n",
       "\n",
       "   is_fraud  \n",
       "0         0  \n",
       "1         0  \n",
       "2         0  \n",
       "3         0  \n",
       "4         0  \n",
       "\n",
       "[5 rows x 22 columns]"
      ]
     },
     "execution_count": 120,
     "metadata": {},
     "output_type": "execute_result"
    }
   ],
   "source": [
    "fraud_df.head()"
   ]
  },
  {
   "cell_type": "code",
   "execution_count": 121,
   "id": "ebe0c0d3",
   "metadata": {},
   "outputs": [
    {
     "data": {
      "text/plain": [
       "F    1014749\n",
       "M     837645\n",
       "Name: gender, dtype: int64"
      ]
     },
     "execution_count": 121,
     "metadata": {},
     "output_type": "execute_result"
    }
   ],
   "source": [
    "fraud_df.gender.value_counts()"
   ]
  },
  {
   "cell_type": "code",
   "execution_count": 122,
   "id": "9047a2d0",
   "metadata": {},
   "outputs": [
    {
     "data": {
      "text/plain": [
       "gender\n",
       "F    70988318.38\n",
       "M    58797013.63\n",
       "Name: amt, dtype: float64"
      ]
     },
     "execution_count": 122,
     "metadata": {},
     "output_type": "execute_result"
    }
   ],
   "source": [
    "fraud_df.groupby(['gender'])['amt'].sum()"
   ]
  },
  {
   "cell_type": "code",
   "execution_count": 123,
   "id": "f183cb20",
   "metadata": {},
   "outputs": [
    {
     "data": {
      "text/plain": [
       "gender  is_fraud\n",
       "F       0           1009850\n",
       "        1              4899\n",
       "M       0            832893\n",
       "        1              4752\n",
       "Name: is_fraud, dtype: int64"
      ]
     },
     "execution_count": 123,
     "metadata": {},
     "output_type": "execute_result"
    }
   ],
   "source": [
    "fraud_df.groupby('gender')['is_fraud'].value_counts()"
   ]
  },
  {
   "cell_type": "code",
   "execution_count": 124,
   "id": "29f16cf0",
   "metadata": {},
   "outputs": [
    {
     "data": {
      "text/plain": [
       "gender  is_fraud\n",
       "F       0           68585571.80\n",
       "        1            2402746.58\n",
       "M       0           56078346.92\n",
       "        1            2718666.71\n",
       "Name: amt, dtype: float64"
      ]
     },
     "execution_count": 124,
     "metadata": {},
     "output_type": "execute_result"
    }
   ],
   "source": [
    "fraud_df.groupby(['gender','is_fraud'])['amt'].sum()"
   ]
  },
  {
   "cell_type": "code",
   "execution_count": 125,
   "id": "d9cdf7bb",
   "metadata": {},
   "outputs": [],
   "source": [
    "#convert gender to numeric\n",
    "gender_dict = {'M': 1,'F': 2}\n",
    "fraud_df.gender = [gender_dict[item] for item in fraud_df.gender]"
   ]
  },
  {
   "cell_type": "code",
   "execution_count": 126,
   "id": "c91e37d2",
   "metadata": {},
   "outputs": [],
   "source": [
    "#convert transaction datetime to actual datetime column\n",
    "fraud_df.trans_date_trans_time = pd.to_datetime(fraud_df.trans_date_trans_time)"
   ]
  },
  {
   "cell_type": "code",
   "execution_count": 127,
   "id": "da59a17d",
   "metadata": {},
   "outputs": [
    {
     "data": {
      "text/html": [
       "<div>\n",
       "<style scoped>\n",
       "    .dataframe tbody tr th:only-of-type {\n",
       "        vertical-align: middle;\n",
       "    }\n",
       "\n",
       "    .dataframe tbody tr th {\n",
       "        vertical-align: top;\n",
       "    }\n",
       "\n",
       "    .dataframe thead th {\n",
       "        text-align: right;\n",
       "    }\n",
       "</style>\n",
       "<table border=\"1\" class=\"dataframe\">\n",
       "  <thead>\n",
       "    <tr style=\"text-align: right;\">\n",
       "      <th></th>\n",
       "      <th>trans_date_trans_time</th>\n",
       "      <th>cc_num</th>\n",
       "      <th>merchant</th>\n",
       "      <th>category</th>\n",
       "      <th>amt</th>\n",
       "      <th>first</th>\n",
       "      <th>last</th>\n",
       "      <th>gender</th>\n",
       "      <th>street</th>\n",
       "      <th>city</th>\n",
       "      <th>...</th>\n",
       "      <th>lat</th>\n",
       "      <th>long</th>\n",
       "      <th>city_pop</th>\n",
       "      <th>job</th>\n",
       "      <th>dob</th>\n",
       "      <th>trans_num</th>\n",
       "      <th>unix_time</th>\n",
       "      <th>merch_lat</th>\n",
       "      <th>merch_long</th>\n",
       "      <th>is_fraud</th>\n",
       "    </tr>\n",
       "  </thead>\n",
       "  <tbody>\n",
       "    <tr>\n",
       "      <th>0</th>\n",
       "      <td>2019-01-01 00:00:18</td>\n",
       "      <td>2703186189652095</td>\n",
       "      <td>fraud_Rippin, Kub and Mann</td>\n",
       "      <td>misc_net</td>\n",
       "      <td>4.97</td>\n",
       "      <td>Jennifer</td>\n",
       "      <td>Banks</td>\n",
       "      <td>2</td>\n",
       "      <td>561 Perry Cove</td>\n",
       "      <td>Moravian Falls</td>\n",
       "      <td>...</td>\n",
       "      <td>36.0788</td>\n",
       "      <td>-81.1781</td>\n",
       "      <td>3495</td>\n",
       "      <td>Psychologist, counselling</td>\n",
       "      <td>1988-03-09</td>\n",
       "      <td>0b242abb623afc578575680df30655b9</td>\n",
       "      <td>1325376018</td>\n",
       "      <td>36.011293</td>\n",
       "      <td>-82.048315</td>\n",
       "      <td>0</td>\n",
       "    </tr>\n",
       "    <tr>\n",
       "      <th>1</th>\n",
       "      <td>2019-01-01 00:00:44</td>\n",
       "      <td>630423337322</td>\n",
       "      <td>fraud_Heller, Gutmann and Zieme</td>\n",
       "      <td>grocery_pos</td>\n",
       "      <td>107.23</td>\n",
       "      <td>Stephanie</td>\n",
       "      <td>Gill</td>\n",
       "      <td>2</td>\n",
       "      <td>43039 Riley Greens Suite 393</td>\n",
       "      <td>Orient</td>\n",
       "      <td>...</td>\n",
       "      <td>48.8878</td>\n",
       "      <td>-118.2105</td>\n",
       "      <td>149</td>\n",
       "      <td>Special educational needs teacher</td>\n",
       "      <td>1978-06-21</td>\n",
       "      <td>1f76529f8574734946361c461b024d99</td>\n",
       "      <td>1325376044</td>\n",
       "      <td>49.159047</td>\n",
       "      <td>-118.186462</td>\n",
       "      <td>0</td>\n",
       "    </tr>\n",
       "    <tr>\n",
       "      <th>2</th>\n",
       "      <td>2019-01-01 00:00:51</td>\n",
       "      <td>38859492057661</td>\n",
       "      <td>fraud_Lind-Buckridge</td>\n",
       "      <td>entertainment</td>\n",
       "      <td>220.11</td>\n",
       "      <td>Edward</td>\n",
       "      <td>Sanchez</td>\n",
       "      <td>1</td>\n",
       "      <td>594 White Dale Suite 530</td>\n",
       "      <td>Malad City</td>\n",
       "      <td>...</td>\n",
       "      <td>42.1808</td>\n",
       "      <td>-112.2620</td>\n",
       "      <td>4154</td>\n",
       "      <td>Nature conservation officer</td>\n",
       "      <td>1962-01-19</td>\n",
       "      <td>a1a22d70485983eac12b5b88dad1cf95</td>\n",
       "      <td>1325376051</td>\n",
       "      <td>43.150704</td>\n",
       "      <td>-112.154481</td>\n",
       "      <td>0</td>\n",
       "    </tr>\n",
       "    <tr>\n",
       "      <th>3</th>\n",
       "      <td>2019-01-01 00:01:16</td>\n",
       "      <td>3534093764340240</td>\n",
       "      <td>fraud_Kutch, Hermiston and Farrell</td>\n",
       "      <td>gas_transport</td>\n",
       "      <td>45.00</td>\n",
       "      <td>Jeremy</td>\n",
       "      <td>White</td>\n",
       "      <td>1</td>\n",
       "      <td>9443 Cynthia Court Apt. 038</td>\n",
       "      <td>Boulder</td>\n",
       "      <td>...</td>\n",
       "      <td>46.2306</td>\n",
       "      <td>-112.1138</td>\n",
       "      <td>1939</td>\n",
       "      <td>Patent attorney</td>\n",
       "      <td>1967-01-12</td>\n",
       "      <td>6b849c168bdad6f867558c3793159a81</td>\n",
       "      <td>1325376076</td>\n",
       "      <td>47.034331</td>\n",
       "      <td>-112.561071</td>\n",
       "      <td>0</td>\n",
       "    </tr>\n",
       "    <tr>\n",
       "      <th>4</th>\n",
       "      <td>2019-01-01 00:03:06</td>\n",
       "      <td>375534208663984</td>\n",
       "      <td>fraud_Keeling-Crist</td>\n",
       "      <td>misc_pos</td>\n",
       "      <td>41.96</td>\n",
       "      <td>Tyler</td>\n",
       "      <td>Garcia</td>\n",
       "      <td>1</td>\n",
       "      <td>408 Bradley Rest</td>\n",
       "      <td>Doe Hill</td>\n",
       "      <td>...</td>\n",
       "      <td>38.4207</td>\n",
       "      <td>-79.4629</td>\n",
       "      <td>99</td>\n",
       "      <td>Dance movement psychotherapist</td>\n",
       "      <td>1986-03-28</td>\n",
       "      <td>a41d7549acf90789359a9aa5346dcb46</td>\n",
       "      <td>1325376186</td>\n",
       "      <td>38.674999</td>\n",
       "      <td>-78.632459</td>\n",
       "      <td>0</td>\n",
       "    </tr>\n",
       "  </tbody>\n",
       "</table>\n",
       "<p>5 rows × 22 columns</p>\n",
       "</div>"
      ],
      "text/plain": [
       "  trans_date_trans_time            cc_num                            merchant  \\\n",
       "0   2019-01-01 00:00:18  2703186189652095          fraud_Rippin, Kub and Mann   \n",
       "1   2019-01-01 00:00:44      630423337322     fraud_Heller, Gutmann and Zieme   \n",
       "2   2019-01-01 00:00:51    38859492057661                fraud_Lind-Buckridge   \n",
       "3   2019-01-01 00:01:16  3534093764340240  fraud_Kutch, Hermiston and Farrell   \n",
       "4   2019-01-01 00:03:06   375534208663984                 fraud_Keeling-Crist   \n",
       "\n",
       "        category     amt      first     last  gender  \\\n",
       "0       misc_net    4.97   Jennifer    Banks       2   \n",
       "1    grocery_pos  107.23  Stephanie     Gill       2   \n",
       "2  entertainment  220.11     Edward  Sanchez       1   \n",
       "3  gas_transport   45.00     Jeremy    White       1   \n",
       "4       misc_pos   41.96      Tyler   Garcia       1   \n",
       "\n",
       "                         street            city  ...      lat      long  \\\n",
       "0                561 Perry Cove  Moravian Falls  ...  36.0788  -81.1781   \n",
       "1  43039 Riley Greens Suite 393          Orient  ...  48.8878 -118.2105   \n",
       "2      594 White Dale Suite 530      Malad City  ...  42.1808 -112.2620   \n",
       "3   9443 Cynthia Court Apt. 038         Boulder  ...  46.2306 -112.1138   \n",
       "4              408 Bradley Rest        Doe Hill  ...  38.4207  -79.4629   \n",
       "\n",
       "   city_pop                                job         dob  \\\n",
       "0      3495          Psychologist, counselling  1988-03-09   \n",
       "1       149  Special educational needs teacher  1978-06-21   \n",
       "2      4154        Nature conservation officer  1962-01-19   \n",
       "3      1939                    Patent attorney  1967-01-12   \n",
       "4        99     Dance movement psychotherapist  1986-03-28   \n",
       "\n",
       "                          trans_num   unix_time  merch_lat  merch_long  \\\n",
       "0  0b242abb623afc578575680df30655b9  1325376018  36.011293  -82.048315   \n",
       "1  1f76529f8574734946361c461b024d99  1325376044  49.159047 -118.186462   \n",
       "2  a1a22d70485983eac12b5b88dad1cf95  1325376051  43.150704 -112.154481   \n",
       "3  6b849c168bdad6f867558c3793159a81  1325376076  47.034331 -112.561071   \n",
       "4  a41d7549acf90789359a9aa5346dcb46  1325376186  38.674999  -78.632459   \n",
       "\n",
       "   is_fraud  \n",
       "0         0  \n",
       "1         0  \n",
       "2         0  \n",
       "3         0  \n",
       "4         0  \n",
       "\n",
       "[5 rows x 22 columns]"
      ]
     },
     "execution_count": 127,
     "metadata": {},
     "output_type": "execute_result"
    }
   ],
   "source": [
    "fraud_df.head(5)"
   ]
  },
  {
   "cell_type": "code",
   "execution_count": 128,
   "id": "e0b8fc14",
   "metadata": {},
   "outputs": [],
   "source": [
    "fraud_df.dob = pd.to_datetime(fraud_df.dob)"
   ]
  },
  {
   "cell_type": "code",
   "execution_count": 130,
   "id": "7a66d0f0",
   "metadata": {},
   "outputs": [],
   "source": [
    "#add age\n",
    "fraud_df['age'] = ((fraud_df.trans_date_trans_time - fraud_df.dob)/np.timedelta64(1, 'Y')).round()"
   ]
  },
  {
   "cell_type": "code",
   "execution_count": 131,
   "id": "ff3a08c0",
   "metadata": {},
   "outputs": [],
   "source": [
    "fraud_df['tran_day_of_week'] = fraud_df.trans_date_trans_time.dt.weekday"
   ]
  },
  {
   "cell_type": "code",
   "execution_count": 132,
   "id": "a3fa861d",
   "metadata": {},
   "outputs": [],
   "source": [
    "fraud_df['tran_day_of_month'] = fraud_df.trans_date_trans_time.dt.day"
   ]
  },
  {
   "cell_type": "code",
   "execution_count": 133,
   "id": "233dcae9",
   "metadata": {},
   "outputs": [],
   "source": [
    "fraud_df['tran_month_of_year'] = fraud_df.trans_date_trans_time.dt.month"
   ]
  },
  {
   "cell_type": "code",
   "execution_count": 134,
   "id": "29120e5d",
   "metadata": {},
   "outputs": [],
   "source": [
    "fraud_df['tran_hour_of_day'] = fraud_df.trans_date_trans_time.dt.hour"
   ]
  },
  {
   "cell_type": "code",
   "execution_count": 135,
   "id": "f2920040",
   "metadata": {},
   "outputs": [
    {
     "data": {
      "text/html": [
       "<div>\n",
       "<style scoped>\n",
       "    .dataframe tbody tr th:only-of-type {\n",
       "        vertical-align: middle;\n",
       "    }\n",
       "\n",
       "    .dataframe tbody tr th {\n",
       "        vertical-align: top;\n",
       "    }\n",
       "\n",
       "    .dataframe thead th {\n",
       "        text-align: right;\n",
       "    }\n",
       "</style>\n",
       "<table border=\"1\" class=\"dataframe\">\n",
       "  <thead>\n",
       "    <tr style=\"text-align: right;\">\n",
       "      <th></th>\n",
       "      <th>trans_date_trans_time</th>\n",
       "      <th>cc_num</th>\n",
       "      <th>merchant</th>\n",
       "      <th>category</th>\n",
       "      <th>amt</th>\n",
       "      <th>first</th>\n",
       "      <th>last</th>\n",
       "      <th>gender</th>\n",
       "      <th>street</th>\n",
       "      <th>city</th>\n",
       "      <th>...</th>\n",
       "      <th>trans_num</th>\n",
       "      <th>unix_time</th>\n",
       "      <th>merch_lat</th>\n",
       "      <th>merch_long</th>\n",
       "      <th>is_fraud</th>\n",
       "      <th>age</th>\n",
       "      <th>tran_day_of_week</th>\n",
       "      <th>tran_day_of_month</th>\n",
       "      <th>tran_month_of_year</th>\n",
       "      <th>tran_hour_of_day</th>\n",
       "    </tr>\n",
       "  </thead>\n",
       "  <tbody>\n",
       "    <tr>\n",
       "      <th>0</th>\n",
       "      <td>2019-01-01 00:00:18</td>\n",
       "      <td>2703186189652095</td>\n",
       "      <td>fraud_Rippin, Kub and Mann</td>\n",
       "      <td>misc_net</td>\n",
       "      <td>4.97</td>\n",
       "      <td>Jennifer</td>\n",
       "      <td>Banks</td>\n",
       "      <td>2</td>\n",
       "      <td>561 Perry Cove</td>\n",
       "      <td>Moravian Falls</td>\n",
       "      <td>...</td>\n",
       "      <td>0b242abb623afc578575680df30655b9</td>\n",
       "      <td>1325376018</td>\n",
       "      <td>36.011293</td>\n",
       "      <td>-82.048315</td>\n",
       "      <td>0</td>\n",
       "      <td>31.0</td>\n",
       "      <td>1</td>\n",
       "      <td>1</td>\n",
       "      <td>1</td>\n",
       "      <td>0</td>\n",
       "    </tr>\n",
       "    <tr>\n",
       "      <th>1</th>\n",
       "      <td>2019-01-01 00:00:44</td>\n",
       "      <td>630423337322</td>\n",
       "      <td>fraud_Heller, Gutmann and Zieme</td>\n",
       "      <td>grocery_pos</td>\n",
       "      <td>107.23</td>\n",
       "      <td>Stephanie</td>\n",
       "      <td>Gill</td>\n",
       "      <td>2</td>\n",
       "      <td>43039 Riley Greens Suite 393</td>\n",
       "      <td>Orient</td>\n",
       "      <td>...</td>\n",
       "      <td>1f76529f8574734946361c461b024d99</td>\n",
       "      <td>1325376044</td>\n",
       "      <td>49.159047</td>\n",
       "      <td>-118.186462</td>\n",
       "      <td>0</td>\n",
       "      <td>41.0</td>\n",
       "      <td>1</td>\n",
       "      <td>1</td>\n",
       "      <td>1</td>\n",
       "      <td>0</td>\n",
       "    </tr>\n",
       "    <tr>\n",
       "      <th>2</th>\n",
       "      <td>2019-01-01 00:00:51</td>\n",
       "      <td>38859492057661</td>\n",
       "      <td>fraud_Lind-Buckridge</td>\n",
       "      <td>entertainment</td>\n",
       "      <td>220.11</td>\n",
       "      <td>Edward</td>\n",
       "      <td>Sanchez</td>\n",
       "      <td>1</td>\n",
       "      <td>594 White Dale Suite 530</td>\n",
       "      <td>Malad City</td>\n",
       "      <td>...</td>\n",
       "      <td>a1a22d70485983eac12b5b88dad1cf95</td>\n",
       "      <td>1325376051</td>\n",
       "      <td>43.150704</td>\n",
       "      <td>-112.154481</td>\n",
       "      <td>0</td>\n",
       "      <td>57.0</td>\n",
       "      <td>1</td>\n",
       "      <td>1</td>\n",
       "      <td>1</td>\n",
       "      <td>0</td>\n",
       "    </tr>\n",
       "    <tr>\n",
       "      <th>3</th>\n",
       "      <td>2019-01-01 00:01:16</td>\n",
       "      <td>3534093764340240</td>\n",
       "      <td>fraud_Kutch, Hermiston and Farrell</td>\n",
       "      <td>gas_transport</td>\n",
       "      <td>45.00</td>\n",
       "      <td>Jeremy</td>\n",
       "      <td>White</td>\n",
       "      <td>1</td>\n",
       "      <td>9443 Cynthia Court Apt. 038</td>\n",
       "      <td>Boulder</td>\n",
       "      <td>...</td>\n",
       "      <td>6b849c168bdad6f867558c3793159a81</td>\n",
       "      <td>1325376076</td>\n",
       "      <td>47.034331</td>\n",
       "      <td>-112.561071</td>\n",
       "      <td>0</td>\n",
       "      <td>52.0</td>\n",
       "      <td>1</td>\n",
       "      <td>1</td>\n",
       "      <td>1</td>\n",
       "      <td>0</td>\n",
       "    </tr>\n",
       "    <tr>\n",
       "      <th>4</th>\n",
       "      <td>2019-01-01 00:03:06</td>\n",
       "      <td>375534208663984</td>\n",
       "      <td>fraud_Keeling-Crist</td>\n",
       "      <td>misc_pos</td>\n",
       "      <td>41.96</td>\n",
       "      <td>Tyler</td>\n",
       "      <td>Garcia</td>\n",
       "      <td>1</td>\n",
       "      <td>408 Bradley Rest</td>\n",
       "      <td>Doe Hill</td>\n",
       "      <td>...</td>\n",
       "      <td>a41d7549acf90789359a9aa5346dcb46</td>\n",
       "      <td>1325376186</td>\n",
       "      <td>38.674999</td>\n",
       "      <td>-78.632459</td>\n",
       "      <td>0</td>\n",
       "      <td>33.0</td>\n",
       "      <td>1</td>\n",
       "      <td>1</td>\n",
       "      <td>1</td>\n",
       "      <td>0</td>\n",
       "    </tr>\n",
       "  </tbody>\n",
       "</table>\n",
       "<p>5 rows × 27 columns</p>\n",
       "</div>"
      ],
      "text/plain": [
       "  trans_date_trans_time            cc_num                            merchant  \\\n",
       "0   2019-01-01 00:00:18  2703186189652095          fraud_Rippin, Kub and Mann   \n",
       "1   2019-01-01 00:00:44      630423337322     fraud_Heller, Gutmann and Zieme   \n",
       "2   2019-01-01 00:00:51    38859492057661                fraud_Lind-Buckridge   \n",
       "3   2019-01-01 00:01:16  3534093764340240  fraud_Kutch, Hermiston and Farrell   \n",
       "4   2019-01-01 00:03:06   375534208663984                 fraud_Keeling-Crist   \n",
       "\n",
       "        category     amt      first     last  gender  \\\n",
       "0       misc_net    4.97   Jennifer    Banks       2   \n",
       "1    grocery_pos  107.23  Stephanie     Gill       2   \n",
       "2  entertainment  220.11     Edward  Sanchez       1   \n",
       "3  gas_transport   45.00     Jeremy    White       1   \n",
       "4       misc_pos   41.96      Tyler   Garcia       1   \n",
       "\n",
       "                         street            city  ...  \\\n",
       "0                561 Perry Cove  Moravian Falls  ...   \n",
       "1  43039 Riley Greens Suite 393          Orient  ...   \n",
       "2      594 White Dale Suite 530      Malad City  ...   \n",
       "3   9443 Cynthia Court Apt. 038         Boulder  ...   \n",
       "4              408 Bradley Rest        Doe Hill  ...   \n",
       "\n",
       "                          trans_num   unix_time  merch_lat  merch_long  \\\n",
       "0  0b242abb623afc578575680df30655b9  1325376018  36.011293  -82.048315   \n",
       "1  1f76529f8574734946361c461b024d99  1325376044  49.159047 -118.186462   \n",
       "2  a1a22d70485983eac12b5b88dad1cf95  1325376051  43.150704 -112.154481   \n",
       "3  6b849c168bdad6f867558c3793159a81  1325376076  47.034331 -112.561071   \n",
       "4  a41d7549acf90789359a9aa5346dcb46  1325376186  38.674999  -78.632459   \n",
       "\n",
       "   is_fraud   age tran_day_of_week tran_day_of_month  tran_month_of_year  \\\n",
       "0         0  31.0                1                 1                   1   \n",
       "1         0  41.0                1                 1                   1   \n",
       "2         0  57.0                1                 1                   1   \n",
       "3         0  52.0                1                 1                   1   \n",
       "4         0  33.0                1                 1                   1   \n",
       "\n",
       "   tran_hour_of_day  \n",
       "0                 0  \n",
       "1                 0  \n",
       "2                 0  \n",
       "3                 0  \n",
       "4                 0  \n",
       "\n",
       "[5 rows x 27 columns]"
      ]
     },
     "execution_count": 135,
     "metadata": {},
     "output_type": "execute_result"
    }
   ],
   "source": [
    "fraud_df.head()"
   ]
  },
  {
   "cell_type": "code",
   "execution_count": 136,
   "id": "55549fbe",
   "metadata": {},
   "outputs": [
    {
     "data": {
      "text/plain": [
       "gas_transport     188029\n",
       "grocery_pos       176191\n",
       "home              175460\n",
       "shopping_pos      166463\n",
       "kids_pets         161727\n",
       "shopping_net      139322\n",
       "entertainment     134118\n",
       "food_dining       130729\n",
       "personal_care     130085\n",
       "health_fitness    122553\n",
       "misc_pos          114229\n",
       "misc_net           90654\n",
       "grocery_net        64878\n",
       "travel             57956\n",
       "Name: category, dtype: int64"
      ]
     },
     "execution_count": 136,
     "metadata": {},
     "output_type": "execute_result"
    }
   ],
   "source": [
    "fraud_df.category.value_counts()"
   ]
  },
  {
   "cell_type": "code",
   "execution_count": 137,
   "id": "19325e05",
   "metadata": {},
   "outputs": [
    {
     "data": {
      "text/plain": [
       "category        is_fraud\n",
       "entertainment   0           133826\n",
       "                1              292\n",
       "food_dining     0           130524\n",
       "                1              205\n",
       "gas_transport   0           187257\n",
       "                1              772\n",
       "grocery_net     0            64703\n",
       "                1              175\n",
       "grocery_pos     0           173963\n",
       "                1             2228\n",
       "health_fitness  0           122368\n",
       "                1              185\n",
       "home            0           175195\n",
       "                1              265\n",
       "kids_pets       0           161423\n",
       "                1              304\n",
       "misc_net        0            89472\n",
       "                1             1182\n",
       "misc_pos        0           113907\n",
       "                1              322\n",
       "personal_care   0           129795\n",
       "                1              290\n",
       "shopping_net    0           137103\n",
       "                1             2219\n",
       "shopping_pos    0           165407\n",
       "                1             1056\n",
       "travel          0            57800\n",
       "                1              156\n",
       "Name: is_fraud, dtype: int64"
      ]
     },
     "execution_count": 137,
     "metadata": {},
     "output_type": "execute_result"
    }
   ],
   "source": [
    "fraud_df.groupby('category')['is_fraud'].value_counts()"
   ]
  },
  {
   "cell_type": "code",
   "execution_count": 138,
   "id": "cb3fbf61",
   "metadata": {},
   "outputs": [
    {
     "data": {
      "text/plain": [
       "category        is_fraud\n",
       "entertainment   0            8455326.62\n",
       "                1             147399.96\n",
       "food_dining     0            6641668.36\n",
       "                1              24739.16\n",
       "gas_transport   0           11926125.32\n",
       "                1               9442.53\n",
       "grocery_net     0            3481095.84\n",
       "                1               2108.21\n",
       "grocery_pos     0           19855279.35\n",
       "                1             695664.62\n",
       "health_fitness  0            6624890.85\n",
       "                1               3751.36\n",
       "home            0           10141466.04\n",
       "                1              68231.96\n",
       "kids_pets       0            9298187.22\n",
       "                1               5619.53\n",
       "misc_net        0            6324752.23\n",
       "                1             944009.71\n",
       "misc_pos        0            7090976.63\n",
       "                1              68494.84\n",
       "personal_care   0            6242738.57\n",
       "                1               7571.96\n",
       "shopping_net    0            9898082.03\n",
       "                1            2214847.64\n",
       "shopping_pos    0           12206919.88\n",
       "                1             928132.34\n",
       "travel          0            6476409.78\n",
       "                1               1399.47\n",
       "Name: amt, dtype: float64"
      ]
     },
     "execution_count": 138,
     "metadata": {},
     "output_type": "execute_result"
    }
   ],
   "source": [
    "fraud_df.groupby(['category','is_fraud'])['amt'].sum()"
   ]
  },
  {
   "cell_type": "code",
   "execution_count": 139,
   "id": "54dff2be",
   "metadata": {},
   "outputs": [],
   "source": [
    "#convert category to dummies\n",
    "category_dummies = pd.get_dummies(fraud_df.category, prefix = 'cat', drop_first = True)\n",
    "fraud_df1 = pd.concat([fraud_df, category_dummies], axis = 1)"
   ]
  },
  {
   "cell_type": "code",
   "execution_count": 141,
   "id": "6d2c7a97",
   "metadata": {},
   "outputs": [
    {
     "data": {
      "text/html": [
       "<div>\n",
       "<style scoped>\n",
       "    .dataframe tbody tr th:only-of-type {\n",
       "        vertical-align: middle;\n",
       "    }\n",
       "\n",
       "    .dataframe tbody tr th {\n",
       "        vertical-align: top;\n",
       "    }\n",
       "\n",
       "    .dataframe thead th {\n",
       "        text-align: right;\n",
       "    }\n",
       "</style>\n",
       "<table border=\"1\" class=\"dataframe\">\n",
       "  <thead>\n",
       "    <tr style=\"text-align: right;\">\n",
       "      <th></th>\n",
       "      <th>cat_food_dining</th>\n",
       "      <th>cat_gas_transport</th>\n",
       "      <th>cat_grocery_net</th>\n",
       "      <th>cat_grocery_pos</th>\n",
       "      <th>cat_health_fitness</th>\n",
       "      <th>cat_home</th>\n",
       "      <th>cat_kids_pets</th>\n",
       "      <th>cat_misc_net</th>\n",
       "      <th>cat_misc_pos</th>\n",
       "      <th>cat_personal_care</th>\n",
       "      <th>cat_shopping_net</th>\n",
       "      <th>cat_shopping_pos</th>\n",
       "      <th>cat_travel</th>\n",
       "    </tr>\n",
       "  </thead>\n",
       "  <tbody>\n",
       "    <tr>\n",
       "      <th>0</th>\n",
       "      <td>0</td>\n",
       "      <td>0</td>\n",
       "      <td>0</td>\n",
       "      <td>0</td>\n",
       "      <td>0</td>\n",
       "      <td>0</td>\n",
       "      <td>0</td>\n",
       "      <td>1</td>\n",
       "      <td>0</td>\n",
       "      <td>0</td>\n",
       "      <td>0</td>\n",
       "      <td>0</td>\n",
       "      <td>0</td>\n",
       "    </tr>\n",
       "    <tr>\n",
       "      <th>1</th>\n",
       "      <td>0</td>\n",
       "      <td>0</td>\n",
       "      <td>0</td>\n",
       "      <td>1</td>\n",
       "      <td>0</td>\n",
       "      <td>0</td>\n",
       "      <td>0</td>\n",
       "      <td>0</td>\n",
       "      <td>0</td>\n",
       "      <td>0</td>\n",
       "      <td>0</td>\n",
       "      <td>0</td>\n",
       "      <td>0</td>\n",
       "    </tr>\n",
       "    <tr>\n",
       "      <th>2</th>\n",
       "      <td>0</td>\n",
       "      <td>0</td>\n",
       "      <td>0</td>\n",
       "      <td>0</td>\n",
       "      <td>0</td>\n",
       "      <td>0</td>\n",
       "      <td>0</td>\n",
       "      <td>0</td>\n",
       "      <td>0</td>\n",
       "      <td>0</td>\n",
       "      <td>0</td>\n",
       "      <td>0</td>\n",
       "      <td>0</td>\n",
       "    </tr>\n",
       "    <tr>\n",
       "      <th>3</th>\n",
       "      <td>0</td>\n",
       "      <td>1</td>\n",
       "      <td>0</td>\n",
       "      <td>0</td>\n",
       "      <td>0</td>\n",
       "      <td>0</td>\n",
       "      <td>0</td>\n",
       "      <td>0</td>\n",
       "      <td>0</td>\n",
       "      <td>0</td>\n",
       "      <td>0</td>\n",
       "      <td>0</td>\n",
       "      <td>0</td>\n",
       "    </tr>\n",
       "    <tr>\n",
       "      <th>4</th>\n",
       "      <td>0</td>\n",
       "      <td>0</td>\n",
       "      <td>0</td>\n",
       "      <td>0</td>\n",
       "      <td>0</td>\n",
       "      <td>0</td>\n",
       "      <td>0</td>\n",
       "      <td>0</td>\n",
       "      <td>1</td>\n",
       "      <td>0</td>\n",
       "      <td>0</td>\n",
       "      <td>0</td>\n",
       "      <td>0</td>\n",
       "    </tr>\n",
       "    <tr>\n",
       "      <th>...</th>\n",
       "      <td>...</td>\n",
       "      <td>...</td>\n",
       "      <td>...</td>\n",
       "      <td>...</td>\n",
       "      <td>...</td>\n",
       "      <td>...</td>\n",
       "      <td>...</td>\n",
       "      <td>...</td>\n",
       "      <td>...</td>\n",
       "      <td>...</td>\n",
       "      <td>...</td>\n",
       "      <td>...</td>\n",
       "      <td>...</td>\n",
       "    </tr>\n",
       "    <tr>\n",
       "      <th>555714</th>\n",
       "      <td>0</td>\n",
       "      <td>0</td>\n",
       "      <td>0</td>\n",
       "      <td>0</td>\n",
       "      <td>1</td>\n",
       "      <td>0</td>\n",
       "      <td>0</td>\n",
       "      <td>0</td>\n",
       "      <td>0</td>\n",
       "      <td>0</td>\n",
       "      <td>0</td>\n",
       "      <td>0</td>\n",
       "      <td>0</td>\n",
       "    </tr>\n",
       "    <tr>\n",
       "      <th>555715</th>\n",
       "      <td>0</td>\n",
       "      <td>0</td>\n",
       "      <td>0</td>\n",
       "      <td>0</td>\n",
       "      <td>0</td>\n",
       "      <td>0</td>\n",
       "      <td>1</td>\n",
       "      <td>0</td>\n",
       "      <td>0</td>\n",
       "      <td>0</td>\n",
       "      <td>0</td>\n",
       "      <td>0</td>\n",
       "      <td>0</td>\n",
       "    </tr>\n",
       "    <tr>\n",
       "      <th>555716</th>\n",
       "      <td>0</td>\n",
       "      <td>0</td>\n",
       "      <td>0</td>\n",
       "      <td>0</td>\n",
       "      <td>0</td>\n",
       "      <td>0</td>\n",
       "      <td>1</td>\n",
       "      <td>0</td>\n",
       "      <td>0</td>\n",
       "      <td>0</td>\n",
       "      <td>0</td>\n",
       "      <td>0</td>\n",
       "      <td>0</td>\n",
       "    </tr>\n",
       "    <tr>\n",
       "      <th>555717</th>\n",
       "      <td>0</td>\n",
       "      <td>0</td>\n",
       "      <td>0</td>\n",
       "      <td>0</td>\n",
       "      <td>0</td>\n",
       "      <td>0</td>\n",
       "      <td>0</td>\n",
       "      <td>0</td>\n",
       "      <td>0</td>\n",
       "      <td>0</td>\n",
       "      <td>0</td>\n",
       "      <td>0</td>\n",
       "      <td>1</td>\n",
       "    </tr>\n",
       "    <tr>\n",
       "      <th>555718</th>\n",
       "      <td>0</td>\n",
       "      <td>0</td>\n",
       "      <td>0</td>\n",
       "      <td>0</td>\n",
       "      <td>0</td>\n",
       "      <td>0</td>\n",
       "      <td>0</td>\n",
       "      <td>0</td>\n",
       "      <td>0</td>\n",
       "      <td>0</td>\n",
       "      <td>0</td>\n",
       "      <td>0</td>\n",
       "      <td>0</td>\n",
       "    </tr>\n",
       "  </tbody>\n",
       "</table>\n",
       "<p>1852394 rows × 13 columns</p>\n",
       "</div>"
      ],
      "text/plain": [
       "        cat_food_dining  cat_gas_transport  cat_grocery_net  cat_grocery_pos  \\\n",
       "0                     0                  0                0                0   \n",
       "1                     0                  0                0                1   \n",
       "2                     0                  0                0                0   \n",
       "3                     0                  1                0                0   \n",
       "4                     0                  0                0                0   \n",
       "...                 ...                ...              ...              ...   \n",
       "555714                0                  0                0                0   \n",
       "555715                0                  0                0                0   \n",
       "555716                0                  0                0                0   \n",
       "555717                0                  0                0                0   \n",
       "555718                0                  0                0                0   \n",
       "\n",
       "        cat_health_fitness  cat_home  cat_kids_pets  cat_misc_net  \\\n",
       "0                        0         0              0             1   \n",
       "1                        0         0              0             0   \n",
       "2                        0         0              0             0   \n",
       "3                        0         0              0             0   \n",
       "4                        0         0              0             0   \n",
       "...                    ...       ...            ...           ...   \n",
       "555714                   1         0              0             0   \n",
       "555715                   0         0              1             0   \n",
       "555716                   0         0              1             0   \n",
       "555717                   0         0              0             0   \n",
       "555718                   0         0              0             0   \n",
       "\n",
       "        cat_misc_pos  cat_personal_care  cat_shopping_net  cat_shopping_pos  \\\n",
       "0                  0                  0                 0                 0   \n",
       "1                  0                  0                 0                 0   \n",
       "2                  0                  0                 0                 0   \n",
       "3                  0                  0                 0                 0   \n",
       "4                  1                  0                 0                 0   \n",
       "...              ...                ...               ...               ...   \n",
       "555714             0                  0                 0                 0   \n",
       "555715             0                  0                 0                 0   \n",
       "555716             0                  0                 0                 0   \n",
       "555717             0                  0                 0                 0   \n",
       "555718             0                  0                 0                 0   \n",
       "\n",
       "        cat_travel  \n",
       "0                0  \n",
       "1                0  \n",
       "2                0  \n",
       "3                0  \n",
       "4                0  \n",
       "...            ...  \n",
       "555714           0  \n",
       "555715           0  \n",
       "555716           0  \n",
       "555717           1  \n",
       "555718           0  \n",
       "\n",
       "[1852394 rows x 13 columns]"
      ]
     },
     "execution_count": 141,
     "metadata": {},
     "output_type": "execute_result"
    }
   ],
   "source": [
    "category_dummies"
   ]
  },
  {
   "cell_type": "code",
   "execution_count": 142,
   "id": "5ec50e03",
   "metadata": {},
   "outputs": [
    {
     "data": {
      "text/html": [
       "<div>\n",
       "<style scoped>\n",
       "    .dataframe tbody tr th:only-of-type {\n",
       "        vertical-align: middle;\n",
       "    }\n",
       "\n",
       "    .dataframe tbody tr th {\n",
       "        vertical-align: top;\n",
       "    }\n",
       "\n",
       "    .dataframe thead th {\n",
       "        text-align: right;\n",
       "    }\n",
       "</style>\n",
       "<table border=\"1\" class=\"dataframe\">\n",
       "  <thead>\n",
       "    <tr style=\"text-align: right;\">\n",
       "      <th></th>\n",
       "      <th>trans_date_trans_time</th>\n",
       "      <th>cc_num</th>\n",
       "      <th>merchant</th>\n",
       "      <th>category</th>\n",
       "      <th>amt</th>\n",
       "      <th>first</th>\n",
       "      <th>last</th>\n",
       "      <th>gender</th>\n",
       "      <th>street</th>\n",
       "      <th>city</th>\n",
       "      <th>...</th>\n",
       "      <th>cat_grocery_pos</th>\n",
       "      <th>cat_health_fitness</th>\n",
       "      <th>cat_home</th>\n",
       "      <th>cat_kids_pets</th>\n",
       "      <th>cat_misc_net</th>\n",
       "      <th>cat_misc_pos</th>\n",
       "      <th>cat_personal_care</th>\n",
       "      <th>cat_shopping_net</th>\n",
       "      <th>cat_shopping_pos</th>\n",
       "      <th>cat_travel</th>\n",
       "    </tr>\n",
       "  </thead>\n",
       "  <tbody>\n",
       "    <tr>\n",
       "      <th>0</th>\n",
       "      <td>2019-01-01 00:00:18</td>\n",
       "      <td>2703186189652095</td>\n",
       "      <td>fraud_Rippin, Kub and Mann</td>\n",
       "      <td>misc_net</td>\n",
       "      <td>4.97</td>\n",
       "      <td>Jennifer</td>\n",
       "      <td>Banks</td>\n",
       "      <td>2</td>\n",
       "      <td>561 Perry Cove</td>\n",
       "      <td>Moravian Falls</td>\n",
       "      <td>...</td>\n",
       "      <td>0</td>\n",
       "      <td>0</td>\n",
       "      <td>0</td>\n",
       "      <td>0</td>\n",
       "      <td>1</td>\n",
       "      <td>0</td>\n",
       "      <td>0</td>\n",
       "      <td>0</td>\n",
       "      <td>0</td>\n",
       "      <td>0</td>\n",
       "    </tr>\n",
       "    <tr>\n",
       "      <th>1</th>\n",
       "      <td>2019-01-01 00:00:44</td>\n",
       "      <td>630423337322</td>\n",
       "      <td>fraud_Heller, Gutmann and Zieme</td>\n",
       "      <td>grocery_pos</td>\n",
       "      <td>107.23</td>\n",
       "      <td>Stephanie</td>\n",
       "      <td>Gill</td>\n",
       "      <td>2</td>\n",
       "      <td>43039 Riley Greens Suite 393</td>\n",
       "      <td>Orient</td>\n",
       "      <td>...</td>\n",
       "      <td>1</td>\n",
       "      <td>0</td>\n",
       "      <td>0</td>\n",
       "      <td>0</td>\n",
       "      <td>0</td>\n",
       "      <td>0</td>\n",
       "      <td>0</td>\n",
       "      <td>0</td>\n",
       "      <td>0</td>\n",
       "      <td>0</td>\n",
       "    </tr>\n",
       "    <tr>\n",
       "      <th>2</th>\n",
       "      <td>2019-01-01 00:00:51</td>\n",
       "      <td>38859492057661</td>\n",
       "      <td>fraud_Lind-Buckridge</td>\n",
       "      <td>entertainment</td>\n",
       "      <td>220.11</td>\n",
       "      <td>Edward</td>\n",
       "      <td>Sanchez</td>\n",
       "      <td>1</td>\n",
       "      <td>594 White Dale Suite 530</td>\n",
       "      <td>Malad City</td>\n",
       "      <td>...</td>\n",
       "      <td>0</td>\n",
       "      <td>0</td>\n",
       "      <td>0</td>\n",
       "      <td>0</td>\n",
       "      <td>0</td>\n",
       "      <td>0</td>\n",
       "      <td>0</td>\n",
       "      <td>0</td>\n",
       "      <td>0</td>\n",
       "      <td>0</td>\n",
       "    </tr>\n",
       "    <tr>\n",
       "      <th>3</th>\n",
       "      <td>2019-01-01 00:01:16</td>\n",
       "      <td>3534093764340240</td>\n",
       "      <td>fraud_Kutch, Hermiston and Farrell</td>\n",
       "      <td>gas_transport</td>\n",
       "      <td>45.00</td>\n",
       "      <td>Jeremy</td>\n",
       "      <td>White</td>\n",
       "      <td>1</td>\n",
       "      <td>9443 Cynthia Court Apt. 038</td>\n",
       "      <td>Boulder</td>\n",
       "      <td>...</td>\n",
       "      <td>0</td>\n",
       "      <td>0</td>\n",
       "      <td>0</td>\n",
       "      <td>0</td>\n",
       "      <td>0</td>\n",
       "      <td>0</td>\n",
       "      <td>0</td>\n",
       "      <td>0</td>\n",
       "      <td>0</td>\n",
       "      <td>0</td>\n",
       "    </tr>\n",
       "    <tr>\n",
       "      <th>4</th>\n",
       "      <td>2019-01-01 00:03:06</td>\n",
       "      <td>375534208663984</td>\n",
       "      <td>fraud_Keeling-Crist</td>\n",
       "      <td>misc_pos</td>\n",
       "      <td>41.96</td>\n",
       "      <td>Tyler</td>\n",
       "      <td>Garcia</td>\n",
       "      <td>1</td>\n",
       "      <td>408 Bradley Rest</td>\n",
       "      <td>Doe Hill</td>\n",
       "      <td>...</td>\n",
       "      <td>0</td>\n",
       "      <td>0</td>\n",
       "      <td>0</td>\n",
       "      <td>0</td>\n",
       "      <td>0</td>\n",
       "      <td>1</td>\n",
       "      <td>0</td>\n",
       "      <td>0</td>\n",
       "      <td>0</td>\n",
       "      <td>0</td>\n",
       "    </tr>\n",
       "    <tr>\n",
       "      <th>...</th>\n",
       "      <td>...</td>\n",
       "      <td>...</td>\n",
       "      <td>...</td>\n",
       "      <td>...</td>\n",
       "      <td>...</td>\n",
       "      <td>...</td>\n",
       "      <td>...</td>\n",
       "      <td>...</td>\n",
       "      <td>...</td>\n",
       "      <td>...</td>\n",
       "      <td>...</td>\n",
       "      <td>...</td>\n",
       "      <td>...</td>\n",
       "      <td>...</td>\n",
       "      <td>...</td>\n",
       "      <td>...</td>\n",
       "      <td>...</td>\n",
       "      <td>...</td>\n",
       "      <td>...</td>\n",
       "      <td>...</td>\n",
       "      <td>...</td>\n",
       "    </tr>\n",
       "    <tr>\n",
       "      <th>555714</th>\n",
       "      <td>2020-12-31 23:59:07</td>\n",
       "      <td>30560609640617</td>\n",
       "      <td>fraud_Reilly and Sons</td>\n",
       "      <td>health_fitness</td>\n",
       "      <td>43.77</td>\n",
       "      <td>Michael</td>\n",
       "      <td>Olson</td>\n",
       "      <td>1</td>\n",
       "      <td>558 Michael Estates</td>\n",
       "      <td>Luray</td>\n",
       "      <td>...</td>\n",
       "      <td>0</td>\n",
       "      <td>1</td>\n",
       "      <td>0</td>\n",
       "      <td>0</td>\n",
       "      <td>0</td>\n",
       "      <td>0</td>\n",
       "      <td>0</td>\n",
       "      <td>0</td>\n",
       "      <td>0</td>\n",
       "      <td>0</td>\n",
       "    </tr>\n",
       "    <tr>\n",
       "      <th>555715</th>\n",
       "      <td>2020-12-31 23:59:09</td>\n",
       "      <td>3556613125071656</td>\n",
       "      <td>fraud_Hoppe-Parisian</td>\n",
       "      <td>kids_pets</td>\n",
       "      <td>111.84</td>\n",
       "      <td>Jose</td>\n",
       "      <td>Vasquez</td>\n",
       "      <td>1</td>\n",
       "      <td>572 Davis Mountains</td>\n",
       "      <td>Lake Jackson</td>\n",
       "      <td>...</td>\n",
       "      <td>0</td>\n",
       "      <td>0</td>\n",
       "      <td>0</td>\n",
       "      <td>1</td>\n",
       "      <td>0</td>\n",
       "      <td>0</td>\n",
       "      <td>0</td>\n",
       "      <td>0</td>\n",
       "      <td>0</td>\n",
       "      <td>0</td>\n",
       "    </tr>\n",
       "    <tr>\n",
       "      <th>555716</th>\n",
       "      <td>2020-12-31 23:59:15</td>\n",
       "      <td>6011724471098086</td>\n",
       "      <td>fraud_Rau-Robel</td>\n",
       "      <td>kids_pets</td>\n",
       "      <td>86.88</td>\n",
       "      <td>Ann</td>\n",
       "      <td>Lawson</td>\n",
       "      <td>2</td>\n",
       "      <td>144 Evans Islands Apt. 683</td>\n",
       "      <td>Burbank</td>\n",
       "      <td>...</td>\n",
       "      <td>0</td>\n",
       "      <td>0</td>\n",
       "      <td>0</td>\n",
       "      <td>1</td>\n",
       "      <td>0</td>\n",
       "      <td>0</td>\n",
       "      <td>0</td>\n",
       "      <td>0</td>\n",
       "      <td>0</td>\n",
       "      <td>0</td>\n",
       "    </tr>\n",
       "    <tr>\n",
       "      <th>555717</th>\n",
       "      <td>2020-12-31 23:59:24</td>\n",
       "      <td>4079773899158</td>\n",
       "      <td>fraud_Breitenberg LLC</td>\n",
       "      <td>travel</td>\n",
       "      <td>7.99</td>\n",
       "      <td>Eric</td>\n",
       "      <td>Preston</td>\n",
       "      <td>1</td>\n",
       "      <td>7020 Doyle Stream Apt. 951</td>\n",
       "      <td>Mesa</td>\n",
       "      <td>...</td>\n",
       "      <td>0</td>\n",
       "      <td>0</td>\n",
       "      <td>0</td>\n",
       "      <td>0</td>\n",
       "      <td>0</td>\n",
       "      <td>0</td>\n",
       "      <td>0</td>\n",
       "      <td>0</td>\n",
       "      <td>0</td>\n",
       "      <td>1</td>\n",
       "    </tr>\n",
       "    <tr>\n",
       "      <th>555718</th>\n",
       "      <td>2020-12-31 23:59:34</td>\n",
       "      <td>4170689372027579</td>\n",
       "      <td>fraud_Dare-Marvin</td>\n",
       "      <td>entertainment</td>\n",
       "      <td>38.13</td>\n",
       "      <td>Samuel</td>\n",
       "      <td>Frey</td>\n",
       "      <td>1</td>\n",
       "      <td>830 Myers Plaza Apt. 384</td>\n",
       "      <td>Edmond</td>\n",
       "      <td>...</td>\n",
       "      <td>0</td>\n",
       "      <td>0</td>\n",
       "      <td>0</td>\n",
       "      <td>0</td>\n",
       "      <td>0</td>\n",
       "      <td>0</td>\n",
       "      <td>0</td>\n",
       "      <td>0</td>\n",
       "      <td>0</td>\n",
       "      <td>0</td>\n",
       "    </tr>\n",
       "  </tbody>\n",
       "</table>\n",
       "<p>1852394 rows × 40 columns</p>\n",
       "</div>"
      ],
      "text/plain": [
       "       trans_date_trans_time            cc_num  \\\n",
       "0        2019-01-01 00:00:18  2703186189652095   \n",
       "1        2019-01-01 00:00:44      630423337322   \n",
       "2        2019-01-01 00:00:51    38859492057661   \n",
       "3        2019-01-01 00:01:16  3534093764340240   \n",
       "4        2019-01-01 00:03:06   375534208663984   \n",
       "...                      ...               ...   \n",
       "555714   2020-12-31 23:59:07    30560609640617   \n",
       "555715   2020-12-31 23:59:09  3556613125071656   \n",
       "555716   2020-12-31 23:59:15  6011724471098086   \n",
       "555717   2020-12-31 23:59:24     4079773899158   \n",
       "555718   2020-12-31 23:59:34  4170689372027579   \n",
       "\n",
       "                                  merchant        category     amt      first  \\\n",
       "0               fraud_Rippin, Kub and Mann        misc_net    4.97   Jennifer   \n",
       "1          fraud_Heller, Gutmann and Zieme     grocery_pos  107.23  Stephanie   \n",
       "2                     fraud_Lind-Buckridge   entertainment  220.11     Edward   \n",
       "3       fraud_Kutch, Hermiston and Farrell   gas_transport   45.00     Jeremy   \n",
       "4                      fraud_Keeling-Crist        misc_pos   41.96      Tyler   \n",
       "...                                    ...             ...     ...        ...   \n",
       "555714               fraud_Reilly and Sons  health_fitness   43.77    Michael   \n",
       "555715                fraud_Hoppe-Parisian       kids_pets  111.84       Jose   \n",
       "555716                     fraud_Rau-Robel       kids_pets   86.88        Ann   \n",
       "555717               fraud_Breitenberg LLC          travel    7.99       Eric   \n",
       "555718                   fraud_Dare-Marvin   entertainment   38.13     Samuel   \n",
       "\n",
       "           last  gender                        street            city  ...  \\\n",
       "0         Banks       2                561 Perry Cove  Moravian Falls  ...   \n",
       "1          Gill       2  43039 Riley Greens Suite 393          Orient  ...   \n",
       "2       Sanchez       1      594 White Dale Suite 530      Malad City  ...   \n",
       "3         White       1   9443 Cynthia Court Apt. 038         Boulder  ...   \n",
       "4        Garcia       1              408 Bradley Rest        Doe Hill  ...   \n",
       "...         ...     ...                           ...             ...  ...   \n",
       "555714    Olson       1           558 Michael Estates           Luray  ...   \n",
       "555715  Vasquez       1           572 Davis Mountains    Lake Jackson  ...   \n",
       "555716   Lawson       2    144 Evans Islands Apt. 683         Burbank  ...   \n",
       "555717  Preston       1    7020 Doyle Stream Apt. 951            Mesa  ...   \n",
       "555718     Frey       1      830 Myers Plaza Apt. 384          Edmond  ...   \n",
       "\n",
       "       cat_grocery_pos  cat_health_fitness  cat_home  cat_kids_pets  \\\n",
       "0                    0                   0         0              0   \n",
       "1                    1                   0         0              0   \n",
       "2                    0                   0         0              0   \n",
       "3                    0                   0         0              0   \n",
       "4                    0                   0         0              0   \n",
       "...                ...                 ...       ...            ...   \n",
       "555714               0                   1         0              0   \n",
       "555715               0                   0         0              1   \n",
       "555716               0                   0         0              1   \n",
       "555717               0                   0         0              0   \n",
       "555718               0                   0         0              0   \n",
       "\n",
       "        cat_misc_net cat_misc_pos cat_personal_care cat_shopping_net  \\\n",
       "0                  1            0                 0                0   \n",
       "1                  0            0                 0                0   \n",
       "2                  0            0                 0                0   \n",
       "3                  0            0                 0                0   \n",
       "4                  0            1                 0                0   \n",
       "...              ...          ...               ...              ...   \n",
       "555714             0            0                 0                0   \n",
       "555715             0            0                 0                0   \n",
       "555716             0            0                 0                0   \n",
       "555717             0            0                 0                0   \n",
       "555718             0            0                 0                0   \n",
       "\n",
       "        cat_shopping_pos  cat_travel  \n",
       "0                      0           0  \n",
       "1                      0           0  \n",
       "2                      0           0  \n",
       "3                      0           0  \n",
       "4                      0           0  \n",
       "...                  ...         ...  \n",
       "555714                 0           0  \n",
       "555715                 0           0  \n",
       "555716                 0           0  \n",
       "555717                 0           1  \n",
       "555718                 0           0  \n",
       "\n",
       "[1852394 rows x 40 columns]"
      ]
     },
     "execution_count": 142,
     "metadata": {},
     "output_type": "execute_result"
    }
   ],
   "source": [
    "fraud_df1"
   ]
  },
  {
   "cell_type": "markdown",
   "id": "75784c47",
   "metadata": {},
   "source": [
    "### Modeling"
   ]
  },
  {
   "cell_type": "code",
   "execution_count": 143,
   "id": "792cfea1",
   "metadata": {},
   "outputs": [],
   "source": [
    "X = fraud_df1[['amt', 'gender', 'city_pop', 'age', 'tran_day_of_week', 'tran_day_of_month', 'tran_month_of_year',\n",
    "            'tran_hour_of_day', 'cat_food_dining', 'cat_gas_transport', 'cat_grocery_net', 'cat_grocery_pos',\n",
    "            'cat_health_fitness', 'cat_home', 'cat_kids_pets', 'cat_misc_net', 'cat_misc_pos', 'cat_personal_care',\n",
    "            'cat_shopping_net', 'cat_shopping_pos', 'cat_travel']]"
   ]
  },
  {
   "cell_type": "code",
   "execution_count": 144,
   "id": "496374d6",
   "metadata": {},
   "outputs": [],
   "source": [
    "y = fraud_df1.is_fraud"
   ]
  },
  {
   "cell_type": "code",
   "execution_count": 145,
   "id": "6277f3a5",
   "metadata": {},
   "outputs": [
    {
     "data": {
      "text/html": [
       "<div>\n",
       "<style scoped>\n",
       "    .dataframe tbody tr th:only-of-type {\n",
       "        vertical-align: middle;\n",
       "    }\n",
       "\n",
       "    .dataframe tbody tr th {\n",
       "        vertical-align: top;\n",
       "    }\n",
       "\n",
       "    .dataframe thead th {\n",
       "        text-align: right;\n",
       "    }\n",
       "</style>\n",
       "<table border=\"1\" class=\"dataframe\">\n",
       "  <thead>\n",
       "    <tr style=\"text-align: right;\">\n",
       "      <th></th>\n",
       "      <th>amt</th>\n",
       "      <th>gender</th>\n",
       "      <th>city_pop</th>\n",
       "      <th>age</th>\n",
       "      <th>tran_day_of_week</th>\n",
       "      <th>tran_day_of_month</th>\n",
       "      <th>tran_month_of_year</th>\n",
       "      <th>tran_hour_of_day</th>\n",
       "      <th>cat_food_dining</th>\n",
       "      <th>cat_gas_transport</th>\n",
       "      <th>...</th>\n",
       "      <th>cat_grocery_pos</th>\n",
       "      <th>cat_health_fitness</th>\n",
       "      <th>cat_home</th>\n",
       "      <th>cat_kids_pets</th>\n",
       "      <th>cat_misc_net</th>\n",
       "      <th>cat_misc_pos</th>\n",
       "      <th>cat_personal_care</th>\n",
       "      <th>cat_shopping_net</th>\n",
       "      <th>cat_shopping_pos</th>\n",
       "      <th>cat_travel</th>\n",
       "    </tr>\n",
       "  </thead>\n",
       "  <tbody>\n",
       "    <tr>\n",
       "      <th>0</th>\n",
       "      <td>4.97</td>\n",
       "      <td>2</td>\n",
       "      <td>3495</td>\n",
       "      <td>31.0</td>\n",
       "      <td>1</td>\n",
       "      <td>1</td>\n",
       "      <td>1</td>\n",
       "      <td>0</td>\n",
       "      <td>0</td>\n",
       "      <td>0</td>\n",
       "      <td>...</td>\n",
       "      <td>0</td>\n",
       "      <td>0</td>\n",
       "      <td>0</td>\n",
       "      <td>0</td>\n",
       "      <td>1</td>\n",
       "      <td>0</td>\n",
       "      <td>0</td>\n",
       "      <td>0</td>\n",
       "      <td>0</td>\n",
       "      <td>0</td>\n",
       "    </tr>\n",
       "    <tr>\n",
       "      <th>1</th>\n",
       "      <td>107.23</td>\n",
       "      <td>2</td>\n",
       "      <td>149</td>\n",
       "      <td>41.0</td>\n",
       "      <td>1</td>\n",
       "      <td>1</td>\n",
       "      <td>1</td>\n",
       "      <td>0</td>\n",
       "      <td>0</td>\n",
       "      <td>0</td>\n",
       "      <td>...</td>\n",
       "      <td>1</td>\n",
       "      <td>0</td>\n",
       "      <td>0</td>\n",
       "      <td>0</td>\n",
       "      <td>0</td>\n",
       "      <td>0</td>\n",
       "      <td>0</td>\n",
       "      <td>0</td>\n",
       "      <td>0</td>\n",
       "      <td>0</td>\n",
       "    </tr>\n",
       "    <tr>\n",
       "      <th>2</th>\n",
       "      <td>220.11</td>\n",
       "      <td>1</td>\n",
       "      <td>4154</td>\n",
       "      <td>57.0</td>\n",
       "      <td>1</td>\n",
       "      <td>1</td>\n",
       "      <td>1</td>\n",
       "      <td>0</td>\n",
       "      <td>0</td>\n",
       "      <td>0</td>\n",
       "      <td>...</td>\n",
       "      <td>0</td>\n",
       "      <td>0</td>\n",
       "      <td>0</td>\n",
       "      <td>0</td>\n",
       "      <td>0</td>\n",
       "      <td>0</td>\n",
       "      <td>0</td>\n",
       "      <td>0</td>\n",
       "      <td>0</td>\n",
       "      <td>0</td>\n",
       "    </tr>\n",
       "    <tr>\n",
       "      <th>3</th>\n",
       "      <td>45.00</td>\n",
       "      <td>1</td>\n",
       "      <td>1939</td>\n",
       "      <td>52.0</td>\n",
       "      <td>1</td>\n",
       "      <td>1</td>\n",
       "      <td>1</td>\n",
       "      <td>0</td>\n",
       "      <td>0</td>\n",
       "      <td>1</td>\n",
       "      <td>...</td>\n",
       "      <td>0</td>\n",
       "      <td>0</td>\n",
       "      <td>0</td>\n",
       "      <td>0</td>\n",
       "      <td>0</td>\n",
       "      <td>0</td>\n",
       "      <td>0</td>\n",
       "      <td>0</td>\n",
       "      <td>0</td>\n",
       "      <td>0</td>\n",
       "    </tr>\n",
       "    <tr>\n",
       "      <th>4</th>\n",
       "      <td>41.96</td>\n",
       "      <td>1</td>\n",
       "      <td>99</td>\n",
       "      <td>33.0</td>\n",
       "      <td>1</td>\n",
       "      <td>1</td>\n",
       "      <td>1</td>\n",
       "      <td>0</td>\n",
       "      <td>0</td>\n",
       "      <td>0</td>\n",
       "      <td>...</td>\n",
       "      <td>0</td>\n",
       "      <td>0</td>\n",
       "      <td>0</td>\n",
       "      <td>0</td>\n",
       "      <td>0</td>\n",
       "      <td>1</td>\n",
       "      <td>0</td>\n",
       "      <td>0</td>\n",
       "      <td>0</td>\n",
       "      <td>0</td>\n",
       "    </tr>\n",
       "    <tr>\n",
       "      <th>...</th>\n",
       "      <td>...</td>\n",
       "      <td>...</td>\n",
       "      <td>...</td>\n",
       "      <td>...</td>\n",
       "      <td>...</td>\n",
       "      <td>...</td>\n",
       "      <td>...</td>\n",
       "      <td>...</td>\n",
       "      <td>...</td>\n",
       "      <td>...</td>\n",
       "      <td>...</td>\n",
       "      <td>...</td>\n",
       "      <td>...</td>\n",
       "      <td>...</td>\n",
       "      <td>...</td>\n",
       "      <td>...</td>\n",
       "      <td>...</td>\n",
       "      <td>...</td>\n",
       "      <td>...</td>\n",
       "      <td>...</td>\n",
       "      <td>...</td>\n",
       "    </tr>\n",
       "    <tr>\n",
       "      <th>555714</th>\n",
       "      <td>43.77</td>\n",
       "      <td>1</td>\n",
       "      <td>519</td>\n",
       "      <td>55.0</td>\n",
       "      <td>3</td>\n",
       "      <td>31</td>\n",
       "      <td>12</td>\n",
       "      <td>23</td>\n",
       "      <td>0</td>\n",
       "      <td>0</td>\n",
       "      <td>...</td>\n",
       "      <td>0</td>\n",
       "      <td>1</td>\n",
       "      <td>0</td>\n",
       "      <td>0</td>\n",
       "      <td>0</td>\n",
       "      <td>0</td>\n",
       "      <td>0</td>\n",
       "      <td>0</td>\n",
       "      <td>0</td>\n",
       "      <td>0</td>\n",
       "    </tr>\n",
       "    <tr>\n",
       "      <th>555715</th>\n",
       "      <td>111.84</td>\n",
       "      <td>1</td>\n",
       "      <td>28739</td>\n",
       "      <td>21.0</td>\n",
       "      <td>3</td>\n",
       "      <td>31</td>\n",
       "      <td>12</td>\n",
       "      <td>23</td>\n",
       "      <td>0</td>\n",
       "      <td>0</td>\n",
       "      <td>...</td>\n",
       "      <td>0</td>\n",
       "      <td>0</td>\n",
       "      <td>0</td>\n",
       "      <td>1</td>\n",
       "      <td>0</td>\n",
       "      <td>0</td>\n",
       "      <td>0</td>\n",
       "      <td>0</td>\n",
       "      <td>0</td>\n",
       "      <td>0</td>\n",
       "    </tr>\n",
       "    <tr>\n",
       "      <th>555716</th>\n",
       "      <td>86.88</td>\n",
       "      <td>2</td>\n",
       "      <td>3684</td>\n",
       "      <td>39.0</td>\n",
       "      <td>3</td>\n",
       "      <td>31</td>\n",
       "      <td>12</td>\n",
       "      <td>23</td>\n",
       "      <td>0</td>\n",
       "      <td>0</td>\n",
       "      <td>...</td>\n",
       "      <td>0</td>\n",
       "      <td>0</td>\n",
       "      <td>0</td>\n",
       "      <td>1</td>\n",
       "      <td>0</td>\n",
       "      <td>0</td>\n",
       "      <td>0</td>\n",
       "      <td>0</td>\n",
       "      <td>0</td>\n",
       "      <td>0</td>\n",
       "    </tr>\n",
       "    <tr>\n",
       "      <th>555717</th>\n",
       "      <td>7.99</td>\n",
       "      <td>1</td>\n",
       "      <td>129</td>\n",
       "      <td>55.0</td>\n",
       "      <td>3</td>\n",
       "      <td>31</td>\n",
       "      <td>12</td>\n",
       "      <td>23</td>\n",
       "      <td>0</td>\n",
       "      <td>0</td>\n",
       "      <td>...</td>\n",
       "      <td>0</td>\n",
       "      <td>0</td>\n",
       "      <td>0</td>\n",
       "      <td>0</td>\n",
       "      <td>0</td>\n",
       "      <td>0</td>\n",
       "      <td>0</td>\n",
       "      <td>0</td>\n",
       "      <td>0</td>\n",
       "      <td>1</td>\n",
       "    </tr>\n",
       "    <tr>\n",
       "      <th>555718</th>\n",
       "      <td>38.13</td>\n",
       "      <td>1</td>\n",
       "      <td>116001</td>\n",
       "      <td>28.0</td>\n",
       "      <td>3</td>\n",
       "      <td>31</td>\n",
       "      <td>12</td>\n",
       "      <td>23</td>\n",
       "      <td>0</td>\n",
       "      <td>0</td>\n",
       "      <td>...</td>\n",
       "      <td>0</td>\n",
       "      <td>0</td>\n",
       "      <td>0</td>\n",
       "      <td>0</td>\n",
       "      <td>0</td>\n",
       "      <td>0</td>\n",
       "      <td>0</td>\n",
       "      <td>0</td>\n",
       "      <td>0</td>\n",
       "      <td>0</td>\n",
       "    </tr>\n",
       "  </tbody>\n",
       "</table>\n",
       "<p>1852394 rows × 21 columns</p>\n",
       "</div>"
      ],
      "text/plain": [
       "           amt  gender  city_pop   age  tran_day_of_week  tran_day_of_month  \\\n",
       "0         4.97       2      3495  31.0                 1                  1   \n",
       "1       107.23       2       149  41.0                 1                  1   \n",
       "2       220.11       1      4154  57.0                 1                  1   \n",
       "3        45.00       1      1939  52.0                 1                  1   \n",
       "4        41.96       1        99  33.0                 1                  1   \n",
       "...        ...     ...       ...   ...               ...                ...   \n",
       "555714   43.77       1       519  55.0                 3                 31   \n",
       "555715  111.84       1     28739  21.0                 3                 31   \n",
       "555716   86.88       2      3684  39.0                 3                 31   \n",
       "555717    7.99       1       129  55.0                 3                 31   \n",
       "555718   38.13       1    116001  28.0                 3                 31   \n",
       "\n",
       "        tran_month_of_year  tran_hour_of_day  cat_food_dining  \\\n",
       "0                        1                 0                0   \n",
       "1                        1                 0                0   \n",
       "2                        1                 0                0   \n",
       "3                        1                 0                0   \n",
       "4                        1                 0                0   \n",
       "...                    ...               ...              ...   \n",
       "555714                  12                23                0   \n",
       "555715                  12                23                0   \n",
       "555716                  12                23                0   \n",
       "555717                  12                23                0   \n",
       "555718                  12                23                0   \n",
       "\n",
       "        cat_gas_transport  ...  cat_grocery_pos  cat_health_fitness  cat_home  \\\n",
       "0                       0  ...                0                   0         0   \n",
       "1                       0  ...                1                   0         0   \n",
       "2                       0  ...                0                   0         0   \n",
       "3                       1  ...                0                   0         0   \n",
       "4                       0  ...                0                   0         0   \n",
       "...                   ...  ...              ...                 ...       ...   \n",
       "555714                  0  ...                0                   1         0   \n",
       "555715                  0  ...                0                   0         0   \n",
       "555716                  0  ...                0                   0         0   \n",
       "555717                  0  ...                0                   0         0   \n",
       "555718                  0  ...                0                   0         0   \n",
       "\n",
       "        cat_kids_pets  cat_misc_net  cat_misc_pos  cat_personal_care  \\\n",
       "0                   0             1             0                  0   \n",
       "1                   0             0             0                  0   \n",
       "2                   0             0             0                  0   \n",
       "3                   0             0             0                  0   \n",
       "4                   0             0             1                  0   \n",
       "...               ...           ...           ...                ...   \n",
       "555714              0             0             0                  0   \n",
       "555715              1             0             0                  0   \n",
       "555716              1             0             0                  0   \n",
       "555717              0             0             0                  0   \n",
       "555718              0             0             0                  0   \n",
       "\n",
       "        cat_shopping_net  cat_shopping_pos  cat_travel  \n",
       "0                      0                 0           0  \n",
       "1                      0                 0           0  \n",
       "2                      0                 0           0  \n",
       "3                      0                 0           0  \n",
       "4                      0                 0           0  \n",
       "...                  ...               ...         ...  \n",
       "555714                 0                 0           0  \n",
       "555715                 0                 0           0  \n",
       "555716                 0                 0           0  \n",
       "555717                 0                 0           1  \n",
       "555718                 0                 0           0  \n",
       "\n",
       "[1852394 rows x 21 columns]"
      ]
     },
     "execution_count": 145,
     "metadata": {},
     "output_type": "execute_result"
    }
   ],
   "source": [
    "X"
   ]
  },
  {
   "cell_type": "code",
   "execution_count": 146,
   "id": "d4e1813e",
   "metadata": {},
   "outputs": [
    {
     "data": {
      "text/plain": [
       "0         0\n",
       "1         0\n",
       "2         0\n",
       "3         0\n",
       "4         0\n",
       "         ..\n",
       "555714    0\n",
       "555715    0\n",
       "555716    0\n",
       "555717    0\n",
       "555718    0\n",
       "Name: is_fraud, Length: 1852394, dtype: int64"
      ]
     },
     "execution_count": 146,
     "metadata": {},
     "output_type": "execute_result"
    }
   ],
   "source": [
    "y"
   ]
  },
  {
   "cell_type": "markdown",
   "id": "2a2df4dc",
   "metadata": {},
   "source": [
    "### Train Val Test split (stratified)"
   ]
  },
  {
   "cell_type": "code",
   "execution_count": 163,
   "id": "47068d15",
   "metadata": {},
   "outputs": [],
   "source": [
    "X_train, X_test, y_train, y_test = train_test_split(X,y, stratify = y, test_size = 0.2, random_state=42)"
   ]
  },
  {
   "cell_type": "code",
   "execution_count": 164,
   "id": "a47a59ec",
   "metadata": {},
   "outputs": [
    {
     "data": {
      "text/plain": [
       "0    1474194\n",
       "1       7721\n",
       "Name: is_fraud, dtype: int64"
      ]
     },
     "execution_count": 164,
     "metadata": {},
     "output_type": "execute_result"
    }
   ],
   "source": [
    "y_train.value_counts()"
   ]
  },
  {
   "cell_type": "code",
   "execution_count": 165,
   "id": "125471ca",
   "metadata": {},
   "outputs": [
    {
     "data": {
      "text/plain": [
       "0    368549\n",
       "1      1930\n",
       "Name: is_fraud, dtype: int64"
      ]
     },
     "execution_count": 165,
     "metadata": {},
     "output_type": "execute_result"
    }
   ],
   "source": [
    "y_test.value_counts()"
   ]
  },
  {
   "cell_type": "code",
   "execution_count": 166,
   "id": "1dc7dddb",
   "metadata": {},
   "outputs": [
    {
     "data": {
      "text/plain": [
       "(1481915, 21)"
      ]
     },
     "execution_count": 166,
     "metadata": {},
     "output_type": "execute_result"
    }
   ],
   "source": [
    "X_train.shape"
   ]
  },
  {
   "cell_type": "code",
   "execution_count": 167,
   "id": "bc769377",
   "metadata": {},
   "outputs": [
    {
     "data": {
      "text/plain": [
       "(1481915,)"
      ]
     },
     "execution_count": 167,
     "metadata": {},
     "output_type": "execute_result"
    }
   ],
   "source": [
    "y_train.shape"
   ]
  },
  {
   "cell_type": "code",
   "execution_count": 168,
   "id": "138afb5a",
   "metadata": {},
   "outputs": [],
   "source": [
    "X_train, X_val, y_train, y_val = train_test_split(X_train, y_train, stratify = y_train, test_size=0.25, random_state=42)"
   ]
  },
  {
   "cell_type": "code",
   "execution_count": 169,
   "id": "829bd726",
   "metadata": {},
   "outputs": [
    {
     "data": {
      "text/plain": [
       "(1111436, 21)"
      ]
     },
     "execution_count": 169,
     "metadata": {},
     "output_type": "execute_result"
    }
   ],
   "source": [
    "X_train.shape"
   ]
  },
  {
   "cell_type": "code",
   "execution_count": 170,
   "id": "75eaa0d5",
   "metadata": {},
   "outputs": [
    {
     "data": {
      "text/plain": [
       "(1111436,)"
      ]
     },
     "execution_count": 170,
     "metadata": {},
     "output_type": "execute_result"
    }
   ],
   "source": [
    "y_train.shape"
   ]
  },
  {
   "cell_type": "code",
   "execution_count": 171,
   "id": "a40168b9",
   "metadata": {},
   "outputs": [
    {
     "data": {
      "text/plain": [
       "(370479, 21)"
      ]
     },
     "execution_count": 171,
     "metadata": {},
     "output_type": "execute_result"
    }
   ],
   "source": [
    "X_val.shape"
   ]
  },
  {
   "cell_type": "code",
   "execution_count": 172,
   "id": "db5245a7",
   "metadata": {},
   "outputs": [
    {
     "data": {
      "text/plain": [
       "(370479,)"
      ]
     },
     "execution_count": 172,
     "metadata": {},
     "output_type": "execute_result"
    }
   ],
   "source": [
    "y_val.shape"
   ]
  },
  {
   "cell_type": "code",
   "execution_count": 173,
   "id": "9225dc55",
   "metadata": {},
   "outputs": [
    {
     "data": {
      "text/plain": [
       "(370479, 21)"
      ]
     },
     "execution_count": 173,
     "metadata": {},
     "output_type": "execute_result"
    }
   ],
   "source": [
    "X_test.shape"
   ]
  },
  {
   "cell_type": "code",
   "execution_count": 174,
   "id": "a3cca215",
   "metadata": {},
   "outputs": [
    {
     "data": {
      "text/plain": [
       "(370479,)"
      ]
     },
     "execution_count": 174,
     "metadata": {},
     "output_type": "execute_result"
    }
   ],
   "source": [
    "y_test.shape"
   ]
  },
  {
   "cell_type": "code",
   "execution_count": 175,
   "id": "15dc1d1b",
   "metadata": {},
   "outputs": [
    {
     "data": {
      "text/plain": [
       "0    1105645\n",
       "1       5791\n",
       "Name: is_fraud, dtype: int64"
      ]
     },
     "execution_count": 175,
     "metadata": {},
     "output_type": "execute_result"
    }
   ],
   "source": [
    "y_train.value_counts()"
   ]
  },
  {
   "cell_type": "code",
   "execution_count": 176,
   "id": "ac2b104f",
   "metadata": {},
   "outputs": [
    {
     "data": {
      "text/plain": [
       "0    368549\n",
       "1      1930\n",
       "Name: is_fraud, dtype: int64"
      ]
     },
     "execution_count": 176,
     "metadata": {},
     "output_type": "execute_result"
    }
   ],
   "source": [
    "y_val.value_counts()"
   ]
  },
  {
   "cell_type": "code",
   "execution_count": 177,
   "id": "55a74eec",
   "metadata": {},
   "outputs": [
    {
     "data": {
      "text/plain": [
       "0    368549\n",
       "1      1930\n",
       "Name: is_fraud, dtype: int64"
      ]
     },
     "execution_count": 177,
     "metadata": {},
     "output_type": "execute_result"
    }
   ],
   "source": [
    "y_test.value_counts()"
   ]
  },
  {
   "cell_type": "markdown",
   "id": "03c50c47",
   "metadata": {},
   "source": [
    "### Correcting Class Imbalance using SMOTE"
   ]
  },
  {
   "cell_type": "code",
   "execution_count": null,
   "id": "af58e208",
   "metadata": {},
   "outputs": [],
   "source": [
    "#selecting the best ratio for SMOTE (this run for around 25 mins)\n",
    "\n",
    "scores = []\n",
    "n_pos = np.sum(y_train == 1)\n",
    "n_neg = np.sum(y_train == 0)\n",
    "\n",
    "for i in range(2,101):\n",
    "    ratio = {1 : n_pos * i, 0 : n_neg} \n",
    "    smote = imblearn.over_sampling.SMOTE(sampling_strategy=ratio, random_state = 42)\n",
    "    X_train_smote, y_train_smote = smote.fit_resample(X_train, y_train)\n",
    "    lr_smote = LogisticRegression(max_iter = 1000)\n",
    "    lr_smote.fit(X_train_smote, y_train_smote)\n",
    "    scores.append([i, f1_score(y_val, lr_smote.predict(X_val)), roc_auc_score(y_val, lr_smote.predict_proba(X_val)[:,1])])"
   ]
  },
  {
   "cell_type": "code",
   "execution_count": 314,
   "id": "4ae58e91",
   "metadata": {},
   "outputs": [
    {
     "name": "stdout",
     "output_type": "stream",
     "text": [
      "[2, 0.051834130781499205, 0.7464173822008636]\n",
      "[3, 0.1347184986595174, 0.7868799948803569]\n",
      "[4, 0.19656601539372406, 0.8029206442511978]\n",
      "[5, 0.23838926174496644, 0.7670124459656288]\n",
      "[6, 0.26006501625406353, 0.8157560505765524]\n",
      "[7, 0.2772695285010556, 0.819058183881652]\n",
      "[8, 0.27699632114260986, 0.7859298157596244]\n",
      "[9, 0.29820485744456177, 0.8234574751676006]\n",
      "[10, 0.30544865302815477, 0.8250271176179678]\n",
      "[11, 0.31259780907668233, 0.8263830160898311]\n",
      "[12, 0.3120728929384966, 0.827551220085793]\n",
      "[13, 0.2846299810246679, 0.7987711773817042]\n",
      "[14, 0.33241201400405385, 0.8358573969052168]\n",
      "[15, 0.28177243953903586, 0.8018930518965448]\n",
      "[16, 0.33031674208144796, 0.8367892321374523]\n",
      "[17, 0.3110522832561218, 0.8314824385455483]\n",
      "[18, 0.27706146926536734, 0.8056774095898862]\n",
      "[19, 0.30649762282091914, 0.8326483945435255]\n",
      "[20, 0.2718781434114097, 0.8077809241470509]\n",
      "[21, 0.30446034404018874, 0.8335367572343677]\n",
      "[22, 0.3027399311274143, 0.8339143520078327]\n",
      "[23, 0.26693877551020406, 0.8105357803042115]\n",
      "[24, 0.2974492001729356, 0.8346957274274747]\n",
      "[25, 0.2964432478390251, 0.8350334023117713]\n",
      "[26, 0.30982692032613357, 0.8399843866066163]\n",
      "[27, 0.29222115516531755, 0.8356639313025311]\n",
      "[28, 0.25734089477000627, 0.8143648955109027]\n",
      "[29, 0.2860930664191966, 0.8362326776044585]\n",
      "[30, 0.283097854526426, 0.8364968532175551]\n",
      "[31, 0.2517329441809558, 0.8162402460049287]\n",
      "[32, 0.2945250228668496, 0.8413312354455662]\n",
      "[33, 0.2771855010660981, 0.8371925305676762]\n",
      "[34, 0.27598166728601514, 0.8374127654822006]\n",
      "[35, 0.24587880195031342, 0.8184933459189355]\n",
      "[36, 0.2446588559614059, 0.8190135557090242]\n",
      "[37, 0.26946966077400863, 0.8379866797895015]\n",
      "[38, 0.24240378122889938, 0.8199830529913015]\n",
      "[39, 0.27998559250810423, 0.8425551993515192]\n",
      "[40, 0.2636070110701107, 0.8385040736071301]\n",
      "[41, 0.2621791215059897, 0.8386666408360124]\n",
      "[42, 0.236961696602467, 0.8217688462823055]\n",
      "[43, 0.2723717506326202, 0.8430457915221289]\n",
      "[44, 0.23370834217788153, 0.8226019636142899]\n",
      "[45, 0.23178041855084658, 0.8229739601838928]\n",
      "[46, 0.23020833333333332, 0.8233467201449315]\n",
      "[47, 0.22901863865719288, 0.8237227417415703]\n",
      "[48, 0.2524416135881104, 0.8393697496541436]\n",
      "[49, 0.26220968092033864, 0.8437138546280858]\n",
      "[50, 0.22373424054432658, 0.8247603537845526]\n",
      "[51, 0.22197998216232281, 0.8251035017496214]\n",
      "[52, 0.2546161321671526, 0.8512152481689255]\n",
      "[53, 0.21899375975039, 0.8257156517049489]\n",
      "[54, 0.24219299126418317, 0.8402057673112329]\n",
      "[55, 0.24088244062406838, 0.8402901916558166]\n",
      "[56, 0.25205479452054796, 0.8444466007479802]\n",
      "[57, 0.23733775739240753, 0.8404642927030027]\n",
      "[58, 0.21090639755578192, 0.8271235774822695]\n",
      "[59, 0.23473007958577044, 0.8406287311547229]\n",
      "[60, 0.2462139716658525, 0.8447820304460468]\n",
      "[61, 0.23239171374764594, 0.8407669598338152]\n",
      "[62, 0.24613543432731622, 0.8457916233521694]\n",
      "[63, 0.2043086703160869, 0.8283624577475845]\n",
      "[64, 0.22769909876770278, 0.8409652265078692]\n",
      "[65, 0.2260885407177992, 0.841037369107365]\n",
      "[66, 0.224713007321703, 0.8410976151721841]\n",
      "[67, 0.19901678250550942, 0.8292406081448918]\n",
      "[68, 0.22216293134115972, 0.8412052435234849]\n",
      "[69, 0.19689291351665697, 0.8296366128830923]\n",
      "[70, 0.21925693354264783, 0.841306454044391]\n",
      "[71, 0.21787322480083132, 0.841356908173022]\n",
      "[72, 0.2167555479098572, 0.8414056963369174]\n",
      "[73, 0.19187719859290053, 0.8303879686023147]\n",
      "[74, 0.21354298757291404, 0.8415014506475803]\n",
      "[75, 0.21238493723849372, 0.8414668224809977]\n",
      "[76, 0.18820049813200498, 0.8308972645660393]\n",
      "[77, 0.2105697089619919, 0.8416312946737757]\n",
      "[78, 0.2192088443599931, 0.8523504955865501]\n",
      "[79, 0.18440360033280384, 0.8313688773915611]\n",
      "[80, 0.20673541733805995, 0.8417383691093754]\n",
      "[81, 0.18176426982950333, 0.8316539696488219]\n",
      "[82, 0.18022785740536568, 0.831789039321365]\n",
      "[83, 0.21205989477944154, 0.8463084182660198]\n",
      "[84, 0.1773903018949492, 0.8320640669022196]\n",
      "[85, 0.20294650594816038, 0.8416568675839351]\n",
      "[86, 0.17502652989034312, 0.8323136101431918]\n",
      "[87, 0.19876156257166883, 0.8419567904420355]\n",
      "[88, 0.1973754077220663, 0.8419781977374174]\n",
      "[89, 0.17143643368189324, 0.8326523830177488]\n",
      "[90, 0.1704886704886705, 0.8327645158002837]\n",
      "[91, 0.19333333333333336, 0.8420402194254104]\n",
      "[92, 0.19969719909159725, 0.8465599733175714]\n",
      "[93, 0.16684336072091174, 0.8330537174372254]\n",
      "[94, 0.1905451386375154, 0.8420981964040832]\n",
      "[95, 0.18937976687293134, 0.8421179897521941]\n",
      "[96, 0.16308405200154463, 0.833335574770557]\n",
      "[97, 0.16185192270901091, 0.8334226238882726]\n",
      "[98, 0.16070751737207833, 0.8335008834603963]\n",
      "[99, 0.18468846046381673, 0.8421748870170132]\n",
      "[100, 0.1836352279825109, 0.8421948814055941]\n"
     ]
    }
   ],
   "source": [
    "for i in scores:\n",
    "    print(i)"
   ]
  },
  {
   "cell_type": "code",
   "execution_count": 315,
   "id": "0fdbc8b0",
   "metadata": {},
   "outputs": [
    {
     "name": "stdout",
     "output_type": "stream",
     "text": [
      "Simple Logistic Regression; Val F1: 0.000, Val AUC: 0.589\n"
     ]
    }
   ],
   "source": [
    "# simple lr\n",
    "lr = LogisticRegression(max_iter = 1000) \n",
    "lr.fit(X_train, y_train)\n",
    "\n",
    "print('Simple Logistic Regression; Val F1: %.3f, Val AUC: %.3f' % \\\n",
    "      (f1_score(y_val, lr.predict(X_val)), roc_auc_score(y_val, lr.predict_proba(X_val)[:,1])))"
   ]
  },
  {
   "cell_type": "code",
   "execution_count": 319,
   "id": "b9242f27",
   "metadata": {},
   "outputs": [],
   "source": [
    "# setup for the ratio argument of SMOTE initialization (1:14 is selected as it provides best scores)\n",
    "n_pos = np.sum(y_train == 1)\n",
    "n_neg = np.sum(y_train == 0)\n",
    "ratio = {1 : n_pos * 14, 0 : n_neg} "
   ]
  },
  {
   "cell_type": "code",
   "execution_count": 320,
   "id": "379b3bf0",
   "metadata": {},
   "outputs": [
    {
     "data": {
      "text/plain": [
       "LogisticRegression(max_iter=1000)"
      ]
     },
     "execution_count": 320,
     "metadata": {},
     "output_type": "execute_result"
    }
   ],
   "source": [
    "smote = imblearn.over_sampling.SMOTE(sampling_strategy=ratio, random_state = 42)\n",
    "X_train_smote, y_train_smote = smote.fit_resample(X_train, y_train)\n",
    "\n",
    "# smote lr\n",
    "lr_smote = LogisticRegression(max_iter = 1000)\n",
    "lr_smote.fit(X_train_smote, y_train_smote)"
   ]
  },
  {
   "cell_type": "code",
   "execution_count": 321,
   "id": "886ff83f",
   "metadata": {
    "scrolled": true
   },
   "outputs": [
    {
     "name": "stdout",
     "output_type": "stream",
     "text": [
      "Logistic Regression on SMOTE Train Data; Val F1: 0.332, Val AUC: 0.836\n"
     ]
    }
   ],
   "source": [
    "print('Logistic Regression on SMOTE Train Data; Val F1: %.3f, Val AUC: %.3f' % \\\n",
    "      (f1_score(y_val, lr_smote.predict(X_val)), roc_auc_score(y_val, lr_smote.predict_proba(X_val)[:,1])))"
   ]
  },
  {
   "cell_type": "code",
   "execution_count": 322,
   "id": "1e43eade",
   "metadata": {},
   "outputs": [
    {
     "data": {
      "image/png": "[encoded data removed]",
      "text/plain": [
       "<Figure size 600x400 with 2 Axes>"
      ]
     },
     "metadata": {},
     "output_type": "display_data"
    }
   ],
   "source": [
    "# Print confusion matrix for logistic regression\n",
    "logit_confusion = confusion_matrix(y_val, lr.predict(X_val))\n",
    "plt.figure(dpi=100)\n",
    "sns.heatmap(logit_confusion, cmap=plt.cm.Blues, annot=True, square=True, fmt='g',\n",
    "           xticklabels=['True', 'False'],\n",
    "           yticklabels=['True', 'False'])\n",
    "\n",
    "plt.xlabel('Predicted values')\n",
    "plt.ylabel('Actual values')\n",
    "plt.title('Logistic regression confusion matrix');\n",
    "\n",
    "#plt.savefig(\"confusion_matrix_logreg\")"
   ]
  },
  {
   "cell_type": "code",
   "execution_count": 351,
   "id": "b7965932",
   "metadata": {},
   "outputs": [
    {
     "data": {
      "image/png": "[encoded data removed]",
      "text/plain": [
       "<Figure size 600x400 with 2 Axes>"
      ]
     },
     "metadata": {},
     "output_type": "display_data"
    }
   ],
   "source": [
    "# Print confusion matrix for SMOTE logistic regression\n",
    "logit_confusion = confusion_matrix(y_val, lr_smote.predict(X_val))\n",
    "plt.figure(dpi=100)\n",
    "sns.heatmap(logit_confusion, cmap=plt.cm.Blues, annot=True, square=True, fmt='g',\n",
    "           xticklabels=['True', 'False'],\n",
    "           yticklabels=['True', 'False'])\n",
    "\n",
    "plt.xlabel('Predicted values')\n",
    "plt.ylabel('Actual values')\n",
    "plt.title('SMOTE Logistic regression confusion matrix');\n",
    "\n",
    "plt.savefig(\"confusion_matrix_logreg\")"
   ]
  },
  {
   "cell_type": "code",
   "execution_count": 324,
   "id": "dc19e31c",
   "metadata": {},
   "outputs": [],
   "source": [
    "# Random Forest\n",
    "rf = RandomForestClassifier(n_estimators=100,n_jobs=-1)"
   ]
  },
  {
   "cell_type": "code",
   "execution_count": 325,
   "id": "2cde593d",
   "metadata": {},
   "outputs": [
    {
     "data": {
      "text/plain": [
       "RandomForestClassifier(n_jobs=-1)"
      ]
     },
     "execution_count": 325,
     "metadata": {},
     "output_type": "execute_result"
    }
   ],
   "source": [
    "rf.fit(X_train, y_train)"
   ]
  },
  {
   "cell_type": "code",
   "execution_count": 326,
   "id": "86105257",
   "metadata": {},
   "outputs": [
    {
     "data": {
      "image/png": "[encoded data removed]",
      "text/plain": [
       "<Figure size 600x400 with 2 Axes>"
      ]
     },
     "metadata": {},
     "output_type": "display_data"
    }
   ],
   "source": [
    "# Print confusion matrix for random forest\n",
    "logit_confusion = confusion_matrix(y_val, rf.predict(X_val))\n",
    "plt.figure(dpi=100)\n",
    "sns.heatmap(logit_confusion, cmap=plt.cm.Blues, annot=True, square=True, fmt='g',\n",
    "           xticklabels=['True', 'False'],\n",
    "           yticklabels=['True', 'False'])\n",
    "\n",
    "plt.xlabel('Predicted values')\n",
    "plt.ylabel('Actual values')\n",
    "plt.title('Random Forest confusion matrix');\n",
    "\n",
    "plt.savefig(\"confusion_matrix_rf\")"
   ]
  },
  {
   "cell_type": "code",
   "execution_count": 327,
   "id": "1b229581",
   "metadata": {},
   "outputs": [],
   "source": [
    "# Random Forest SMOTE\n",
    "rf_smote = RandomForestClassifier(n_estimators=100,n_jobs=-1)"
   ]
  },
  {
   "cell_type": "code",
   "execution_count": 328,
   "id": "d416b7fb",
   "metadata": {},
   "outputs": [
    {
     "data": {
      "text/plain": [
       "RandomForestClassifier(n_jobs=-1)"
      ]
     },
     "execution_count": 328,
     "metadata": {},
     "output_type": "execute_result"
    }
   ],
   "source": [
    "rf_smote.fit(X_train_smote, y_train_smote)"
   ]
  },
  {
   "cell_type": "code",
   "execution_count": 352,
   "id": "3945c9db",
   "metadata": {},
   "outputs": [
    {
     "data": {
      "image/png": "[encoded data removed]",
      "text/plain": [
       "<Figure size 600x400 with 2 Axes>"
      ]
     },
     "metadata": {},
     "output_type": "display_data"
    }
   ],
   "source": [
    "# Print confusion matrix for random forest\n",
    "logit_confusion = confusion_matrix(y_val, rf_smote.predict(X_val))\n",
    "plt.figure(dpi=100)\n",
    "sns.heatmap(logit_confusion, cmap=plt.cm.Blues, annot=True, square=True, fmt='g',\n",
    "           xticklabels=['True', 'False'],\n",
    "           yticklabels=['True', 'False'])\n",
    "\n",
    "plt.xlabel('Predicted values')\n",
    "plt.ylabel('Actual values')\n",
    "plt.title('Random Forest SMOTE confusion matrix');\n",
    "\n",
    "plt.savefig(\"confusion_matrix_rf_smote\")"
   ]
  },
  {
   "cell_type": "code",
   "execution_count": 337,
   "id": "fb6f920d",
   "metadata": {},
   "outputs": [
    {
     "name": "stderr",
     "output_type": "stream",
     "text": [
      "/Users/sambutsydypov/opt/anaconda3/envs/metis/lib/python3.8/site-packages/xgboost/sklearn.py:1146: UserWarning: The use of label encoder in XGBClassifier is deprecated and will be removed in a future release. To remove this warning, do the following: 1) Pass option use_label_encoder=False when constructing XGBClassifier object; and 2) Encode your labels (y) as integers starting with 0, i.e. 0, 1, 2, ..., [num_class - 1].\n",
      "  warnings.warn(label_encoder_deprecation_msg, UserWarning)\n",
      "/Users/sambutsydypov/opt/anaconda3/envs/metis/lib/python3.8/site-packages/xgboost/core.py:101: UserWarning: ntree_limit is deprecated, use `iteration_range` or model slicing instead.\n",
      "  warnings.warn(\n",
      "/Users/sambutsydypov/opt/anaconda3/envs/metis/lib/python3.8/site-packages/xgboost/data.py:112: UserWarning: Use subset (sliced data) of np.ndarray is not recommended because it will generate extra copies and increase memory consumption\n",
      "  warnings.warn(\n"
     ]
    },
    {
     "data": {
      "text/plain": [
       "0.9988366412131322"
      ]
     },
     "execution_count": 337,
     "metadata": {},
     "output_type": "execute_result"
    }
   ],
   "source": [
    "#XGBoost\n",
    "gbm = xgb.XGBClassifier( \n",
    "                        n_estimators=30000,\n",
    "                        max_depth=4,\n",
    "                        objective='binary:logistic',\n",
    "                        learning_rate=.05, \n",
    "                        subsample=.7,\n",
    "                        min_child_weight=3,\n",
    "                        colsample_bytree=.8\n",
    "                       )\n",
    "\n",
    "eval_set=[(X_train,y_train),(X_val,y_val)]\n",
    "fit_model = gbm.fit( \n",
    "                    X_train, y_train, \n",
    "                    eval_set=eval_set,\n",
    "                    eval_metric='error',\n",
    "                    early_stopping_rounds=50,\n",
    "                    verbose=False\n",
    "                   )\n",
    "\n",
    "accuracy_score(y_test, gbm.predict(X_test, ntree_limit=gbm.best_ntree_limit)) "
   ]
  },
  {
   "cell_type": "code",
   "execution_count": 380,
   "id": "dd424d84",
   "metadata": {},
   "outputs": [
    {
     "data": {
      "image/png": "[encoded data removed]",
      "text/plain": [
       "<Figure size 600x400 with 2 Axes>"
      ]
     },
     "metadata": {},
     "output_type": "display_data"
    }
   ],
   "source": [
    "# Print confusion matrix for XGBoost\n",
    "logit_confusion = confusion_matrix(y_test, gbm.predict(X_test))\n",
    "plt.figure(dpi=100)\n",
    "sns.heatmap(logit_confusion, cmap=plt.cm.Blues, annot=True, square=True, fmt='g',\n",
    "           xticklabels=['True', 'False'],\n",
    "           yticklabels=['True', 'False'])\n",
    "\n",
    "plt.xlabel('Predicted values')\n",
    "plt.ylabel('Actual values')\n",
    "plt.title('XGBoost confusion matrix');\n",
    "\n",
    "plt.savefig(\"confusion_matrix_XGBoost\")"
   ]
  },
  {
   "cell_type": "code",
   "execution_count": 341,
   "id": "6184e2af",
   "metadata": {},
   "outputs": [
    {
     "name": "stderr",
     "output_type": "stream",
     "text": [
      "/Users/sambutsydypov/opt/anaconda3/envs/metis/lib/python3.8/site-packages/xgboost/sklearn.py:1146: UserWarning: The use of label encoder in XGBClassifier is deprecated and will be removed in a future release. To remove this warning, do the following: 1) Pass option use_label_encoder=False when constructing XGBClassifier object; and 2) Encode your labels (y) as integers starting with 0, i.e. 0, 1, 2, ..., [num_class - 1].\n",
      "  warnings.warn(label_encoder_deprecation_msg, UserWarning)\n",
      "/Users/sambutsydypov/opt/anaconda3/envs/metis/lib/python3.8/site-packages/xgboost/core.py:101: UserWarning: ntree_limit is deprecated, use `iteration_range` or model slicing instead.\n",
      "  warnings.warn(\n",
      "/Users/sambutsydypov/opt/anaconda3/envs/metis/lib/python3.8/site-packages/xgboost/data.py:112: UserWarning: Use subset (sliced data) of np.ndarray is not recommended because it will generate extra copies and increase memory consumption\n",
      "  warnings.warn(\n"
     ]
    },
    {
     "data": {
      "text/plain": [
       "0.9961671241824773"
      ]
     },
     "execution_count": 341,
     "metadata": {},
     "output_type": "execute_result"
    }
   ],
   "source": [
    "#XGBoost SMOTE\n",
    "gbm_smote = xgb.XGBClassifier( \n",
    "                        n_estimators=30000,\n",
    "                        max_depth=4,\n",
    "                        objective='binary:logistic',\n",
    "                        learning_rate=.05, \n",
    "                        subsample=.7,\n",
    "                        min_child_weight=3,\n",
    "                        colsample_bytree=.8\n",
    "                       )\n",
    "\n",
    "eval_set=[(X_train_smote,y_train_smote),(X_val,y_val)]\n",
    "fit_model = gbm_smote.fit( \n",
    "                    X_train_smote, y_train_smote, \n",
    "                    eval_set=eval_set,\n",
    "                    eval_metric='error',\n",
    "                    early_stopping_rounds=50,\n",
    "                    verbose=False\n",
    "                   )\n",
    "\n",
    "accuracy_score(y_test, gbm_smote.predict(X_test, ntree_limit=gbm_smote.best_ntree_limit)) "
   ]
  },
  {
   "cell_type": "code",
   "execution_count": 343,
   "id": "fade636b",
   "metadata": {},
   "outputs": [
    {
     "name": "stderr",
     "output_type": "stream",
     "text": [
      "/Users/sambutsydypov/opt/anaconda3/envs/metis/lib/python3.8/site-packages/xgboost/data.py:112: UserWarning: Use subset (sliced data) of np.ndarray is not recommended because it will generate extra copies and increase memory consumption\n",
      "  warnings.warn(\n"
     ]
    },
    {
     "data": {
      "image/png": "[encoded data removed]",
      "text/plain": [
       "<Figure size 600x400 with 2 Axes>"
      ]
     },
     "metadata": {},
     "output_type": "display_data"
    }
   ],
   "source": [
    "# Print confusion matrix for XGBoost SMOTE\n",
    "logit_confusion = confusion_matrix(y_val, gbm_smote.predict(X_val))\n",
    "plt.figure(dpi=100)\n",
    "sns.heatmap(logit_confusion, cmap=plt.cm.Blues, annot=True, square=True, fmt='g',\n",
    "           xticklabels=['True', 'False'],\n",
    "           yticklabels=['True', 'False'])\n",
    "\n",
    "plt.xlabel('Predicted values')\n",
    "plt.ylabel('Actual values')\n",
    "plt.title('XGBoost SMOTE confusion matrix');\n",
    "\n",
    "plt.savefig(\"confusion_matrix_XGBoost_smote\")"
   ]
  },
  {
   "cell_type": "markdown",
   "id": "ed55155c",
   "metadata": {},
   "source": [
    "### Plot 3 best models"
   ]
  },
  {
   "cell_type": "code",
   "execution_count": 379,
   "id": "f7aa91fc",
   "metadata": {},
   "outputs": [
    {
     "name": "stdout",
     "output_type": "stream",
     "text": [
      "ROC AUC score for Logistic Regression is 0.5890336163144313\n",
      "ROC AUC score for Logistic Regression with SMOTE is 0.8358573969052168\n",
      "ROC AUC score for Random Forest is 0.9868985559769142\n",
      "ROC AUC score for Random Forest with SMOTE is 0.9915346124840199\n",
      "ROC AUC score for XGBoost is 0.9986706402760794\n"
     ]
    },
    {
     "data": {
      "image/png": "[encoded data removed]",
      "text/plain": [
       "<Figure size 864x504 with 1 Axes>"
      ]
     },
     "metadata": {},
     "output_type": "display_data"
    }
   ],
   "source": [
    "import warnings\n",
    "warnings.filterwarnings('ignore')\n",
    "plt.figure(figsize=(12, 7))\n",
    "fpr, tpr, _ = roc_curve(y_val, lr.predict_proba(X_val)[:,1])\n",
    "plt.plot(fpr, tpr)\n",
    "\n",
    "fpr, tpr, _ = roc_curve(y_val, lr_smote.predict_proba(X_val)[:,1])\n",
    "plt.plot(fpr, tpr)\n",
    "\n",
    "fpr, tpr, _ = roc_curve(y_val, rf.predict_proba(X_val)[:,1])\n",
    "plt.plot(fpr, tpr)\n",
    "\n",
    "fpr, tpr, _ = roc_curve(y_val, rf_smote.predict_proba(X_val)[:,1])\n",
    "plt.plot(fpr, tpr)\n",
    "\n",
    "fpr, tpr, _ = roc_curve(y_val, gbm.predict_proba(X_val)[:,1])\n",
    "plt.plot(fpr, tpr)\n",
    "\n",
    "x = np.linspace(0,1, 100000)\n",
    "plt.plot(x, x, linestyle='--')\n",
    "\n",
    "plt.title('ROC Curve')\n",
    "plt.xlabel('False Positive Rate')\n",
    "plt.ylabel('True Positive Rate')\n",
    "plt.legend(['Logistic Regression - ROC AUC score is 0.589', \n",
    "            'Logistic Regression with SMOTE - ROC AUC score is 0.835', \n",
    "            'Random Forest - ROC AUC score is 0.986', \n",
    "            'Random Forest with SMOTE - ROC AUC score is 0.991', \n",
    "            'XGBoost - ROC AUC score is 0.998'])\n",
    "plt.savefig('ROC curve.png',  dpi=500)\n",
    "print(f'ROC AUC score for Logistic Regression is {roc_auc_score(y_val, lr.predict_proba(X_val)[:,1])}')\n",
    "print(f'ROC AUC score for Logistic Regression with SMOTE is {roc_auc_score(y_val, lr_smote.predict_proba(X_val)[:,1])}')\n",
    "print(f'ROC AUC score for Random Forest is {roc_auc_score(y_val, rf.predict_proba(X_val)[:,1])}')\n",
    "print(f'ROC AUC score for Random Forest with SMOTE is {roc_auc_score(y_val, rf_smote.predict_proba(X_val)[:,1])}')\n",
    "print(f'ROC AUC score for XGBoost is {roc_auc_score(y_val, gbm.predict_proba(X_val)[:,1])}')"
   ]
  },
  {
   "cell_type": "markdown",
   "id": "d31bf6c6",
   "metadata": {},
   "source": [
    "### XGBoost is selected as it outperforms other models"
   ]
  },
  {
   "cell_type": "code",
   "execution_count": 367,
   "id": "76c7f910",
   "metadata": {},
   "outputs": [
    {
     "name": "stdout",
     "output_type": "stream",
     "text": [
      "Default threshold:\n",
      "Precision: 0.9607,   Recall: 0.8098\n"
     ]
    }
   ],
   "source": [
    "# Tuning the precision and recall\n",
    "# default threshold \n",
    "y_predict = gbm.predict(X_test)\n",
    "print(\"Default threshold:\")\n",
    "print(\"Precision: {:6.4f},   Recall: {:6.4f}\".format(precision_score(y_test, y_predict), \n",
    "                                                     recall_score(y_test, y_predict)))"
   ]
  },
  {
   "cell_type": "code",
   "execution_count": 371,
   "id": "38234020",
   "metadata": {
    "scrolled": true
   },
   "outputs": [
    {
     "name": "stdout",
     "output_type": "stream",
     "text": [
      "XGBoost best F1 score 0.878 at prob decision threshold >= 0.462\n"
     ]
    },
    {
     "data": {
      "image/png": "[encoded data removed]",
      "text/plain": [
       "<Figure size 720x360 with 1 Axes>"
      ]
     },
     "metadata": {},
     "output_type": "display_data"
    }
   ],
   "source": [
    "thresh_ps = np.linspace(.10,.50,1000)\n",
    "model_val_probs = gbm.predict_proba(X_val)[:,1] \n",
    "\n",
    "f1_scores, prec_scores, rec_scores, acc_scores = [], [], [], []\n",
    "for p in thresh_ps:\n",
    "    model_val_labels = model_val_probs >= p\n",
    "    f1_scores.append(f1_score(y_val, model_val_labels))    \n",
    "    prec_scores.append(precision_score(y_val, model_val_labels))\n",
    "    rec_scores.append(recall_score(y_val, model_val_labels))\n",
    "    acc_scores.append(accuracy_score(y_val, model_val_labels))\n",
    "    \n",
    "plt.figure(figsize=[10,5])    \n",
    "plt.plot(thresh_ps, f1_scores)\n",
    "plt.plot(thresh_ps, prec_scores)\n",
    "plt.plot(thresh_ps, rec_scores)\n",
    "plt.plot(thresh_ps, acc_scores)\n",
    "\n",
    "plt.title('Metric Scores vs. Positive Class Decision Probability Threshold')\n",
    "plt.legend(['F1','Precision','Recall','Accuracy'], bbox_to_anchor=(1.05, 0), loc='lower left')\n",
    "plt.xlabel('P threshold')\n",
    "plt.ylabel('Metric score')\n",
    "\n",
    "best_f1_score = np.max(f1_scores) \n",
    "best_thresh_p = thresh_ps[np.argmax(f1_scores)]\n",
    "\n",
    "\n",
    "print('XGBoost best F1 score %.3f at prob decision threshold >= %.3f' \n",
    "      % (best_f1_score, best_thresh_p))"
   ]
  },
  {
   "cell_type": "code",
   "execution_count": 402,
   "id": "82dc01de",
   "metadata": {},
   "outputs": [
    {
     "data": {
      "image/png": "[encoded data removed]",
      "text/plain": [
       "<Figure size 720x504 with 1 Axes>"
      ]
     },
     "metadata": {},
     "output_type": "display_data"
    },
    {
     "data": {
      "text/plain": [
       "<Figure size 720x360 with 0 Axes>"
      ]
     },
     "metadata": {},
     "output_type": "display_data"
    }
   ],
   "source": [
    "plt.rcParams[\"figure.figsize\"] = (10, 7);\n",
    "plot_importance(gbm);\n",
    "plt.figure(figsize=[10,5]);"
   ]
  },
  {
   "cell_type": "code",
   "execution_count": null,
   "id": "d4397f47",
   "metadata": {},
   "outputs": [],
   "source": []
  },
  {
   "cell_type": "code",
   "execution_count": null,
   "id": "856ca2bc",
   "metadata": {},
   "outputs": [],
   "source": []
  }
 ],
 "metadata": {
  "kernelspec": {
   "display_name": "Python [conda env:metis] *",
   "language": "python",
   "name": "conda-env-metis-py"
  },
  "language_info": {
   "codemirror_mode": {
    "name": "ipython",
    "version": 3
   },
   "file_extension": ".py",
   "mimetype": "text/x-python",
   "name": "python",
   "nbconvert_exporter": "python",
   "pygments_lexer": "ipython3",
   "version": "3.8.10"
  }
 },
 "nbformat": 4,
 "nbformat_minor": 5
}
