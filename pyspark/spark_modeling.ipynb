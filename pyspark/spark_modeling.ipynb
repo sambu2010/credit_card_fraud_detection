{
 "cells": [
  {
   "cell_type": "code",
   "execution_count": null,
   "metadata": {
    "cell_id": "00000-1785530e-d4da-4c73-86d1-804cb563b1bd",
    "deepnote_cell_type": "code",
    "deepnote_to_be_reexecuted": false,
    "execution_millis": 91965,
    "execution_start": 1639756260108,
    "source_hash": "37893909",
    "tags": []
   },
   "outputs": [
    {
     "name": "stdout",
     "output_type": "stream",
     "text": [
      "Get:1 http://security.debian.org/debian-security buster/updates InRelease [65.4 kB]\n",
      "Get:2 http://deb.debian.org/debian buster InRelease [122 kB]\n",
      "Get:3 http://deb.debian.org/debian buster-updates InRelease [51.9 kB]\n",
      "Get:4 http://security.debian.org/debian-security buster/updates/main amd64 Packages [312 kB]\n",
      "Get:5 http://deb.debian.org/debian buster/main amd64 Packages [7,906 kB]\n",
      "Get:6 http://deb.debian.org/debian buster-updates/main amd64 Packages [15.2 kB]\n",
      "Fetched 8,472 kB in 3s (2,569 kB/s)\n",
      "\n",
      "\n",
      "\n",
      "\n",
      "The following additional packages will be installed:\n",
      "  at-spi2-core ca-certificates-java dbus dbus-user-session\n",
      "  dconf-gsettings-backend dconf-service dmsetup fonts-dejavu-extra\n",
      "  glib-networking glib-networking-common glib-networking-services\n",
      "  gsettings-desktop-schemas java-common libapparmor1 libargon2-1 libasound2\n",
      "  libasound2-data libatk-bridge2.0-0 libatk-wrapper-java\n",
      "  libatk-wrapper-java-jni libatspi2.0-0 libcap2 libcolord2 libcryptsetup12\n",
      "  libdconf1 libdevmapper1.02.1 libdrm-amdgpu1 libdrm-common libdrm-intel1\n",
      "  libdrm-nouveau2 libdrm-radeon1 libdrm2 libepoxy0 libfontenc1 libgif7 libgl1\n",
      "  libgl1-mesa-dri libglapi-mesa libglvnd0 libglx-mesa0 libglx0 libgtk-3-0\n",
      "  libgtk-3-bin libgtk-3-common libidn11 libip4tc0 libjson-c3\n",
      "  libjson-glib-1.0-0 libjson-glib-1.0-common libkmod2 liblcms2-2 libllvm7\n",
      "  libnspr4 libnss-systemd libnss3 libpam-systemd libpciaccess0 libpcsclite1\n",
      "  libproxy1v5 librest-0.7-0 libsensors-config libsensors5 libsoup-gnome2.4-1\n",
      "  libsoup2.4-1 libwayland-client0 libwayland-cursor0 libwayland-egl1\n",
      "  libx11-xcb1 libxcb-dri2-0 libxcb-dri3-0 libxcb-glx0 libxcb-present0\n",
      "  libxcb-shape0 libxcb-sync1 libxkbcommon0 libxmuu1 libxshmfence1 libxt-dev\n",
      "  libxtst6 libxv1 libxxf86dga1 libxxf86vm1 openjdk-11-jdk-headless\n",
      "  openjdk-11-jre openjdk-11-jre-headless systemd systemd-sysv x11-utils\n",
      "  xkb-data\n",
      "Suggested packages:\n",
      "  default-jre libasound2-plugins alsa-utils colord gvfs liblcms2-utils\n",
      "  pciutils pcscd lm-sensors libxt-doc openjdk-11-demo openjdk-11-source\n",
      "  visualvm libnss-mdns fonts-ipafont-gothic fonts-ipafont-mincho\n",
      "  fonts-wqy-microhei | fonts-wqy-zenhei fonts-indic systemd-container\n",
      "  policykit-1 mesa-utils\n",
      "The following NEW packages will be installed:\n",
      "  at-spi2-core ca-certificates-java dbus dbus-user-session\n",
      "  dconf-gsettings-backend dconf-service dmsetup fonts-dejavu-extra\n",
      "  glib-networking glib-networking-common glib-networking-services\n",
      "  gsettings-desktop-schemas java-common libapparmor1 libargon2-1 libasound2\n",
      "  libasound2-data libatk-bridge2.0-0 libatk-wrapper-java\n",
      "  libatk-wrapper-java-jni libatspi2.0-0 libcap2 libcolord2 libcryptsetup12\n",
      "  libdconf1 libdevmapper1.02.1 libdrm-amdgpu1 libdrm-common libdrm-intel1\n",
      "  libdrm-nouveau2 libdrm-radeon1 libdrm2 libepoxy0 libfontenc1 libgif7 libgl1\n",
      "  libgl1-mesa-dri libglapi-mesa libglvnd0 libglx-mesa0 libglx0 libgtk-3-0\n",
      "  libgtk-3-bin libgtk-3-common libidn11 libip4tc0 libjson-c3\n",
      "  libjson-glib-1.0-0 libjson-glib-1.0-common libkmod2 liblcms2-2 libllvm7\n",
      "  libnspr4 libnss-systemd libnss3 libpam-systemd libpciaccess0 libpcsclite1\n",
      "  libproxy1v5 librest-0.7-0 libsensors-config libsensors5 libsoup-gnome2.4-1\n",
      "  libsoup2.4-1 libwayland-client0 libwayland-cursor0 libwayland-egl1\n",
      "  libx11-xcb1 libxcb-dri2-0 libxcb-dri3-0 libxcb-glx0 libxcb-present0\n",
      "  libxcb-shape0 libxcb-sync1 libxkbcommon0 libxmuu1 libxshmfence1 libxt-dev\n",
      "  libxtst6 libxv1 libxxf86dga1 libxxf86vm1 openjdk-11-jdk\n",
      "  openjdk-11-jdk-headless openjdk-11-jre openjdk-11-jre-headless systemd\n",
      "  systemd-sysv x11-utils xkb-data\n",
      "0 upgraded, 90 newly installed, 0 to remove and 5 not upgraded.\n",
      "Need to get 301 MB of archives.\n",
      "After this operation, 704 MB of additional disk space will be used.\n",
      "Get:1 http://security.debian.org/debian-security buster/updates/main amd64 libnss3 amd64 2:3.42.1-1+deb10u4 [1,161 kB]\n",
      "Get:2 http://deb.debian.org/debian buster/main amd64 libapparmor1 amd64 2.13.2-10 [94.7 kB]\n",
      "Get:3 http://deb.debian.org/debian buster/main amd64 libcap2 amd64 1:2.25-2 [17.6 kB]\n",
      "Get:4 http://deb.debian.org/debian buster/main amd64 libargon2-1 amd64 0~20171227-0.2 [19.6 kB]\n",
      "Get:5 http://deb.debian.org/debian buster/main amd64 dmsetup amd64 2:1.02.155-3 [90.8 kB]\n",
      "Get:6 http://deb.debian.org/debian buster/main amd64 libdevmapper1.02.1 amd64 2:1.02.155-3 [141 kB]\n",
      "Get:7 http://deb.debian.org/debian buster/main amd64 libjson-c3 amd64 0.12.1+ds-2+deb10u1 [27.3 kB]\n",
      "Get:8 http://deb.debian.org/debian buster/main amd64 libcryptsetup12 amd64 2:2.1.0-5+deb10u2 [193 kB]\n",
      "Get:9 http://deb.debian.org/debian buster/main amd64 libidn11 amd64 1.33-2.2 [116 kB]\n",
      "Get:10 http://deb.debian.org/debian buster/main amd64 libip4tc0 amd64 1.8.2-4 [70.2 kB]\n",
      "Get:11 http://deb.debian.org/debian buster/main amd64 libkmod2 amd64 26-1 [52.7 kB]\n",
      "Get:12 http://deb.debian.org/debian buster/main amd64 systemd amd64 241-7~deb10u8 [3,496 kB]\n",
      "Get:13 http://deb.debian.org/debian buster/main amd64 systemd-sysv amd64 241-7~deb10u8 [100 kB]\n",
      "Get:14 http://deb.debian.org/debian buster/main amd64 dbus amd64 1.12.20-0+deb10u1 [236 kB]\n",
      "Get:15 http://deb.debian.org/debian buster/main amd64 libnss-systemd amd64 241-7~deb10u8 [205 kB]\n",
      "Get:16 http://deb.debian.org/debian buster/main amd64 libpam-systemd amd64 241-7~deb10u8 [209 kB]\n",
      "Get:17 http://deb.debian.org/debian buster/main amd64 libatspi2.0-0 amd64 2.30.0-7 [65.0 kB]\n",
      "Get:18 http://deb.debian.org/debian buster/main amd64 libxtst6 amd64 2:1.2.3-1 [27.8 kB]\n",
      "Get:19 http://deb.debian.org/debian buster/main amd64 at-spi2-core amd64 2.30.0-7 [70.7 kB]\n",
      "Get:20 http://deb.debian.org/debian buster/main amd64 java-common all 0.71 [14.4 kB]\n",
      "Get:21 http://deb.debian.org/debian buster/main amd64 liblcms2-2 amd64 2.9-3 [145 kB]\n",
      "Get:22 http://deb.debian.org/debian buster/main amd64 libnspr4 amd64 2:4.20-1 [112 kB]\n",
      "Get:23 http://deb.debian.org/debian buster/main amd64 libasound2-data all 1.1.8-1 [59.6 kB]\n",
      "Get:24 http://deb.debian.org/debian buster/main amd64 libasound2 amd64 1.1.8-1 [361 kB]\n",
      "Get:25 http://deb.debian.org/debian buster/main amd64 libpcsclite1 amd64 1.8.24-1 [58.5 kB]\n",
      "Get:26 http://deb.debian.org/debian buster/main amd64 openjdk-11-jre-headless amd64 11.0.12+7-2~deb10u1 [37.2 MB]\n",
      "Get:27 http://deb.debian.org/debian buster/main amd64 ca-certificates-java all 20190405 [15.7 kB]\n",
      "Get:28 http://deb.debian.org/debian buster/main amd64 dbus-user-session amd64 1.12.20-0+deb10u1 [94.5 kB]\n",
      "Get:29 http://deb.debian.org/debian buster/main amd64 libdconf1 amd64 0.30.1-2 [40.7 kB]\n",
      "Get:30 http://deb.debian.org/debian buster/main amd64 dconf-service amd64 0.30.1-2 [36.4 kB]\n",
      "Get:31 http://deb.debian.org/debian buster/main amd64 dconf-gsettings-backend amd64 0.30.1-2 [28.9 kB]\n",
      "Get:32 http://deb.debian.org/debian buster/main amd64 fonts-dejavu-extra all 2.37-1 [1,982 kB]\n",
      "Get:33 http://deb.debian.org/debian buster/main amd64 libproxy1v5 amd64 0.4.15-5+deb10u1 [56.1 kB]\n",
      "Get:34 http://deb.debian.org/debian buster/main amd64 glib-networking-common all 2.58.0-2+deb10u2 [59.5 kB]\n",
      "Get:35 http://deb.debian.org/debian buster/main amd64 glib-networking-services amd64 2.58.0-2+deb10u2 [13.7 kB]\n",
      "Get:36 http://deb.debian.org/debian buster/main amd64 gsettings-desktop-schemas all 3.28.1-1 [529 kB]\n",
      "Get:37 http://deb.debian.org/debian buster/main amd64 glib-networking amd64 2.58.0-2+deb10u2 [54.6 kB]\n",
      "Get:38 http://deb.debian.org/debian buster/main amd64 libatk-bridge2.0-0 amd64 2.30.0-5 [61.6 kB]\n",
      "Get:39 http://deb.debian.org/debian buster/main amd64 libfontenc1 amd64 1:1.1.3-1+b2 [24.4 kB]\n",
      "Get:40 http://deb.debian.org/debian buster/main amd64 libglvnd0 amd64 1.1.0-1 [48.6 kB]\n",
      "Get:41 http://deb.debian.org/debian buster/main amd64 libdrm-common all 2.4.97-1 [13.8 kB]\n",
      "Get:42 http://deb.debian.org/debian buster/main amd64 libdrm2 amd64 2.4.97-1 [39.7 kB]\n",
      "Get:43 http://deb.debian.org/debian buster/main amd64 libglapi-mesa amd64 18.3.6-2+deb10u1 [66.3 kB]\n",
      "Get:44 http://deb.debian.org/debian buster/main amd64 libx11-xcb1 amd64 2:1.6.7-1+deb10u2 [191 kB]\n",
      "Get:45 http://deb.debian.org/debian buster/main amd64 libxcb-dri2-0 amd64 1.13.1-2 [101 kB]\n",
      "Get:46 http://deb.debian.org/debian buster/main amd64 libxcb-dri3-0 amd64 1.13.1-2 [100 kB]\n",
      "Get:47 http://deb.debian.org/debian buster/main amd64 libxcb-glx0 amd64 1.13.1-2 [116 kB]\n",
      "Get:48 http://deb.debian.org/debian buster/main amd64 libxcb-present0 amd64 1.13.1-2 [99.1 kB]\n",
      "Get:49 http://deb.debian.org/debian buster/main amd64 libxcb-sync1 amd64 1.13.1-2 [103 kB]\n",
      "Get:50 http://deb.debian.org/debian buster/main amd64 libxshmfence1 amd64 1.3-1 [8,820 B]\n",
      "Get:51 http://deb.debian.org/debian buster/main amd64 libxxf86vm1 amd64 1:1.1.4-1+b2 [20.8 kB]\n",
      "Get:52 http://deb.debian.org/debian buster/main amd64 libdrm-amdgpu1 amd64 2.4.97-1 [27.3 kB]\n",
      "Get:53 http://deb.debian.org/debian buster/main amd64 libpciaccess0 amd64 0.14-1 [53.5 kB]\n",
      "Get:54 http://deb.debian.org/debian buster/main amd64 libdrm-intel1 amd64 2.4.97-1 [69.8 kB]\n",
      "Get:55 http://deb.debian.org/debian buster/main amd64 libdrm-nouveau2 amd64 2.4.97-1 [26.3 kB]\n",
      "Get:56 http://deb.debian.org/debian buster/main amd64 libdrm-radeon1 amd64 2.4.97-1 [31.1 kB]\n",
      "Get:57 http://deb.debian.org/debian buster/main amd64 libllvm7 amd64 1:7.0.1-8+deb10u2 [13.1 MB]\n",
      "Get:58 http://deb.debian.org/debian buster/main amd64 libsensors-config all 1:3.5.0-3 [31.6 kB]\n",
      "Get:59 http://deb.debian.org/debian buster/main amd64 libsensors5 amd64 1:3.5.0-3 [52.6 kB]\n",
      "Get:60 http://deb.debian.org/debian buster/main amd64 libgl1-mesa-dri amd64 18.3.6-2+deb10u1 [6,685 kB]\n",
      "Get:61 http://deb.debian.org/debian buster/main amd64 libglx-mesa0 amd64 18.3.6-2+deb10u1 [180 kB]\n",
      "Get:62 http://deb.debian.org/debian buster/main amd64 libglx0 amd64 1.1.0-1 [30.0 kB]\n",
      "Get:63 http://deb.debian.org/debian buster/main amd64 libgl1 amd64 1.1.0-1 [91.1 kB]\n",
      "Get:64 http://deb.debian.org/debian buster/main amd64 libxcb-shape0 amd64 1.13.1-2 [99.5 kB]\n",
      "Get:65 http://deb.debian.org/debian buster/main amd64 libxmuu1 amd64 2:1.1.2-2+b3 [23.9 kB]\n",
      "Get:66 http://deb.debian.org/debian buster/main amd64 libxv1 amd64 2:1.0.11-1 [24.6 kB]\n",
      "Get:67 http://deb.debian.org/debian buster/main amd64 libxxf86dga1 amd64 2:1.1.4-1+b3 [22.1 kB]\n",
      "Get:68 http://deb.debian.org/debian buster/main amd64 x11-utils amd64 7.7+4 [202 kB]\n",
      "Get:69 http://deb.debian.org/debian buster/main amd64 libatk-wrapper-java all 0.33.3-22+deb10u1 [45.5 kB]\n",
      "Get:70 http://deb.debian.org/debian buster/main amd64 libcolord2 amd64 1.4.3-4 [141 kB]\n",
      "Get:71 http://deb.debian.org/debian buster/main amd64 libepoxy0 amd64 1.5.3-0.1 [190 kB]\n",
      "Get:72 http://deb.debian.org/debian buster/main amd64 libjson-glib-1.0-common all 1.4.4-2 [52.3 kB]\n",
      "Get:73 http://deb.debian.org/debian buster/main amd64 libjson-glib-1.0-0 amd64 1.4.4-2 [61.2 kB]\n",
      "Get:74 http://deb.debian.org/debian buster/main amd64 libsoup2.4-1 amd64 2.64.2-2 [253 kB]\n",
      "Get:75 http://deb.debian.org/debian buster/main amd64 libsoup-gnome2.4-1 amd64 2.64.2-2 [18.0 kB]\n",
      "Get:76 http://deb.debian.org/debian buster/main amd64 librest-0.7-0 amd64 0.8.1-1 [33.7 kB]\n",
      "Get:77 http://deb.debian.org/debian buster/main amd64 libwayland-client0 amd64 1.16.0-1 [26.4 kB]\n",
      "Get:78 http://deb.debian.org/debian buster/main amd64 libwayland-cursor0 amd64 1.16.0-1 [14.1 kB]\n",
      "Get:79 http://deb.debian.org/debian buster/main amd64 libwayland-egl1 amd64 1.16.0-1 [8,204 B]\n",
      "Get:80 http://deb.debian.org/debian buster/main amd64 xkb-data all 2.26-2 [681 kB]\n",
      "Get:81 http://deb.debian.org/debian buster/main amd64 libxkbcommon0 amd64 0.8.2-1 [123 kB]\n",
      "Get:82 http://deb.debian.org/debian buster/main amd64 libgtk-3-common all 3.24.5-1 [3,678 kB]\n",
      "Get:83 http://deb.debian.org/debian buster/main amd64 libgtk-3-0 amd64 3.24.5-1 [2,580 kB]\n",
      "Get:84 http://deb.debian.org/debian buster/main amd64 libatk-wrapper-java-jni amd64 0.33.3-22+deb10u1 [39.5 kB]\n",
      "Get:85 http://deb.debian.org/debian buster/main amd64 libgif7 amd64 5.1.4-3 [43.3 kB]\n",
      "Get:86 http://deb.debian.org/debian buster/main amd64 libgtk-3-bin amd64 3.24.5-1 [114 kB]\n",
      "Get:87 http://deb.debian.org/debian buster/main amd64 libxt-dev amd64 1:1.1.5-1+b3 [426 kB]\n",
      "Get:88 http://deb.debian.org/debian buster/main amd64 openjdk-11-jre amd64 11.0.12+7-2~deb10u1 [174 kB]\n",
      "Get:89 http://deb.debian.org/debian buster/main amd64 openjdk-11-jdk-headless amd64 11.0.12+7-2~deb10u1 [221 MB]\n",
      "Get:90 http://deb.debian.org/debian buster/main amd64 openjdk-11-jdk amd64 11.0.12+7-2~deb10u1 [2,693 kB]\n",
      "Fetched 301 MB in 5s (60.7 MB/s)\n",
      "debconf: delaying package configuration, since apt-utils is not installed\n",
      "Selecting previously unselected package libapparmor1:amd64.\n",
      "(Reading database ... 31086 files and directories currently installed.)\n",
      "Preparing to unpack .../00-libapparmor1_2.13.2-10_amd64.deb ...\n",
      "Unpacking libapparmor1:amd64 (2.13.2-10) ...\n",
      "Selecting previously unselected package libcap2:amd64.\n",
      "Preparing to unpack .../01-libcap2_1%3a2.25-2_amd64.deb ...\n",
      "Unpacking libcap2:amd64 (1:2.25-2) ...\n",
      "Selecting previously unselected package libargon2-1:amd64.\n",
      "Preparing to unpack .../02-libargon2-1_0~20171227-0.2_amd64.deb ...\n",
      "Unpacking libargon2-1:amd64 (0~20171227-0.2) ...\n",
      "Selecting previously unselected package dmsetup.\n",
      "Preparing to unpack .../03-dmsetup_2%3a1.02.155-3_amd64.deb ...\n",
      "Unpacking dmsetup (2:1.02.155-3) ...\n",
      "Selecting previously unselected package libdevmapper1.02.1:amd64.\n",
      "Preparing to unpack .../04-libdevmapper1.02.1_2%3a1.02.155-3_amd64.deb ...\n",
      "Unpacking libdevmapper1.02.1:amd64 (2:1.02.155-3) ...\n",
      "Selecting previously unselected package libjson-c3:amd64.\n",
      "Preparing to unpack .../05-libjson-c3_0.12.1+ds-2+deb10u1_amd64.deb ...\n",
      "Unpacking libjson-c3:amd64 (0.12.1+ds-2+deb10u1) ...\n",
      "Selecting previously unselected package libcryptsetup12:amd64.\n",
      "Preparing to unpack .../06-libcryptsetup12_2%3a2.1.0-5+deb10u2_amd64.deb ...\n",
      "Unpacking libcryptsetup12:amd64 (2:2.1.0-5+deb10u2) ...\n",
      "Selecting previously unselected package libidn11:amd64.\n",
      "Preparing to unpack .../07-libidn11_1.33-2.2_amd64.deb ...\n",
      "Unpacking libidn11:amd64 (1.33-2.2) ...\n",
      "Selecting previously unselected package libip4tc0:amd64.\n",
      "Preparing to unpack .../08-libip4tc0_1.8.2-4_amd64.deb ...\n",
      "Unpacking libip4tc0:amd64 (1.8.2-4) ...\n",
      "Selecting previously unselected package libkmod2:amd64.\n",
      "Preparing to unpack .../09-libkmod2_26-1_amd64.deb ...\n",
      "Unpacking libkmod2:amd64 (26-1) ...\n",
      "Selecting previously unselected package systemd.\n",
      "Preparing to unpack .../10-systemd_241-7~deb10u8_amd64.deb ...\n",
      "Unpacking systemd (241-7~deb10u8) ...\n",
      "Setting up libapparmor1:amd64 (2.13.2-10) ...\n",
      "Setting up libcap2:amd64 (1:2.25-2) ...\n",
      "Setting up libargon2-1:amd64 (0~20171227-0.2) ...\n",
      "Setting up libjson-c3:amd64 (0.12.1+ds-2+deb10u1) ...\n",
      "Setting up libidn11:amd64 (1.33-2.2) ...\n",
      "Setting up libip4tc0:amd64 (1.8.2-4) ...\n",
      "Setting up libkmod2:amd64 (26-1) ...\n",
      "Setting up libdevmapper1.02.1:amd64 (2:1.02.155-3) ...\n",
      "Setting up libcryptsetup12:amd64 (2:2.1.0-5+deb10u2) ...\n",
      "Setting up systemd (241-7~deb10u8) ...\n",
      "Created symlink /etc/systemd/system/getty.target.wants/getty@tty1.service → /lib/systemd/system/getty@.service.\n",
      "Created symlink /etc/systemd/system/multi-user.target.wants/remote-fs.target → /lib/systemd/system/remote-fs.target.\n",
      "Created symlink /etc/systemd/system/dbus-org.freedesktop.timesync1.service → /lib/systemd/system/systemd-timesyncd.service.\n",
      "Created symlink /etc/systemd/system/sysinit.target.wants/systemd-timesyncd.service → /lib/systemd/system/systemd-timesyncd.service.\n",
      "Setting up dmsetup (2:1.02.155-3) ...\n",
      "Selecting previously unselected package systemd-sysv.\n",
      "(Reading database ... 31921 files and directories currently installed.)\n",
      "Preparing to unpack .../00-systemd-sysv_241-7~deb10u8_amd64.deb ...\n",
      "Unpacking systemd-sysv (241-7~deb10u8) ...\n",
      "Selecting previously unselected package dbus.\n",
      "Preparing to unpack .../01-dbus_1.12.20-0+deb10u1_amd64.deb ...\n",
      "Unpacking dbus (1.12.20-0+deb10u1) ...\n",
      "Selecting previously unselected package libnss-systemd:amd64.\n",
      "Preparing to unpack .../02-libnss-systemd_241-7~deb10u8_amd64.deb ...\n",
      "Unpacking libnss-systemd:amd64 (241-7~deb10u8) ...\n",
      "Selecting previously unselected package libpam-systemd:amd64.\n",
      "Preparing to unpack .../03-libpam-systemd_241-7~deb10u8_amd64.deb ...\n",
      "Unpacking libpam-systemd:amd64 (241-7~deb10u8) ...\n",
      "Selecting previously unselected package libatspi2.0-0:amd64.\n",
      "Preparing to unpack .../04-libatspi2.0-0_2.30.0-7_amd64.deb ...\n",
      "Unpacking libatspi2.0-0:amd64 (2.30.0-7) ...\n",
      "Selecting previously unselected package libxtst6:amd64.\n",
      "Preparing to unpack .../05-libxtst6_2%3a1.2.3-1_amd64.deb ...\n",
      "Unpacking libxtst6:amd64 (2:1.2.3-1) ...\n",
      "Selecting previously unselected package at-spi2-core.\n",
      "Preparing to unpack .../06-at-spi2-core_2.30.0-7_amd64.deb ...\n",
      "Unpacking at-spi2-core (2.30.0-7) ...\n",
      "Selecting previously unselected package java-common.\n",
      "Preparing to unpack .../07-java-common_0.71_all.deb ...\n",
      "Unpacking java-common (0.71) ...\n",
      "Selecting previously unselected package liblcms2-2:amd64.\n",
      "Preparing to unpack .../08-liblcms2-2_2.9-3_amd64.deb ...\n",
      "Unpacking liblcms2-2:amd64 (2.9-3) ...\n",
      "Selecting previously unselected package libnspr4:amd64.\n",
      "Preparing to unpack .../09-libnspr4_2%3a4.20-1_amd64.deb ...\n",
      "Unpacking libnspr4:amd64 (2:4.20-1) ...\n",
      "Selecting previously unselected package libnss3:amd64.\n",
      "Preparing to unpack .../10-libnss3_2%3a3.42.1-1+deb10u4_amd64.deb ...\n",
      "Unpacking libnss3:amd64 (2:3.42.1-1+deb10u4) ...\n",
      "Selecting previously unselected package libasound2-data.\n",
      "Preparing to unpack .../11-libasound2-data_1.1.8-1_all.deb ...\n",
      "Unpacking libasound2-data (1.1.8-1) ...\n",
      "Selecting previously unselected package libasound2:amd64.\n",
      "Preparing to unpack .../12-libasound2_1.1.8-1_amd64.deb ...\n",
      "Unpacking libasound2:amd64 (1.1.8-1) ...\n",
      "Selecting previously unselected package libpcsclite1:amd64.\n",
      "Preparing to unpack .../13-libpcsclite1_1.8.24-1_amd64.deb ...\n",
      "Unpacking libpcsclite1:amd64 (1.8.24-1) ...\n",
      "Selecting previously unselected package openjdk-11-jre-headless:amd64.\n",
      "Preparing to unpack .../14-openjdk-11-jre-headless_11.0.12+7-2~deb10u1_amd64.deb ...\n",
      "Unpacking openjdk-11-jre-headless:amd64 (11.0.12+7-2~deb10u1) ...\n",
      "Selecting previously unselected package ca-certificates-java.\n",
      "Preparing to unpack .../15-ca-certificates-java_20190405_all.deb ...\n",
      "Unpacking ca-certificates-java (20190405) ...\n",
      "Selecting previously unselected package dbus-user-session.\n",
      "Preparing to unpack .../16-dbus-user-session_1.12.20-0+deb10u1_amd64.deb ...\n",
      "Unpacking dbus-user-session (1.12.20-0+deb10u1) ...\n",
      "Selecting previously unselected package libdconf1:amd64.\n",
      "Preparing to unpack .../17-libdconf1_0.30.1-2_amd64.deb ...\n",
      "Unpacking libdconf1:amd64 (0.30.1-2) ...\n",
      "Selecting previously unselected package dconf-service.\n",
      "Preparing to unpack .../18-dconf-service_0.30.1-2_amd64.deb ...\n",
      "Unpacking dconf-service (0.30.1-2) ...\n",
      "Selecting previously unselected package dconf-gsettings-backend:amd64.\n",
      "Preparing to unpack .../19-dconf-gsettings-backend_0.30.1-2_amd64.deb ...\n",
      "Unpacking dconf-gsettings-backend:amd64 (0.30.1-2) ...\n",
      "Selecting previously unselected package fonts-dejavu-extra.\n",
      "Preparing to unpack .../20-fonts-dejavu-extra_2.37-1_all.deb ...\n",
      "Unpacking fonts-dejavu-extra (2.37-1) ...\n",
      "Selecting previously unselected package libproxy1v5:amd64.\n",
      "Preparing to unpack .../21-libproxy1v5_0.4.15-5+deb10u1_amd64.deb ...\n",
      "Unpacking libproxy1v5:amd64 (0.4.15-5+deb10u1) ...\n",
      "Selecting previously unselected package glib-networking-common.\n",
      "Preparing to unpack .../22-glib-networking-common_2.58.0-2+deb10u2_all.deb ...\n",
      "Unpacking glib-networking-common (2.58.0-2+deb10u2) ...\n",
      "Selecting previously unselected package glib-networking-services.\n",
      "Preparing to unpack .../23-glib-networking-services_2.58.0-2+deb10u2_amd64.deb ...\n",
      "Unpacking glib-networking-services (2.58.0-2+deb10u2) ...\n",
      "Selecting previously unselected package gsettings-desktop-schemas.\n",
      "Preparing to unpack .../24-gsettings-desktop-schemas_3.28.1-1_all.deb ...\n",
      "Unpacking gsettings-desktop-schemas (3.28.1-1) ...\n",
      "Selecting previously unselected package glib-networking:amd64.\n",
      "Preparing to unpack .../25-glib-networking_2.58.0-2+deb10u2_amd64.deb ...\n",
      "Unpacking glib-networking:amd64 (2.58.0-2+deb10u2) ...\n",
      "Selecting previously unselected package libatk-bridge2.0-0:amd64.\n",
      "Preparing to unpack .../26-libatk-bridge2.0-0_2.30.0-5_amd64.deb ...\n",
      "Unpacking libatk-bridge2.0-0:amd64 (2.30.0-5) ...\n",
      "Selecting previously unselected package libfontenc1:amd64.\n",
      "Preparing to unpack .../27-libfontenc1_1%3a1.1.3-1+b2_amd64.deb ...\n",
      "Unpacking libfontenc1:amd64 (1:1.1.3-1+b2) ...\n",
      "Selecting previously unselected package libglvnd0:amd64.\n",
      "Preparing to unpack .../28-libglvnd0_1.1.0-1_amd64.deb ...\n",
      "Unpacking libglvnd0:amd64 (1.1.0-1) ...\n",
      "Selecting previously unselected package libdrm-common.\n",
      "Preparing to unpack .../29-libdrm-common_2.4.97-1_all.deb ...\n",
      "Unpacking libdrm-common (2.4.97-1) ...\n",
      "Selecting previously unselected package libdrm2:amd64.\n",
      "Preparing to unpack .../30-libdrm2_2.4.97-1_amd64.deb ...\n",
      "Unpacking libdrm2:amd64 (2.4.97-1) ...\n",
      "Selecting previously unselected package libglapi-mesa:amd64.\n",
      "Preparing to unpack .../31-libglapi-mesa_18.3.6-2+deb10u1_amd64.deb ...\n",
      "Unpacking libglapi-mesa:amd64 (18.3.6-2+deb10u1) ...\n",
      "Selecting previously unselected package libx11-xcb1:amd64.\n",
      "Preparing to unpack .../32-libx11-xcb1_2%3a1.6.7-1+deb10u2_amd64.deb ...\n",
      "Unpacking libx11-xcb1:amd64 (2:1.6.7-1+deb10u2) ...\n",
      "Selecting previously unselected package libxcb-dri2-0:amd64.\n",
      "Preparing to unpack .../33-libxcb-dri2-0_1.13.1-2_amd64.deb ...\n",
      "Unpacking libxcb-dri2-0:amd64 (1.13.1-2) ...\n",
      "Selecting previously unselected package libxcb-dri3-0:amd64.\n",
      "Preparing to unpack .../34-libxcb-dri3-0_1.13.1-2_amd64.deb ...\n",
      "Unpacking libxcb-dri3-0:amd64 (1.13.1-2) ...\n",
      "Selecting previously unselected package libxcb-glx0:amd64.\n",
      "Preparing to unpack .../35-libxcb-glx0_1.13.1-2_amd64.deb ...\n",
      "Unpacking libxcb-glx0:amd64 (1.13.1-2) ...\n",
      "Selecting previously unselected package libxcb-present0:amd64.\n",
      "Preparing to unpack .../36-libxcb-present0_1.13.1-2_amd64.deb ...\n",
      "Unpacking libxcb-present0:amd64 (1.13.1-2) ...\n",
      "Selecting previously unselected package libxcb-sync1:amd64.\n",
      "Preparing to unpack .../37-libxcb-sync1_1.13.1-2_amd64.deb ...\n",
      "Unpacking libxcb-sync1:amd64 (1.13.1-2) ...\n",
      "Selecting previously unselected package libxshmfence1:amd64.\n",
      "Preparing to unpack .../38-libxshmfence1_1.3-1_amd64.deb ...\n",
      "Unpacking libxshmfence1:amd64 (1.3-1) ...\n",
      "Selecting previously unselected package libxxf86vm1:amd64.\n",
      "Preparing to unpack .../39-libxxf86vm1_1%3a1.1.4-1+b2_amd64.deb ...\n",
      "Unpacking libxxf86vm1:amd64 (1:1.1.4-1+b2) ...\n",
      "Selecting previously unselected package libdrm-amdgpu1:amd64.\n",
      "Preparing to unpack .../40-libdrm-amdgpu1_2.4.97-1_amd64.deb ...\n",
      "Unpacking libdrm-amdgpu1:amd64 (2.4.97-1) ...\n",
      "Selecting previously unselected package libpciaccess0:amd64.\n",
      "Preparing to unpack .../41-libpciaccess0_0.14-1_amd64.deb ...\n",
      "Unpacking libpciaccess0:amd64 (0.14-1) ...\n",
      "Selecting previously unselected package libdrm-intel1:amd64.\n",
      "Preparing to unpack .../42-libdrm-intel1_2.4.97-1_amd64.deb ...\n",
      "Unpacking libdrm-intel1:amd64 (2.4.97-1) ...\n",
      "Selecting previously unselected package libdrm-nouveau2:amd64.\n",
      "Preparing to unpack .../43-libdrm-nouveau2_2.4.97-1_amd64.deb ...\n",
      "Unpacking libdrm-nouveau2:amd64 (2.4.97-1) ...\n",
      "Selecting previously unselected package libdrm-radeon1:amd64.\n",
      "Preparing to unpack .../44-libdrm-radeon1_2.4.97-1_amd64.deb ...\n",
      "Unpacking libdrm-radeon1:amd64 (2.4.97-1) ...\n",
      "Selecting previously unselected package libllvm7:amd64.\n",
      "Preparing to unpack .../45-libllvm7_1%3a7.0.1-8+deb10u2_amd64.deb ...\n",
      "Unpacking libllvm7:amd64 (1:7.0.1-8+deb10u2) ...\n",
      "Selecting previously unselected package libsensors-config.\n",
      "Preparing to unpack .../46-libsensors-config_1%3a3.5.0-3_all.deb ...\n",
      "Unpacking libsensors-config (1:3.5.0-3) ...\n",
      "Selecting previously unselected package libsensors5:amd64.\n",
      "Preparing to unpack .../47-libsensors5_1%3a3.5.0-3_amd64.deb ...\n",
      "Unpacking libsensors5:amd64 (1:3.5.0-3) ...\n",
      "Selecting previously unselected package libgl1-mesa-dri:amd64.\n",
      "Preparing to unpack .../48-libgl1-mesa-dri_18.3.6-2+deb10u1_amd64.deb ...\n",
      "Unpacking libgl1-mesa-dri:amd64 (18.3.6-2+deb10u1) ...\n",
      "Selecting previously unselected package libglx-mesa0:amd64.\n",
      "Preparing to unpack .../49-libglx-mesa0_18.3.6-2+deb10u1_amd64.deb ...\n",
      "Unpacking libglx-mesa0:amd64 (18.3.6-2+deb10u1) ...\n",
      "Selecting previously unselected package libglx0:amd64.\n",
      "Preparing to unpack .../50-libglx0_1.1.0-1_amd64.deb ...\n",
      "Unpacking libglx0:amd64 (1.1.0-1) ...\n",
      "Selecting previously unselected package libgl1:amd64.\n",
      "Preparing to unpack .../51-libgl1_1.1.0-1_amd64.deb ...\n",
      "Unpacking libgl1:amd64 (1.1.0-1) ...\n",
      "Selecting previously unselected package libxcb-shape0:amd64.\n",
      "Preparing to unpack .../52-libxcb-shape0_1.13.1-2_amd64.deb ...\n",
      "Unpacking libxcb-shape0:amd64 (1.13.1-2) ...\n",
      "Selecting previously unselected package libxmuu1:amd64.\n",
      "Preparing to unpack .../53-libxmuu1_2%3a1.1.2-2+b3_amd64.deb ...\n",
      "Unpacking libxmuu1:amd64 (2:1.1.2-2+b3) ...\n",
      "Selecting previously unselected package libxv1:amd64.\n",
      "Preparing to unpack .../54-libxv1_2%3a1.0.11-1_amd64.deb ...\n",
      "Unpacking libxv1:amd64 (2:1.0.11-1) ...\n",
      "Selecting previously unselected package libxxf86dga1:amd64.\n",
      "Preparing to unpack .../55-libxxf86dga1_2%3a1.1.4-1+b3_amd64.deb ...\n",
      "Unpacking libxxf86dga1:amd64 (2:1.1.4-1+b3) ...\n",
      "Selecting previously unselected package x11-utils.\n",
      "Preparing to unpack .../56-x11-utils_7.7+4_amd64.deb ...\n",
      "Unpacking x11-utils (7.7+4) ...\n",
      "Selecting previously unselected package libatk-wrapper-java.\n",
      "Preparing to unpack .../57-libatk-wrapper-java_0.33.3-22+deb10u1_all.deb ...\n",
      "Unpacking libatk-wrapper-java (0.33.3-22+deb10u1) ...\n",
      "Selecting previously unselected package libcolord2:amd64.\n",
      "Preparing to unpack .../58-libcolord2_1.4.3-4_amd64.deb ...\n",
      "Unpacking libcolord2:amd64 (1.4.3-4) ...\n",
      "Selecting previously unselected package libepoxy0:amd64.\n",
      "Preparing to unpack .../59-libepoxy0_1.5.3-0.1_amd64.deb ...\n",
      "Unpacking libepoxy0:amd64 (1.5.3-0.1) ...\n",
      "Selecting previously unselected package libjson-glib-1.0-common.\n",
      "Preparing to unpack .../60-libjson-glib-1.0-common_1.4.4-2_all.deb ...\n",
      "Unpacking libjson-glib-1.0-common (1.4.4-2) ...\n",
      "Selecting previously unselected package libjson-glib-1.0-0:amd64.\n",
      "Preparing to unpack .../61-libjson-glib-1.0-0_1.4.4-2_amd64.deb ...\n",
      "Unpacking libjson-glib-1.0-0:amd64 (1.4.4-2) ...\n",
      "Selecting previously unselected package libsoup2.4-1:amd64.\n",
      "Preparing to unpack .../62-libsoup2.4-1_2.64.2-2_amd64.deb ...\n",
      "Unpacking libsoup2.4-1:amd64 (2.64.2-2) ...\n",
      "Selecting previously unselected package libsoup-gnome2.4-1:amd64.\n",
      "Preparing to unpack .../63-libsoup-gnome2.4-1_2.64.2-2_amd64.deb ...\n",
      "Unpacking libsoup-gnome2.4-1:amd64 (2.64.2-2) ...\n",
      "Selecting previously unselected package librest-0.7-0:amd64.\n",
      "Preparing to unpack .../64-librest-0.7-0_0.8.1-1_amd64.deb ...\n",
      "Unpacking librest-0.7-0:amd64 (0.8.1-1) ...\n",
      "Selecting previously unselected package libwayland-client0:amd64.\n",
      "Preparing to unpack .../65-libwayland-client0_1.16.0-1_amd64.deb ...\n",
      "Unpacking libwayland-client0:amd64 (1.16.0-1) ...\n",
      "Selecting previously unselected package libwayland-cursor0:amd64.\n",
      "Preparing to unpack .../66-libwayland-cursor0_1.16.0-1_amd64.deb ...\n",
      "Unpacking libwayland-cursor0:amd64 (1.16.0-1) ...\n",
      "Selecting previously unselected package libwayland-egl1:amd64.\n",
      "Preparing to unpack .../67-libwayland-egl1_1.16.0-1_amd64.deb ...\n",
      "Unpacking libwayland-egl1:amd64 (1.16.0-1) ...\n",
      "Selecting previously unselected package xkb-data.\n",
      "Preparing to unpack .../68-xkb-data_2.26-2_all.deb ...\n",
      "Unpacking xkb-data (2.26-2) ...\n",
      "Selecting previously unselected package libxkbcommon0:amd64.\n",
      "Preparing to unpack .../69-libxkbcommon0_0.8.2-1_amd64.deb ...\n",
      "Unpacking libxkbcommon0:amd64 (0.8.2-1) ...\n",
      "Selecting previously unselected package libgtk-3-common.\n",
      "Preparing to unpack .../70-libgtk-3-common_3.24.5-1_all.deb ...\n",
      "Unpacking libgtk-3-common (3.24.5-1) ...\n",
      "Selecting previously unselected package libgtk-3-0:amd64.\n",
      "Preparing to unpack .../71-libgtk-3-0_3.24.5-1_amd64.deb ...\n",
      "Unpacking libgtk-3-0:amd64 (3.24.5-1) ...\n",
      "Selecting previously unselected package libatk-wrapper-java-jni:amd64.\n",
      "Preparing to unpack .../72-libatk-wrapper-java-jni_0.33.3-22+deb10u1_amd64.deb ...\n",
      "Unpacking libatk-wrapper-java-jni:amd64 (0.33.3-22+deb10u1) ...\n",
      "Selecting previously unselected package libgif7:amd64.\n",
      "Preparing to unpack .../73-libgif7_5.1.4-3_amd64.deb ...\n",
      "Unpacking libgif7:amd64 (5.1.4-3) ...\n",
      "Selecting previously unselected package libgtk-3-bin.\n",
      "Preparing to unpack .../74-libgtk-3-bin_3.24.5-1_amd64.deb ...\n",
      "Unpacking libgtk-3-bin (3.24.5-1) ...\n",
      "Selecting previously unselected package libxt-dev:amd64.\n",
      "Preparing to unpack .../75-libxt-dev_1%3a1.1.5-1+b3_amd64.deb ...\n",
      "Unpacking libxt-dev:amd64 (1:1.1.5-1+b3) ...\n",
      "Selecting previously unselected package openjdk-11-jre:amd64.\n",
      "Preparing to unpack .../76-openjdk-11-jre_11.0.12+7-2~deb10u1_amd64.deb ...\n",
      "Unpacking openjdk-11-jre:amd64 (11.0.12+7-2~deb10u1) ...\n",
      "Selecting previously unselected package openjdk-11-jdk-headless:amd64.\n",
      "Preparing to unpack .../77-openjdk-11-jdk-headless_11.0.12+7-2~deb10u1_amd64.deb ...\n",
      "Unpacking openjdk-11-jdk-headless:amd64 (11.0.12+7-2~deb10u1) ...\n",
      "Selecting previously unselected package openjdk-11-jdk:amd64.\n",
      "Preparing to unpack .../78-openjdk-11-jdk_11.0.12+7-2~deb10u1_amd64.deb ...\n",
      "Unpacking openjdk-11-jdk:amd64 (11.0.12+7-2~deb10u1) ...\n",
      "Setting up libxcb-dri3-0:amd64 (1.13.1-2) ...\n",
      "Setting up liblcms2-2:amd64 (2.9-3) ...\n",
      "Setting up libx11-xcb1:amd64 (2:1.6.7-1+deb10u2) ...\n",
      "Setting up libpciaccess0:amd64 (0.14-1) ...\n",
      "Setting up systemd-sysv (241-7~deb10u8) ...\n",
      "Setting up libproxy1v5:amd64 (0.4.15-5+deb10u1) ...\n",
      "Setting up java-common (0.71) ...\n",
      "Setting up libglvnd0:amd64 (1.1.0-1) ...\n",
      "Setting up libxtst6:amd64 (2:1.2.3-1) ...\n",
      "Setting up libxcb-glx0:amd64 (1.13.1-2) ...\n",
      "Setting up libxcb-shape0:amd64 (1.13.1-2) ...\n",
      "Setting up libsensors-config (1:3.5.0-3) ...\n",
      "Setting up libxxf86dga1:amd64 (2:1.1.4-1+b3) ...\n",
      "Setting up libnss-systemd:amd64 (241-7~deb10u8) ...\n",
      "First installation detected...\n",
      "Checking NSS setup...\n",
      "Setting up xkb-data (2.26-2) ...\n",
      "Setting up libatspi2.0-0:amd64 (2.30.0-7) ...\n",
      "Setting up libcolord2:amd64 (1.4.3-4) ...\n",
      "Setting up libxxf86vm1:amd64 (1:1.1.4-1+b2) ...\n",
      "Setting up libxcb-present0:amd64 (1.13.1-2) ...\n",
      "Setting up libdconf1:amd64 (0.30.1-2) ...\n",
      "Setting up libasound2-data (1.1.8-1) ...\n",
      "Setting up libatk-bridge2.0-0:amd64 (2.30.0-5) ...\n",
      "Setting up libfontenc1:amd64 (1:1.1.3-1+b2) ...\n",
      "Setting up libepoxy0:amd64 (1.5.3-0.1) ...\n",
      "Setting up libnspr4:amd64 (2:4.20-1) ...\n",
      "Setting up libxcb-sync1:amd64 (1.13.1-2) ...\n",
      "Setting up libxt-dev:amd64 (1:1.1.5-1+b3) ...\n",
      "Setting up dbus (1.12.20-0+deb10u1) ...\n",
      "invoke-rc.d: could not determine current runlevel\n",
      "invoke-rc.d: policy-rc.d denied execution of start.\n",
      "Setting up libxv1:amd64 (2:1.0.11-1) ...\n",
      "Setting up libpcsclite1:amd64 (1.8.24-1) ...\n",
      "Setting up libsensors5:amd64 (1:3.5.0-3) ...\n",
      "Setting up libglapi-mesa:amd64 (18.3.6-2+deb10u1) ...\n",
      "Setting up libxcb-dri2-0:amd64 (1.13.1-2) ...\n",
      "Setting up libgif7:amd64 (5.1.4-3) ...\n",
      "Setting up fonts-dejavu-extra (2.37-1) ...\n",
      "Setting up at-spi2-core (2.30.0-7) ...\n",
      "Setting up libxshmfence1:amd64 (1.3-1) ...\n",
      "Setting up libasound2:amd64 (1.1.8-1) ...\n",
      "Setting up libpam-systemd:amd64 (241-7~deb10u8) ...\n",
      "debconf: unable to initialize frontend: Dialog\n",
      "debconf: (No usable dialog-like program is installed, so the dialog based frontend cannot be used. at /usr/share/perl5/Debconf/FrontEnd/Dialog.pm line 78.)\n",
      "debconf: falling back to frontend: Readline\n",
      "Setting up libllvm7:amd64 (1:7.0.1-8+deb10u2) ...\n",
      "Setting up libjson-glib-1.0-common (1.4.4-2) ...\n",
      "Setting up libwayland-egl1:amd64 (1.16.0-1) ...\n",
      "Setting up glib-networking-common (2.58.0-2+deb10u2) ...\n",
      "Setting up libdrm-common (2.4.97-1) ...\n",
      "Setting up libxmuu1:amd64 (2:1.1.2-2+b3) ...\n",
      "Setting up libxkbcommon0:amd64 (0.8.2-1) ...\n",
      "Setting up libwayland-client0:amd64 (1.16.0-1) ...\n",
      "Setting up glib-networking-services (2.58.0-2+deb10u2) ...\n",
      "Setting up libnss3:amd64 (2:3.42.1-1+deb10u4) ...\n",
      "Setting up libjson-glib-1.0-0:amd64 (1.4.4-2) ...\n",
      "Setting up dbus-user-session (1.12.20-0+deb10u1) ...\n",
      "Setting up libdrm2:amd64 (2.4.97-1) ...\n",
      "Setting up libwayland-cursor0:amd64 (1.16.0-1) ...\n",
      "Setting up libdrm-amdgpu1:amd64 (2.4.97-1) ...\n",
      "Setting up libdrm-nouveau2:amd64 (2.4.97-1) ...\n",
      "Setting up libdrm-radeon1:amd64 (2.4.97-1) ...\n",
      "Setting up libdrm-intel1:amd64 (2.4.97-1) ...\n",
      "Setting up libgl1-mesa-dri:amd64 (18.3.6-2+deb10u1) ...\n",
      "Setting up dconf-service (0.30.1-2) ...\n",
      "Setting up libglx-mesa0:amd64 (18.3.6-2+deb10u1) ...\n",
      "Setting up libglx0:amd64 (1.1.0-1) ...\n",
      "Setting up dconf-gsettings-backend:amd64 (0.30.1-2) ...\n",
      "Setting up libgl1:amd64 (1.1.0-1) ...\n",
      "Setting up x11-utils (7.7+4) ...\n",
      "Setting up libatk-wrapper-java (0.33.3-22+deb10u1) ...\n",
      "Setting up libgtk-3-common (3.24.5-1) ...\n",
      "Setting up gsettings-desktop-schemas (3.28.1-1) ...\n",
      "Setting up openjdk-11-jre-headless:amd64 (11.0.12+7-2~deb10u1) ...\n",
      "update-alternatives: using /usr/lib/jvm/java-11-openjdk-amd64/bin/java to provide /usr/bin/java (java) in auto mode\n",
      "update-alternatives: using /usr/lib/jvm/java-11-openjdk-amd64/bin/jjs to provide /usr/bin/jjs (jjs) in auto mode\n",
      "update-alternatives: using /usr/lib/jvm/java-11-openjdk-amd64/bin/keytool to provide /usr/bin/keytool (keytool) in auto mode\n",
      "update-alternatives: using /usr/lib/jvm/java-11-openjdk-amd64/bin/rmid to provide /usr/bin/rmid (rmid) in auto mode\n",
      "update-alternatives: using /usr/lib/jvm/java-11-openjdk-amd64/bin/rmiregistry to provide /usr/bin/rmiregistry (rmiregistry) in auto mode\n",
      "update-alternatives: using /usr/lib/jvm/java-11-openjdk-amd64/bin/pack200 to provide /usr/bin/pack200 (pack200) in auto mode\n",
      "update-alternatives: using /usr/lib/jvm/java-11-openjdk-amd64/bin/unpack200 to provide /usr/bin/unpack200 (unpack200) in auto mode\n",
      "update-alternatives: using /usr/lib/jvm/java-11-openjdk-amd64/lib/jexec to provide /usr/bin/jexec (jexec) in auto mode\n",
      "Setting up openjdk-11-jre:amd64 (11.0.12+7-2~deb10u1) ...\n",
      "Setting up openjdk-11-jdk-headless:amd64 (11.0.12+7-2~deb10u1) ...\n",
      "update-alternatives: using /usr/lib/jvm/java-11-openjdk-amd64/bin/jar to provide /usr/bin/jar (jar) in auto mode\n",
      "update-alternatives: using /usr/lib/jvm/java-11-openjdk-amd64/bin/jarsigner to provide /usr/bin/jarsigner (jarsigner) in auto mode\n",
      "update-alternatives: using /usr/lib/jvm/java-11-openjdk-amd64/bin/javac to provide /usr/bin/javac (javac) in auto mode\n",
      "update-alternatives: using /usr/lib/jvm/java-11-openjdk-amd64/bin/javadoc to provide /usr/bin/javadoc (javadoc) in auto mode\n",
      "update-alternatives: using /usr/lib/jvm/java-11-openjdk-amd64/bin/javap to provide /usr/bin/javap (javap) in auto mode\n",
      "update-alternatives: using /usr/lib/jvm/java-11-openjdk-amd64/bin/jcmd to provide /usr/bin/jcmd (jcmd) in auto mode\n",
      "update-alternatives: using /usr/lib/jvm/java-11-openjdk-amd64/bin/jdb to provide /usr/bin/jdb (jdb) in auto mode\n",
      "update-alternatives: using /usr/lib/jvm/java-11-openjdk-amd64/bin/jdeprscan to provide /usr/bin/jdeprscan (jdeprscan) in auto mode\n",
      "update-alternatives: using /usr/lib/jvm/java-11-openjdk-amd64/bin/jdeps to provide /usr/bin/jdeps (jdeps) in auto mode\n",
      "update-alternatives: using /usr/lib/jvm/java-11-openjdk-amd64/bin/jfr to provide /usr/bin/jfr (jfr) in auto mode\n",
      "update-alternatives: using /usr/lib/jvm/java-11-openjdk-amd64/bin/jimage to provide /usr/bin/jimage (jimage) in auto mode\n",
      "update-alternatives: using /usr/lib/jvm/java-11-openjdk-amd64/bin/jinfo to provide /usr/bin/jinfo (jinfo) in auto mode\n",
      "update-alternatives: using /usr/lib/jvm/java-11-openjdk-amd64/bin/jlink to provide /usr/bin/jlink (jlink) in auto mode\n",
      "update-alternatives: using /usr/lib/jvm/java-11-openjdk-amd64/bin/jmap to provide /usr/bin/jmap (jmap) in auto mode\n",
      "update-alternatives: using /usr/lib/jvm/java-11-openjdk-amd64/bin/jmod to provide /usr/bin/jmod (jmod) in auto mode\n",
      "update-alternatives: using /usr/lib/jvm/java-11-openjdk-amd64/bin/jps to provide /usr/bin/jps (jps) in auto mode\n",
      "update-alternatives: using /usr/lib/jvm/java-11-openjdk-amd64/bin/jrunscript to provide /usr/bin/jrunscript (jrunscript) in auto mode\n",
      "update-alternatives: using /usr/lib/jvm/java-11-openjdk-amd64/bin/jshell to provide /usr/bin/jshell (jshell) in auto mode\n",
      "update-alternatives: using /usr/lib/jvm/java-11-openjdk-amd64/bin/jstack to provide /usr/bin/jstack (jstack) in auto mode\n",
      "update-alternatives: using /usr/lib/jvm/java-11-openjdk-amd64/bin/jstat to provide /usr/bin/jstat (jstat) in auto mode\n",
      "update-alternatives: using /usr/lib/jvm/java-11-openjdk-amd64/bin/jstatd to provide /usr/bin/jstatd (jstatd) in auto mode\n",
      "update-alternatives: using /usr/lib/jvm/java-11-openjdk-amd64/bin/rmic to provide /usr/bin/rmic (rmic) in auto mode\n",
      "update-alternatives: using /usr/lib/jvm/java-11-openjdk-amd64/bin/serialver to provide /usr/bin/serialver (serialver) in auto mode\n",
      "update-alternatives: using /usr/lib/jvm/java-11-openjdk-amd64/bin/jaotc to provide /usr/bin/jaotc (jaotc) in auto mode\n",
      "update-alternatives: using /usr/lib/jvm/java-11-openjdk-amd64/bin/jhsdb to provide /usr/bin/jhsdb (jhsdb) in auto mode\n",
      "Setting up openjdk-11-jdk:amd64 (11.0.12+7-2~deb10u1) ...\n",
      "update-alternatives: using /usr/lib/jvm/java-11-openjdk-amd64/bin/jconsole to provide /usr/bin/jconsole (jconsole) in auto mode\n",
      "Setting up ca-certificates-java (20190405) ...\n",
      "head: cannot open '/etc/ssl/certs/java/cacerts' for reading: No such file or directory\n",
      "Adding debian:ACCVRAIZ1.pem\n",
      "Adding debian:AC_RAIZ_FNMT-RCM.pem\n",
      "Adding debian:Actalis_Authentication_Root_CA.pem\n",
      "Adding debian:AffirmTrust_Commercial.pem\n",
      "Adding debian:AffirmTrust_Networking.pem\n",
      "Adding debian:AffirmTrust_Premium.pem\n",
      "Adding debian:AffirmTrust_Premium_ECC.pem\n",
      "Adding debian:Amazon_Root_CA_1.pem\n",
      "Adding debian:Amazon_Root_CA_2.pem\n",
      "Adding debian:Amazon_Root_CA_3.pem\n",
      "Adding debian:Amazon_Root_CA_4.pem\n",
      "Adding debian:Atos_TrustedRoot_2011.pem\n",
      "Adding debian:Autoridad_de_Certificacion_Firmaprofesional_CIF_A62634068.pem\n",
      "Adding debian:Baltimore_CyberTrust_Root.pem\n",
      "Adding debian:Buypass_Class_2_Root_CA.pem\n",
      "Adding debian:Buypass_Class_3_Root_CA.pem\n",
      "Adding debian:CA_Disig_Root_R2.pem\n",
      "Adding debian:CFCA_EV_ROOT.pem\n",
      "Adding debian:COMODO_Certification_Authority.pem\n",
      "Adding debian:COMODO_ECC_Certification_Authority.pem\n",
      "Adding debian:COMODO_RSA_Certification_Authority.pem\n",
      "Adding debian:Certigna.pem\n",
      "Adding debian:Certigna_Root_CA.pem\n",
      "Adding debian:Certum_Trusted_Network_CA.pem\n",
      "Adding debian:Certum_Trusted_Network_CA_2.pem\n",
      "Adding debian:Chambers_of_Commerce_Root_-_2008.pem\n",
      "Adding debian:Comodo_AAA_Services_root.pem\n",
      "Adding debian:Cybertrust_Global_Root.pem\n",
      "Adding debian:D-TRUST_Root_Class_3_CA_2_2009.pem\n",
      "Adding debian:D-TRUST_Root_Class_3_CA_2_EV_2009.pem\n",
      "Adding debian:DST_Root_CA_X3.pem\n",
      "Adding debian:DigiCert_Assured_ID_Root_CA.pem\n",
      "Adding debian:DigiCert_Assured_ID_Root_G2.pem\n",
      "Adding debian:DigiCert_Assured_ID_Root_G3.pem\n",
      "Adding debian:DigiCert_Global_Root_CA.pem\n",
      "Adding debian:DigiCert_Global_Root_G2.pem\n",
      "Adding debian:DigiCert_Global_Root_G3.pem\n",
      "Adding debian:DigiCert_High_Assurance_EV_Root_CA.pem\n",
      "Adding debian:DigiCert_Trusted_Root_G4.pem\n",
      "Adding debian:E-Tugra_Certification_Authority.pem\n",
      "Adding debian:EC-ACC.pem\n",
      "Adding debian:EE_Certification_Centre_Root_CA.pem\n",
      "Adding debian:Entrust.net_Premium_2048_Secure_Server_CA.pem\n",
      "Adding debian:Entrust_Root_Certification_Authority.pem\n",
      "Adding debian:GDCA_TrustAUTH_R5_ROOT.pem\n",
      "Adding debian:Entrust_Root_Certification_Authority_-_EC1.pem\n",
      "Adding debian:Entrust_Root_Certification_Authority_-_G2.pem\n",
      "Adding debian:Entrust_Root_Certification_Authority_-_G4.pem\n",
      "Adding debian:GTS_Root_R1.pem\n",
      "Adding debian:GTS_Root_R2.pem\n",
      "Adding debian:GTS_Root_R3.pem\n",
      "Adding debian:GTS_Root_R4.pem\n",
      "Adding debian:GeoTrust_Global_CA.pem\n",
      "Adding debian:GeoTrust_Primary_Certification_Authority.pem\n",
      "Adding debian:GeoTrust_Primary_Certification_Authority_-_G2.pem\n",
      "Adding debian:GeoTrust_Primary_Certification_Authority_-_G3.pem\n",
      "Adding debian:GeoTrust_Universal_CA.pem\n",
      "Adding debian:GeoTrust_Universal_CA_2.pem\n",
      "Adding debian:GlobalSign_ECC_Root_CA_-_R4.pem\n",
      "Adding debian:GlobalSign_ECC_Root_CA_-_R5.pem\n",
      "Adding debian:GlobalSign_Root_CA.pem\n",
      "Adding debian:GlobalSign_Root_CA_-_R2.pem\n",
      "Adding debian:GlobalSign_Root_CA_-_R3.pem\n",
      "Adding debian:GlobalSign_Root_CA_-_R6.pem\n",
      "Adding debian:Global_Chambersign_Root_-_2008.pem\n",
      "Adding debian:Go_Daddy_Class_2_CA.pem\n",
      "Adding debian:Go_Daddy_Root_Certificate_Authority_-_G2.pem\n",
      "Adding debian:Hellenic_Academic_and_Research_Institutions_ECC_RootCA_2015.pem\n",
      "Adding debian:Hellenic_Academic_and_Research_Institutions_RootCA_2011.pem\n",
      "Adding debian:Hellenic_Academic_and_Research_Institutions_RootCA_2015.pem\n",
      "Adding debian:Hongkong_Post_Root_CA_1.pem\n",
      "Adding debian:Hongkong_Post_Root_CA_3.pem\n",
      "Adding debian:ISRG_Root_X1.pem\n",
      "Adding debian:IdenTrust_Commercial_Root_CA_1.pem\n",
      "Adding debian:IdenTrust_Public_Sector_Root_CA_1.pem\n",
      "Adding debian:Izenpe.com.pem\n",
      "Adding debian:LuxTrust_Global_Root_2.pem\n",
      "Adding debian:Microsec_e-Szigno_Root_CA_2009.pem\n",
      "Adding debian:NetLock_Arany_=Class_Gold=_Főtanúsítvány.pem\n",
      "Adding debian:Network_Solutions_Certificate_Authority.pem\n",
      "Adding debian:OISTE_WISeKey_Global_Root_GA_CA.pem\n",
      "Adding debian:OISTE_WISeKey_Global_Root_GB_CA.pem\n",
      "Adding debian:OISTE_WISeKey_Global_Root_GC_CA.pem\n",
      "Adding debian:QuoVadis_Root_CA.pem\n",
      "Adding debian:QuoVadis_Root_CA_1_G3.pem\n",
      "Adding debian:QuoVadis_Root_CA_2.pem\n",
      "Adding debian:QuoVadis_Root_CA_2_G3.pem\n",
      "Adding debian:QuoVadis_Root_CA_3.pem\n",
      "Adding debian:QuoVadis_Root_CA_3_G3.pem\n",
      "Adding debian:SSL.com_EV_Root_Certification_Authority_ECC.pem\n",
      "Adding debian:SSL.com_EV_Root_Certification_Authority_RSA_R2.pem\n",
      "Adding debian:SSL.com_Root_Certification_Authority_ECC.pem\n",
      "Adding debian:SSL.com_Root_Certification_Authority_RSA.pem\n",
      "Adding debian:SZAFIR_ROOT_CA2.pem\n",
      "Adding debian:SecureSign_RootCA11.pem\n",
      "Adding debian:SecureTrust_CA.pem\n",
      "Adding debian:Secure_Global_CA.pem\n",
      "Adding debian:Security_Communication_RootCA2.pem\n",
      "Adding debian:Security_Communication_Root_CA.pem\n",
      "Adding debian:Sonera_Class_2_Root_CA.pem\n",
      "Adding debian:Staat_der_Nederlanden_EV_Root_CA.pem\n",
      "Adding debian:Staat_der_Nederlanden_Root_CA_-_G2.pem\n",
      "Adding debian:Staat_der_Nederlanden_Root_CA_-_G3.pem\n",
      "Adding debian:Starfield_Class_2_CA.pem\n",
      "Adding debian:Starfield_Root_Certificate_Authority_-_G2.pem\n",
      "Adding debian:Starfield_Services_Root_Certificate_Authority_-_G2.pem\n",
      "Adding debian:SwissSign_Gold_CA_-_G2.pem\n",
      "Adding debian:SwissSign_Silver_CA_-_G2.pem\n",
      "Adding debian:T-TeleSec_GlobalRoot_Class_2.pem\n",
      "Adding debian:T-TeleSec_GlobalRoot_Class_3.pem\n",
      "Adding debian:TUBITAK_Kamu_SM_SSL_Kok_Sertifikasi_-_Surum_1.pem\n",
      "Adding debian:TWCA_Global_Root_CA.pem\n",
      "Adding debian:TWCA_Root_Certification_Authority.pem\n",
      "Adding debian:Taiwan_GRCA.pem\n",
      "Adding debian:TeliaSonera_Root_CA_v1.pem\n",
      "Adding debian:TrustCor_ECA-1.pem\n",
      "Adding debian:TrustCor_RootCert_CA-1.pem\n",
      "Adding debian:TrustCor_RootCert_CA-2.pem\n",
      "Adding debian:Trustis_FPS_Root_CA.pem\n",
      "Adding debian:UCA_Extended_Validation_Root.pem\n",
      "Adding debian:UCA_Global_G2_Root.pem\n",
      "Adding debian:USERTrust_ECC_Certification_Authority.pem\n",
      "Adding debian:USERTrust_RSA_Certification_Authority.pem\n",
      "Adding debian:VeriSign_Class_3_Public_Primary_Certification_Authority_-_G4.pem\n",
      "Adding debian:VeriSign_Class_3_Public_Primary_Certification_Authority_-_G5.pem\n",
      "Adding debian:VeriSign_Universal_Root_Certification_Authority.pem\n",
      "Adding debian:Verisign_Class_3_Public_Primary_Certification_Authority_-_G3.pem\n",
      "Adding debian:XRamp_Global_CA_Root.pem\n",
      "Adding debian:certSIGN_ROOT_CA.pem\n",
      "Adding debian:ePKI_Root_Certification_Authority.pem\n",
      "Adding debian:emSign_ECC_Root_CA_-_C3.pem\n",
      "Adding debian:emSign_ECC_Root_CA_-_G3.pem\n",
      "Adding debian:emSign_Root_CA_-_C1.pem\n",
      "Adding debian:emSign_Root_CA_-_G1.pem\n",
      "Adding debian:thawte_Primary_Root_CA.pem\n",
      "Adding debian:thawte_Primary_Root_CA_-_G2.pem\n",
      "Adding debian:thawte_Primary_Root_CA_-_G3.pem\n",
      "done.\n",
      "Processing triggers for fontconfig (2.13.1-2) ...\n",
      "Processing triggers for mime-support (3.62) ...\n",
      "Processing triggers for hicolor-icon-theme (0.17-2) ...\n",
      "Processing triggers for libglib2.0-0:amd64 (2.58.3-2+deb10u3) ...\n",
      "Processing triggers for libc-bin (2.28-10) ...\n",
      "Processing triggers for systemd (241-7~deb10u8) ...\n",
      "Processing triggers for ca-certificates (20200601~deb10u2) ...\n",
      "Updating certificates in /etc/ssl/certs...\n",
      "0 added, 0 removed; done.\n",
      "Running hooks in /etc/ca-certificates/update.d...\n",
      "\n",
      "done.\n",
      "done.\n",
      "Setting up glib-networking:amd64 (2.58.0-2+deb10u2) ...\n",
      "Setting up libsoup2.4-1:amd64 (2.64.2-2) ...\n",
      "Setting up libsoup-gnome2.4-1:amd64 (2.64.2-2) ...\n",
      "Setting up librest-0.7-0:amd64 (0.8.1-1) ...\n",
      "Setting up libgtk-3-0:amd64 (3.24.5-1) ...\n",
      "Setting up libgtk-3-bin (3.24.5-1) ...\n",
      "Setting up libatk-wrapper-java-jni:amd64 (0.33.3-22+deb10u1) ...\n",
      "Processing triggers for libc-bin (2.28-10) ...\n",
      "Collecting pyspark\n",
      "  Downloading pyspark-3.2.0.tar.gz (281.3 MB)\n",
      "\u001b[K     |████████████████████████████████| 281.3 MB 46 kB/s \n",
      "\u001b[?25hCollecting py4j==0.10.9.2\n",
      "  Downloading py4j-0.10.9.2-py2.py3-none-any.whl (198 kB)\n",
      "\u001b[K     |████████████████████████████████| 198 kB 41.3 MB/s \n",
      "\u001b[?25hBuilding wheels for collected packages: pyspark\n",
      "  Building wheel for pyspark (setup.py) ... \u001b[?25ldone\n",
      "\u001b[?25h  Created wheel for pyspark: filename=pyspark-3.2.0-py2.py3-none-any.whl size=281805912 sha256=ac29d1e025dfe836ee82057b319ae2ae898d84c4b4a77d1e600fb8db6e36f2e9\n",
      "  Stored in directory: /root/.cache/pip/wheels/0b/de/d2/9be5d59d7331c6c2a7c1b6d1a4f463ce107332b1ecd4e80718\n",
      "Successfully built pyspark\n",
      "Installing collected packages: py4j, pyspark\n",
      "Successfully installed py4j-0.10.9.2 pyspark-3.2.0\n",
      "\u001b[33mWARNING: You are using pip version 20.1.1; however, version 21.3.1 is available.\n",
      "You should consider upgrading via the '/root/venv/bin/python -m pip install --upgrade pip' command.\u001b[0m\n"
     ]
    }
   ],
   "source": [
    "# Install PySpark on Deepnote instance\n",
    "# Takes ~2 minutes\n",
    "! sudo apt-get update\n",
    "! sudo mkdir -p /usr/share/man/man1\n",
    "! sudo apt-get install -y openjdk-11-jdk\n",
    "! pip install pyspark"
   ]
  },
  {
   "cell_type": "code",
   "execution_count": null,
   "metadata": {
    "cell_id": "00001-4cf8d12f-bf3b-4f0d-bc3d-a3e983f20714",
    "deepnote_cell_type": "code",
    "deepnote_to_be_reexecuted": false,
    "execution_millis": 3205,
    "execution_start": 1639756352087,
    "source_hash": "3b57fb7e",
    "tags": []
   },
   "outputs": [],
   "source": [
    "import pandas as pd\n",
    "import numpy as np\n",
    "\n",
    "import seaborn as sns\n",
    "import matplotlib.pyplot as plt\n",
    "\n",
    "import sqlite3\n",
    "\n",
    "import pyspark\n",
    "from pyspark.ml.feature import VectorAssembler\n",
    "from pyspark.ml.feature import MinMaxScaler\n",
    "from pyspark.ml.classification import (DecisionTreeClassifier, RandomForestClassifier, GBTClassifier, LogisticRegression)\n",
    "from pyspark.ml.evaluation import (BinaryClassificationEvaluator, MulticlassClassificationEvaluator)\n",
    "from pyspark.mllib.evaluation import (BinaryClassificationMetrics, MulticlassMetrics)\n",
    "from pyspark.ml import Pipeline\n",
    "from pyspark.ml.tuning import ParamGridBuilder, CrossValidator\n",
    "from pyspark.sql.functions import lit\n",
    "import pyspark.sql.functions as F\n",
    "\n",
    "import warnings\n",
    "warnings.filterwarnings('ignore')"
   ]
  },
  {
   "cell_type": "code",
   "execution_count": null,
   "metadata": {
    "cell_id": "00002-cf3b1a05-b84e-4447-92bc-2a7f0705e171",
    "deepnote_cell_type": "code",
    "deepnote_to_be_reexecuted": false,
    "execution_millis": 6707,
    "execution_start": 1639756355307,
    "source_hash": "ff70973",
    "tags": []
   },
   "outputs": [],
   "source": [
    "spark = pyspark.sql.SparkSession.builder.getOrCreate()"
   ]
  },
  {
   "cell_type": "code",
   "execution_count": null,
   "metadata": {
    "cell_id": "00003-7b05beba-b4a4-441d-a989-10bf15604371",
    "deepnote_cell_type": "code",
    "deepnote_to_be_reexecuted": false,
    "execution_millis": 7,
    "execution_start": 1639756362022,
    "source_hash": "901c1366",
    "tags": []
   },
   "outputs": [],
   "source": [
    "filepath = 'final_data.csv'"
   ]
  },
  {
   "cell_type": "code",
   "execution_count": null,
   "metadata": {
    "cell_id": "00004-7715d7f6-232c-4888-88b9-07c1b00e229c",
    "deepnote_cell_type": "code",
    "deepnote_to_be_reexecuted": false,
    "execution_millis": 23018,
    "execution_start": 1639756362034,
    "source_hash": "ba92f2dc",
    "tags": []
   },
   "outputs": [
    {
     "name": "stdout",
     "output_type": "stream",
     "text": [
      "root\n",
      " |-- _c0: integer (nullable = true)\n",
      " |-- amt: double (nullable = true)\n",
      " |-- gender: integer (nullable = true)\n",
      " |-- city_pop: integer (nullable = true)\n",
      " |-- age: double (nullable = true)\n",
      " |-- tran_day_of_week: integer (nullable = true)\n",
      " |-- tran_day_of_month: integer (nullable = true)\n",
      " |-- tran_month_of_year: integer (nullable = true)\n",
      " |-- tran_hour_of_day: integer (nullable = true)\n",
      " |-- cat_food_dining: integer (nullable = true)\n",
      " |-- cat_gas_transport: integer (nullable = true)\n",
      " |-- cat_grocery_net: integer (nullable = true)\n",
      " |-- cat_grocery_pos: integer (nullable = true)\n",
      " |-- cat_health_fitness: integer (nullable = true)\n",
      " |-- cat_home: integer (nullable = true)\n",
      " |-- cat_kids_pets: integer (nullable = true)\n",
      " |-- cat_misc_net: integer (nullable = true)\n",
      " |-- cat_misc_pos: integer (nullable = true)\n",
      " |-- cat_personal_care: integer (nullable = true)\n",
      " |-- cat_shopping_net: integer (nullable = true)\n",
      " |-- cat_shopping_pos: integer (nullable = true)\n",
      " |-- cat_travel: integer (nullable = true)\n",
      " |-- is_fraud: integer (nullable = true)\n",
      "\n"
     ]
    }
   ],
   "source": [
    "spark_df = spark.read.csv(filepath,\n",
    "                     sep=',',\n",
    "                     inferSchema=True,\n",
    "                     header=True,)\n",
    "\n",
    "spark_df.printSchema()"
   ]
  },
  {
   "cell_type": "code",
   "execution_count": null,
   "metadata": {
    "cell_id": "00005-d00c7a8b-057d-4dbc-935e-5c142f2b9fc6",
    "deepnote_cell_type": "code",
    "deepnote_output_heights": [
     21.1875
    ],
    "deepnote_to_be_reexecuted": false,
    "execution_millis": 10,
    "execution_start": 1639756384894,
    "source_hash": "d31b6a6b",
    "tags": []
   },
   "outputs": [],
   "source": [
    "spark_df = spark_df.drop('_c0')"
   ]
  },
  {
   "cell_type": "code",
   "execution_count": null,
   "metadata": {
    "cell_id": "00005-9563d6c1-b3d6-422a-9ec2-1b06ae2f6c50",
    "deepnote_cell_type": "code",
    "deepnote_to_be_reexecuted": false,
    "execution_millis": 959,
    "execution_start": 1639756384912,
    "source_hash": "3095dc77",
    "tags": []
   },
   "outputs": [
    {
     "name": "stdout",
     "output_type": "stream",
     "text": [
      "+------+------+--------+----+----------------+-----------------+------------------+----------------+---------------+-----------------+---------------+---------------+------------------+--------+-------------+------------+------------+-----------------+----------------+----------------+----------+--------+\n",
      "|   amt|gender|city_pop| age|tran_day_of_week|tran_day_of_month|tran_month_of_year|tran_hour_of_day|cat_food_dining|cat_gas_transport|cat_grocery_net|cat_grocery_pos|cat_health_fitness|cat_home|cat_kids_pets|cat_misc_net|cat_misc_pos|cat_personal_care|cat_shopping_net|cat_shopping_pos|cat_travel|is_fraud|\n",
      "+------+------+--------+----+----------------+-----------------+------------------+----------------+---------------+-----------------+---------------+---------------+------------------+--------+-------------+------------+------------+-----------------+----------------+----------------+----------+--------+\n",
      "|  2.86|     1|  333497|52.0|               6|               21|                 6|              12|              0|                0|              0|              0|                 0|       0|            0|           0|           0|                1|               0|               0|         0|       0|\n",
      "| 29.84|     2|     302|30.0|               6|               21|                 6|              12|              0|                0|              0|              0|                 0|       0|            0|           0|           0|                1|               0|               0|         0|       0|\n",
      "| 41.28|     2|   34496|50.0|               6|               21|                 6|              12|              0|                0|              0|              0|                 1|       0|            0|           0|           0|                0|               0|               0|         0|       0|\n",
      "| 60.05|     1|   54767|33.0|               6|               21|                 6|              12|              0|                0|              0|              0|                 0|       0|            0|           0|           1|                0|               0|               0|         0|       0|\n",
      "|  3.19|     1|    1126|65.0|               6|               21|                 6|              12|              0|                0|              0|              0|                 0|       0|            0|           0|           0|                0|               0|               0|         1|       0|\n",
      "| 19.55|     2|     520|29.0|               6|               21|                 6|              12|              0|                0|              0|              0|                 0|       0|            1|           0|           0|                0|               0|               0|         0|       0|\n",
      "|133.93|     2|    1139|69.0|               6|               21|                 6|              12|              0|                0|              0|              0|                 1|       0|            0|           0|           0|                0|               0|               0|         0|       0|\n",
      "| 10.37|     2|     343|48.0|               6|               21|                 6|              12|              0|                0|              0|              0|                 0|       0|            0|           0|           0|                1|               0|               0|         0|       0|\n",
      "|  4.37|     1|    3688|47.0|               6|               21|                 6|              12|              0|                0|              0|              0|                 0|       0|            0|           0|           0|                0|               0|               1|         0|       0|\n",
      "| 66.54|     2|     263|64.0|               6|               21|                 6|              12|              1|                0|              0|              0|                 0|       0|            0|           0|           0|                0|               0|               0|         0|       0|\n",
      "+------+------+--------+----+----------------+-----------------+------------------+----------------+---------------+-----------------+---------------+---------------+------------------+--------+-------------+------------+------------+-----------------+----------------+----------------+----------+--------+\n",
      "only showing top 10 rows\n",
      "\n"
     ]
    }
   ],
   "source": [
    "spark_df.show(10)"
   ]
  },
  {
   "cell_type": "code",
   "execution_count": null,
   "metadata": {
    "cell_id": "00006-34e4bfc0-effd-4500-957d-740dbf3e5089",
    "deepnote_cell_type": "code",
    "deepnote_output_heights": [
     424.34375
    ],
    "deepnote_to_be_reexecuted": false,
    "execution_millis": 24,
    "execution_start": 1639756385882,
    "source_hash": "6a056c25",
    "tags": []
   },
   "outputs": [
    {
     "data": {
      "text/plain": [
       "[('amt', 'double'),\n",
       " ('gender', 'int'),\n",
       " ('city_pop', 'int'),\n",
       " ('age', 'double'),\n",
       " ('tran_day_of_week', 'int'),\n",
       " ('tran_day_of_month', 'int'),\n",
       " ('tran_month_of_year', 'int'),\n",
       " ('tran_hour_of_day', 'int'),\n",
       " ('cat_food_dining', 'int'),\n",
       " ('cat_gas_transport', 'int'),\n",
       " ('cat_grocery_net', 'int'),\n",
       " ('cat_grocery_pos', 'int'),\n",
       " ('cat_health_fitness', 'int'),\n",
       " ('cat_home', 'int'),\n",
       " ('cat_kids_pets', 'int'),\n",
       " ('cat_misc_net', 'int'),\n",
       " ('cat_misc_pos', 'int'),\n",
       " ('cat_personal_care', 'int'),\n",
       " ('cat_shopping_net', 'int'),\n",
       " ('cat_shopping_pos', 'int'),\n",
       " ('cat_travel', 'int'),\n",
       " ('is_fraud', 'int')]"
      ]
     },
     "execution_count": 8,
     "metadata": {},
     "output_type": "execute_result"
    }
   ],
   "source": [
    "spark_df.dtypes"
   ]
  },
  {
   "cell_type": "code",
   "execution_count": null,
   "metadata": {
    "cell_id": "00008-791f8e9f-f7dd-481b-94a8-6374a447ff53",
    "deepnote_cell_type": "code",
    "deepnote_to_be_reexecuted": false,
    "execution_millis": 130,
    "execution_start": 1639756385915,
    "source_hash": "b7c2975f",
    "tags": []
   },
   "outputs": [],
   "source": [
    "spark_df.createOrReplaceTempView('data')"
   ]
  },
  {
   "cell_type": "code",
   "execution_count": null,
   "metadata": {
    "cell_id": "00009-7a4857a5-d5a5-4d4a-bc6b-4ca795ecac05",
    "deepnote_cell_type": "code",
    "deepnote_to_be_reexecuted": false,
    "execution_millis": 6271,
    "execution_start": 1639756386068,
    "source_hash": "ae7adcd9",
    "tags": []
   },
   "outputs": [
    {
     "name": "stdout",
     "output_type": "stream",
     "text": [
      "+--------+-------+\n",
      "|is_fraud|    cnt|\n",
      "+--------+-------+\n",
      "|       1|   9651|\n",
      "|       0|1842743|\n",
      "+--------+-------+\n",
      "\n"
     ]
    }
   ],
   "source": [
    "fraud_counts = spark.sql(r\"\"\"SELECT is_fraud, COUNT(*) AS cnt \n",
    "                            FROM data\n",
    "                            GROUP BY is_fraud\"\"\")\n",
    "fraud_counts.show()"
   ]
  },
  {
   "cell_type": "code",
   "execution_count": null,
   "metadata": {
    "cell_id": "00010-da4d9728-2586-43f9-a1f2-e55cbc8e4158",
    "deepnote_cell_type": "code",
    "deepnote_to_be_reexecuted": false,
    "execution_millis": 5535,
    "execution_start": 1639756392363,
    "source_hash": "3ba778aa",
    "tags": []
   },
   "outputs": [
    {
     "name": "stdout",
     "output_type": "stream",
     "text": [
      "+------+-------+\n",
      "|gender|    cnt|\n",
      "+------+-------+\n",
      "|  male| 837645|\n",
      "|female|1014749|\n",
      "+------+-------+\n",
      "\n"
     ]
    }
   ],
   "source": [
    "gender_counts = spark.sql(r\"\"\"SELECT CASE when gender = 1 then 'male' \n",
    "                                          when gender = 2 then 'female' \n",
    "                                          end as gender \n",
    "                                          , COUNT(*) AS cnt \n",
    "                            FROM data\n",
    "                            GROUP BY gender\"\"\")\n",
    "gender_counts.show()\n",
    "# male - 1, female - 2"
   ]
  },
  {
   "cell_type": "code",
   "execution_count": null,
   "metadata": {
    "cell_id": "00011-ec51d73e-fe47-4f93-aaba-37aafc834923",
    "deepnote_cell_type": "code",
    "deepnote_to_be_reexecuted": false,
    "execution_millis": 6535,
    "execution_start": 1639756397920,
    "source_hash": "780cd08a",
    "tags": []
   },
   "outputs": [
    {
     "name": "stdout",
     "output_type": "stream",
     "text": [
      "+------+-------------------+\n",
      "|gender|                amt|\n",
      "+------+-------------------+\n",
      "|  male|5.879701363000017E7|\n",
      "|female|7.098831837999928E7|\n",
      "+------+-------------------+\n",
      "\n"
     ]
    }
   ],
   "source": [
    "gender_amounts = spark.sql(r\"\"\"SELECT CASE when gender = 1 then 'male' \n",
    "                                           when gender = 2 then 'female' \n",
    "                                           end as gender \n",
    "                                          , SUM(amt) AS amt \n",
    "                            FROM data\n",
    "                            GROUP BY gender\"\"\")\n",
    "gender_amounts.show()\n",
    "# male - 1, female - 2"
   ]
  },
  {
   "cell_type": "code",
   "execution_count": null,
   "metadata": {
    "cell_id": "00012-21cc7a34-0784-4fd9-8411-b1305e28ec6b",
    "deepnote_cell_type": "code",
    "deepnote_to_be_reexecuted": false,
    "execution_millis": 8043,
    "execution_start": 1639756404486,
    "source_hash": "67277498",
    "tags": []
   },
   "outputs": [
    {
     "name": "stdout",
     "output_type": "stream",
     "text": [
      "+------+--------+-------+\n",
      "|gender|is_fraud|    cnt|\n",
      "+------+--------+-------+\n",
      "|  male|       0| 832893|\n",
      "|  male|       1|   4752|\n",
      "|female|       1|   4899|\n",
      "|female|       0|1009850|\n",
      "+------+--------+-------+\n",
      "\n"
     ]
    }
   ],
   "source": [
    "fraud_by_gender_cnt = spark.sql(r\"\"\"SELECT CASE when gender = 1 then 'male' \n",
    "                                           when gender = 2 then 'female' \n",
    "                                           end as gender\n",
    "                                           , is_fraud\n",
    "                                           , COUNT(*) AS cnt \n",
    "                            FROM data\n",
    "                            GROUP BY gender, is_fraud\"\"\")\n",
    "fraud_by_gender_cnt.show()\n",
    "# male - 1, female - 2"
   ]
  },
  {
   "cell_type": "code",
   "execution_count": null,
   "metadata": {
    "cell_id": "00013-43283e55-0227-4b8e-a0e7-29a68328dfec",
    "deepnote_cell_type": "code",
    "deepnote_to_be_reexecuted": false,
    "execution_millis": 5734,
    "execution_start": 1639756412552,
    "source_hash": "aebecf00",
    "tags": []
   },
   "outputs": [
    {
     "name": "stdout",
     "output_type": "stream",
     "text": [
      "+------+--------+-------------------+\n",
      "|gender|is_fraud|                amt|\n",
      "+------+--------+-------------------+\n",
      "|  male|       0|5.607834692000026E7|\n",
      "|  male|       1| 2718666.7100000037|\n",
      "|female|       1|         2402746.58|\n",
      "|female|       0| 6.85855717999996E7|\n",
      "+------+--------+-------------------+\n",
      "\n"
     ]
    }
   ],
   "source": [
    "fraud_by_gender_amt = spark.sql(r\"\"\"SELECT CASE when gender = 1 then 'male' \n",
    "                                           when gender = 2 then 'female' \n",
    "                                           end as gender\n",
    "                                           , is_fraud\n",
    "                                           , sum(amt) AS amt \n",
    "                            FROM data\n",
    "                            GROUP BY gender, is_fraud\"\"\")\n",
    "fraud_by_gender_amt.show()\n",
    "# male - 1, female - 2"
   ]
  },
  {
   "cell_type": "code",
   "execution_count": null,
   "metadata": {
    "cell_id": "00014-6a2feffd-a16d-4944-88c9-1456f256a37a",
    "deepnote_cell_type": "code",
    "deepnote_to_be_reexecuted": false,
    "execution_millis": 321,
    "execution_start": 1639756418301,
    "source_hash": "de25e40e",
    "tags": []
   },
   "outputs": [
    {
     "name": "stdout",
     "output_type": "stream",
     "text": [
      "+------+------+--------+----+----------------+-----------------+------------------+----------------+---------------+-----------------+---------------+---------------+------------------+--------+-------------+------------+------------+-----------------+----------------+----------------+----------+--------+\n",
      "|   amt|gender|city_pop| age|tran_day_of_week|tran_day_of_month|tran_month_of_year|tran_hour_of_day|cat_food_dining|cat_gas_transport|cat_grocery_net|cat_grocery_pos|cat_health_fitness|cat_home|cat_kids_pets|cat_misc_net|cat_misc_pos|cat_personal_care|cat_shopping_net|cat_shopping_pos|cat_travel|is_fraud|\n",
      "+------+------+--------+----+----------------+-----------------+------------------+----------------+---------------+-----------------+---------------+---------------+------------------+--------+-------------+------------+------------+-----------------+----------------+----------------+----------+--------+\n",
      "|  2.86|     1|  333497|52.0|               6|               21|                 6|              12|              0|                0|              0|              0|                 0|       0|            0|           0|           0|                1|               0|               0|         0|       0|\n",
      "| 29.84|     2|     302|30.0|               6|               21|                 6|              12|              0|                0|              0|              0|                 0|       0|            0|           0|           0|                1|               0|               0|         0|       0|\n",
      "| 41.28|     2|   34496|50.0|               6|               21|                 6|              12|              0|                0|              0|              0|                 1|       0|            0|           0|           0|                0|               0|               0|         0|       0|\n",
      "| 60.05|     1|   54767|33.0|               6|               21|                 6|              12|              0|                0|              0|              0|                 0|       0|            0|           0|           1|                0|               0|               0|         0|       0|\n",
      "|  3.19|     1|    1126|65.0|               6|               21|                 6|              12|              0|                0|              0|              0|                 0|       0|            0|           0|           0|                0|               0|               0|         1|       0|\n",
      "| 19.55|     2|     520|29.0|               6|               21|                 6|              12|              0|                0|              0|              0|                 0|       0|            1|           0|           0|                0|               0|               0|         0|       0|\n",
      "|133.93|     2|    1139|69.0|               6|               21|                 6|              12|              0|                0|              0|              0|                 1|       0|            0|           0|           0|                0|               0|               0|         0|       0|\n",
      "| 10.37|     2|     343|48.0|               6|               21|                 6|              12|              0|                0|              0|              0|                 0|       0|            0|           0|           0|                1|               0|               0|         0|       0|\n",
      "|  4.37|     1|    3688|47.0|               6|               21|                 6|              12|              0|                0|              0|              0|                 0|       0|            0|           0|           0|                0|               0|               1|         0|       0|\n",
      "| 66.54|     2|     263|64.0|               6|               21|                 6|              12|              1|                0|              0|              0|                 0|       0|            0|           0|           0|                0|               0|               0|         0|       0|\n",
      "|  7.01|     1|     564|24.0|               6|               21|                 6|              12|              1|                0|              0|              0|                 0|       0|            0|           0|           0|                0|               0|               0|         0|       0|\n",
      "|  42.4|     1|    1645|44.0|               6|               21|                 6|              12|              0|                0|              0|              0|                 0|       0|            1|           0|           0|                0|               0|               0|         0|       0|\n",
      "|  2.91|     2|   26551|43.0|               6|               21|                 6|              12|              0|                0|              0|              0|                 0|       1|            0|           0|           0|                0|               0|               0|         0|       0|\n",
      "|  7.93|     1|    2258|83.0|               6|               21|                 6|              12|              1|                0|              0|              0|                 0|       0|            0|           0|           0|                0|               0|               0|         0|       0|\n",
      "|  2.91|     2|    1089|49.0|               6|               21|                 6|              12|              0|                0|              0|              0|                 0|       0|            1|           0|           0|                0|               0|               0|         0|       0|\n",
      "| 24.73|     2|   88735|32.0|               6|               21|                 6|              12|              0|                0|              0|              0|                 0|       0|            0|           0|           0|                0|               0|               0|         0|       0|\n",
      "|  2.33|     1|   32891|33.0|               6|               21|                 6|              12|              0|                0|              0|              0|                 0|       0|            0|           0|           0|                0|               0|               1|         0|       0|\n",
      "|  16.6|     2|    5875|28.0|               6|               21|                 6|              12|              0|                0|              0|              0|                 0|       0|            1|           0|           0|                0|               0|               0|         0|       0|\n",
      "| 80.11|     2|   10076|43.0|               6|               21|                 6|              12|              0|                0|              0|              0|                 0|       0|            0|           0|           0|                0|               0|               0|         0|       0|\n",
      "|  5.71|     2|     606|23.0|               6|               21|                 6|              12|              0|                0|              0|              0|                 0|       0|            0|           0|           0|                1|               0|               0|         0|       0|\n",
      "+------+------+--------+----+----------------+-----------------+------------------+----------------+---------------+-----------------+---------------+---------------+------------------+--------+-------------+------------+------------+-----------------+----------------+----------------+----------+--------+\n",
      "only showing top 20 rows\n",
      "\n"
     ]
    }
   ],
   "source": [
    "spark_df.show()"
   ]
  },
  {
   "cell_type": "markdown",
   "metadata": {
    "cell_id": "00015-a3f8a026-674f-4587-a080-3a6bfdd99316",
    "deepnote_cell_type": "markdown",
    "tags": []
   },
   "source": [
    "### split data into train, val, and test (stratified)"
   ]
  },
  {
   "cell_type": "code",
   "execution_count": null,
   "metadata": {
    "cell_id": "00015-97c1ce38-0583-4419-86b9-c41807b742fc",
    "deepnote_cell_type": "code",
    "deepnote_to_be_reexecuted": false,
    "execution_millis": 5456,
    "execution_start": 1639756418663,
    "source_hash": "1c65a719",
    "tags": []
   },
   "outputs": [],
   "source": [
    "fractions = spark_df.select(\"is_fraud\").distinct().withColumn(\"fraction\", lit(0.6)).rdd.collectAsMap()                                                         \n",
    "train_df = spark_df.stat.sampleBy(\"is_fraud\", fractions, seed = 42)"
   ]
  },
  {
   "cell_type": "code",
   "execution_count": null,
   "metadata": {
    "cell_id": "00016-9c970e7f-8d73-40e0-8edd-91128223818d",
    "deepnote_cell_type": "code",
    "deepnote_to_be_reexecuted": false,
    "execution_millis": 61,
    "execution_start": 1639756424134,
    "source_hash": "b9449440",
    "tags": []
   },
   "outputs": [],
   "source": [
    "test_df = spark_df.subtract(train_df)"
   ]
  },
  {
   "cell_type": "code",
   "execution_count": null,
   "metadata": {
    "cell_id": "00018-587d6dd3-7e0c-4e77-a6ed-ed0b53ade037",
    "deepnote_cell_type": "code",
    "deepnote_to_be_reexecuted": false,
    "execution_millis": 50700,
    "execution_start": 1639756424210,
    "source_hash": "3f91afd7",
    "tags": []
   },
   "outputs": [],
   "source": [
    "fractions = test_df.select(\"is_fraud\").distinct().withColumn(\"fraction\", lit(0.5)).rdd.collectAsMap()                                                         \n",
    "val_df = test_df.stat.sampleBy(\"is_fraud\", fractions, seed = 42)"
   ]
  },
  {
   "cell_type": "code",
   "execution_count": null,
   "metadata": {
    "cell_id": "00019-0a17e7fe-e70a-413f-8191-3fa41b47e48f",
    "deepnote_cell_type": "code",
    "deepnote_to_be_reexecuted": false,
    "execution_millis": 81,
    "execution_start": 1639756474954,
    "source_hash": "dc3df2e0",
    "tags": []
   },
   "outputs": [],
   "source": [
    "test_df = test_df.subtract(val_df)"
   ]
  },
  {
   "cell_type": "code",
   "execution_count": null,
   "metadata": {
    "cell_id": "00020-8de6fd42-7455-4deb-abd7-52b1d5d01e8e",
    "deepnote_cell_type": "code",
    "deepnote_to_be_reexecuted": false,
    "execution_millis": 4923,
    "execution_start": 1639756475044,
    "source_hash": "da96d146",
    "tags": []
   },
   "outputs": [
    {
     "name": "stdout",
     "output_type": "stream",
     "text": [
      "+--------+-------+\n",
      "|is_fraud|  count|\n",
      "+--------+-------+\n",
      "|       1|   5765|\n",
      "|       0|1106662|\n",
      "+--------+-------+\n",
      "\n"
     ]
    }
   ],
   "source": [
    "train_df.groupBy('is_fraud').count().show()"
   ]
  },
  {
   "cell_type": "code",
   "execution_count": null,
   "metadata": {
    "cell_id": "00021-e313f2b4-f6c9-4b20-ada1-70d632683c53",
    "deepnote_cell_type": "code",
    "deepnote_to_be_reexecuted": false,
    "execution_millis": 49359,
    "execution_start": 1639756479980,
    "source_hash": "f817dbb5",
    "tags": []
   },
   "outputs": [
    {
     "name": "stdout",
     "output_type": "stream",
     "text": [
      "+--------+------+\n",
      "|is_fraud| count|\n",
      "+--------+------+\n",
      "|       1|  1961|\n",
      "|       0|368407|\n",
      "+--------+------+\n",
      "\n"
     ]
    }
   ],
   "source": [
    "val_df.groupBy('is_fraud').count().show()"
   ]
  },
  {
   "cell_type": "code",
   "execution_count": null,
   "metadata": {
    "cell_id": "00022-6a2f58e9-b1b3-4eb1-a60b-a30939f2f8a1",
    "deepnote_cell_type": "code",
    "deepnote_to_be_reexecuted": false,
    "execution_millis": 65660,
    "execution_start": 1639756529373,
    "source_hash": "3a1ad524",
    "tags": []
   },
   "outputs": [
    {
     "name": "stdout",
     "output_type": "stream",
     "text": [
      "+--------+------+\n",
      "|is_fraud| count|\n",
      "+--------+------+\n",
      "|       1|  1924|\n",
      "|       0|367670|\n",
      "+--------+------+\n",
      "\n"
     ]
    }
   ],
   "source": [
    "test_df.groupBy('is_fraud').count().show()"
   ]
  },
  {
   "cell_type": "markdown",
   "metadata": {
    "cell_id": "00023-ed29c5e5-d876-41ae-b157-14631355133b",
    "deepnote_cell_type": "markdown",
    "tags": []
   },
   "source": [
    "### oversample the minority class"
   ]
  },
  {
   "cell_type": "code",
   "execution_count": null,
   "metadata": {
    "cell_id": "00025-38f32f22-69eb-45ab-acf6-157665752229",
    "deepnote_cell_type": "code",
    "deepnote_to_be_reexecuted": false,
    "execution_millis": 14367,
    "execution_start": 1639756595046,
    "source_hash": "9769a8ae",
    "tags": []
   },
   "outputs": [
    {
     "name": "stdout",
     "output_type": "stream",
     "text": [
      "ratio: 191\n"
     ]
    }
   ],
   "source": [
    "# Implement oversampling method\n",
    "import pyspark.sql.functions as F\n",
    "\n",
    "# calculate ratio\n",
    "major_df = train_df.filter(train_df.is_fraud == 0)\n",
    "minor_df = train_df.filter(train_df.is_fraud == 1)\n",
    "ratio = int(major_df.count()/minor_df.count())\n",
    "print(\"ratio: {}\".format(ratio))\n",
    "a = range(ratio)\n",
    "\n",
    "# duplicate the minority rows\n",
    "oversampled_df = minor_df.withColumn(\"dummy\", F.explode(F.array([F.lit(x) for x in a]))).drop('dummy')\n",
    "\n",
    "# combine both oversampled minority rows and previous majority rows \n",
    "train_df_os = major_df.unionAll(oversampled_df)"
   ]
  },
  {
   "cell_type": "code",
   "execution_count": null,
   "metadata": {
    "cell_id": "00026-e41e5416-bd6f-4796-9675-320c377263a5",
    "deepnote_cell_type": "code",
    "deepnote_to_be_reexecuted": false,
    "execution_millis": 13104,
    "execution_start": 1639756609419,
    "source_hash": "e79f5c96",
    "tags": []
   },
   "outputs": [
    {
     "name": "stdout",
     "output_type": "stream",
     "text": [
      "+--------+-------+\n",
      "|is_fraud|  count|\n",
      "+--------+-------+\n",
      "|       0|1106662|\n",
      "|       1|1101115|\n",
      "+--------+-------+\n",
      "\n"
     ]
    }
   ],
   "source": [
    "train_df_os.groupby('is_fraud').count().show()"
   ]
  },
  {
   "cell_type": "markdown",
   "metadata": {
    "cell_id": "00026-fc7c27a3-c1bf-4d0b-9f78-bedc51bf35d6",
    "deepnote_cell_type": "markdown",
    "tags": []
   },
   "source": [
    "### Modeling"
   ]
  },
  {
   "cell_type": "code",
   "execution_count": null,
   "metadata": {
    "cell_id": "00027-ff41ca2c-78e1-40b8-b793-d1c424f555ca",
    "deepnote_cell_type": "code",
    "deepnote_output_heights": [
     424.34375
    ],
    "deepnote_to_be_reexecuted": false,
    "execution_millis": 24,
    "execution_start": 1639756622561,
    "source_hash": "640c6f9e",
    "tags": []
   },
   "outputs": [
    {
     "data": {
      "text/plain": [
       "['amt',\n",
       " 'gender',\n",
       " 'city_pop',\n",
       " 'age',\n",
       " 'tran_day_of_week',\n",
       " 'tran_day_of_month',\n",
       " 'tran_month_of_year',\n",
       " 'tran_hour_of_day',\n",
       " 'cat_food_dining',\n",
       " 'cat_gas_transport',\n",
       " 'cat_grocery_net',\n",
       " 'cat_grocery_pos',\n",
       " 'cat_health_fitness',\n",
       " 'cat_home',\n",
       " 'cat_kids_pets',\n",
       " 'cat_misc_net',\n",
       " 'cat_misc_pos',\n",
       " 'cat_personal_care',\n",
       " 'cat_shopping_net',\n",
       " 'cat_shopping_pos',\n",
       " 'cat_travel',\n",
       " 'is_fraud']"
      ]
     },
     "execution_count": 25,
     "metadata": {},
     "output_type": "execute_result"
    }
   ],
   "source": [
    "train_df_os.schema.names#[:-1]"
   ]
  },
  {
   "cell_type": "code",
   "execution_count": null,
   "metadata": {
    "cell_id": "00028-9bec59c1-0d03-468d-882d-fab95f3ece2d",
    "deepnote_cell_type": "code",
    "deepnote_to_be_reexecuted": false,
    "execution_millis": 311,
    "execution_start": 1639756622589,
    "source_hash": "3ac63754",
    "tags": []
   },
   "outputs": [],
   "source": [
    "# the feature columns\n",
    "features = train_df_os.schema.names[:-1]\n",
    "\n",
    "assembler = VectorAssembler(inputCols=features, outputCol='features')\n",
    "\n",
    "train_pack = assembler.transform(train_df_os)\n",
    "val_pack = assembler.transform(val_df)\n",
    "test_pack = assembler.transform(test_df)"
   ]
  },
  {
   "cell_type": "code",
   "execution_count": null,
   "metadata": {
    "cell_id": "00029-8e698ae1-8a43-4e51-b986-7d521773c5f4",
    "deepnote_cell_type": "code",
    "deepnote_to_be_reexecuted": false,
    "execution_millis": 23456,
    "execution_start": 1639756622916,
    "source_hash": "a5981c4",
    "tags": []
   },
   "outputs": [],
   "source": [
    "# scaling\n",
    "minmaxscale = MinMaxScaler(inputCol='features', outputCol='features_scaled')\n",
    "minmaxscale = minmaxscale.fit(train_pack)\n",
    "\n",
    "train_pack = minmaxscale.transform(train_pack)\n",
    "val_pack  = minmaxscale.transform(val_pack)\n",
    "test_pack  = minmaxscale.transform(test_pack)"
   ]
  },
  {
   "cell_type": "code",
   "execution_count": null,
   "metadata": {
    "cell_id": "00030-2fbbedfd-0717-40b9-bc50-3dcf73d86cc5",
    "deepnote_cell_type": "code",
    "deepnote_to_be_reexecuted": false,
    "execution_millis": 75988,
    "execution_start": 1639756646379,
    "source_hash": "e3337013",
    "tags": []
   },
   "outputs": [],
   "source": [
    "# logistic regression\n",
    "lr = LogisticRegression(labelCol='is_fraud', \n",
    "                        featuresCol='features_scaled',\n",
    "                        predictionCol='prediction')\n",
    "\n",
    "lr_model = lr.fit(train_pack)\n",
    "lr_pred = lr_model.transform(val_pack)"
   ]
  },
  {
   "cell_type": "code",
   "execution_count": null,
   "metadata": {
    "cell_id": "00031-1610892e-1137-4695-b0a9-26644434a4f5",
    "deepnote_cell_type": "code",
    "deepnote_to_be_reexecuted": false,
    "execution_millis": 113273,
    "execution_start": 1639756722410,
    "source_hash": "8a3d431",
    "tags": []
   },
   "outputs": [],
   "source": [
    "# Random Forest (depth = 2)\n",
    "rf = RandomForestClassifier(maxDepth=2, \n",
    "                            labelCol='is_fraud',\n",
    "                            featuresCol='features',\n",
    "                            predictionCol='prediction')\n",
    "\n",
    "rf_model = rf.fit(train_pack)\n",
    "rf_pred = rf_model.transform(val_pack)"
   ]
  },
  {
   "cell_type": "code",
   "execution_count": null,
   "metadata": {
    "cell_id": "00032-628919fc-09d3-4ff6-8e60-e49eedd1ce16",
    "deepnote_cell_type": "code",
    "deepnote_to_be_reexecuted": false,
    "execution_millis": 352661,
    "execution_start": 1639756835726,
    "source_hash": "e43b5ded",
    "tags": []
   },
   "outputs": [],
   "source": [
    "# Gradient Boosted Tree (depth = 2)\n",
    "gbt = GBTClassifier(maxDepth=2, \n",
    "                    labelCol='is_fraud', \n",
    "                    featuresCol='features',\n",
    "                    predictionCol='prediction')\n",
    "\n",
    "gbt_model = gbt.fit(train_pack)\n",
    "gbt_pred = gbt_model.transform(val_pack)"
   ]
  },
  {
   "cell_type": "code",
   "execution_count": null,
   "metadata": {
    "cell_id": "00033-8eb48098-e015-4bf0-ab70-67081661cdd7",
    "deepnote_cell_type": "code",
    "deepnote_to_be_reexecuted": false,
    "execution_millis": 37,
    "execution_start": 1639757188430,
    "source_hash": "8b46394f",
    "tags": []
   },
   "outputs": [],
   "source": [
    "accuracy = MulticlassClassificationEvaluator(labelCol='is_fraud', \n",
    "                                             predictionCol='prediction',\n",
    "                                             metricName='accuracy')\n",
    "\n",
    "precision = MulticlassClassificationEvaluator(labelCol='is_fraud', \n",
    "                                              predictionCol='prediction',\n",
    "                                              metricName='weightedPrecision')\n",
    "\n",
    "recall = MulticlassClassificationEvaluator(labelCol='is_fraud', \n",
    "                                           predictionCol='prediction',\n",
    "                                           metricName='weightedRecall')\n",
    "\n",
    "f1 = MulticlassClassificationEvaluator(labelCol='is_fraud', \n",
    "                                       predictionCol='prediction',\n",
    "                                       metricName='f1')\n",
    "\n",
    "areaROC = BinaryClassificationEvaluator(labelCol='is_fraud',\n",
    "                                        rawPredictionCol='prediction',\n",
    "                                        metricName='areaUnderROC')\n",
    "\n",
    "areaPR = BinaryClassificationEvaluator(labelCol='is_fraud',\n",
    "                                       rawPredictionCol='prediction',\n",
    "                                       metricName='areaUnderPR')"
   ]
  },
  {
   "cell_type": "code",
   "execution_count": null,
   "metadata": {
    "cell_id": "00034-4a05c4c1-a150-4081-a427-b9fddad87a04",
    "deepnote_cell_type": "code",
    "deepnote_output_heights": [
     119
    ],
    "deepnote_to_be_reexecuted": false,
    "execution_millis": 897667,
    "execution_start": 1639757188484,
    "source_hash": "7d7b4517",
    "tags": []
   },
   "outputs": [
    {
     "data": {
      "application/vnd.deepnote.dataframe.v3+json": {
       "column_count": 6,
       "columns": [
        {
         "dtype": "float64",
         "name": "accuracy",
         "stats": {
          "histogram": [
           {
            "bin_end": 0.8957693429237947,
            "bin_start": 0.8877980819077242,
            "count": 1
           },
           {
            "bin_end": 0.9037406039398652,
            "bin_start": 0.8957693429237947,
            "count": 0
           },
           {
            "bin_end": 0.9117118649559357,
            "bin_start": 0.9037406039398652,
            "count": 0
           },
           {
            "bin_end": 0.9196831259720062,
            "bin_start": 0.9117118649559357,
            "count": 0
           },
           {
            "bin_end": 0.9276543869880767,
            "bin_start": 0.9196831259720062,
            "count": 0
           },
           {
            "bin_end": 0.9356256480041473,
            "bin_start": 0.9276543869880767,
            "count": 0
           },
           {
            "bin_end": 0.9435969090202178,
            "bin_start": 0.9356256480041473,
            "count": 0
           },
           {
            "bin_end": 0.9515681700362882,
            "bin_start": 0.9435969090202178,
            "count": 1
           },
           {
            "bin_end": 0.9595394310523587,
            "bin_start": 0.9515681700362882,
            "count": 0
           },
           {
            "bin_end": 0.9675106920684292,
            "bin_start": 0.9595394310523587,
            "count": 1
           }
          ],
          "max": "0.9675106920684292",
          "min": "0.8877980819077242",
          "nan_count": 0,
          "unique_count": 3
         }
        },
        {
         "dtype": "float64",
         "name": "precision",
         "stats": {
          "histogram": [
           {
            "bin_end": 0.9935968486195862,
            "bin_start": 0.9934801411530998,
            "count": 1
           },
           {
            "bin_end": 0.9937135560860726,
            "bin_start": 0.9935968486195862,
            "count": 0
           },
           {
            "bin_end": 0.993830263552559,
            "bin_start": 0.9937135560860726,
            "count": 0
           },
           {
            "bin_end": 0.9939469710190454,
            "bin_start": 0.993830263552559,
            "count": 0
           },
           {
            "bin_end": 0.9940636784855319,
            "bin_start": 0.9939469710190454,
            "count": 1
           },
           {
            "bin_end": 0.9941803859520183,
            "bin_start": 0.9940636784855319,
            "count": 0
           },
           {
            "bin_end": 0.9942970934185047,
            "bin_start": 0.9941803859520183,
            "count": 0
           },
           {
            "bin_end": 0.9944138008849911,
            "bin_start": 0.9942970934185047,
            "count": 0
           },
           {
            "bin_end": 0.9945305083514775,
            "bin_start": 0.9944138008849911,
            "count": 0
           },
           {
            "bin_end": 0.9946472158179639,
            "bin_start": 0.9945305083514775,
            "count": 1
           }
          ],
          "max": "0.9946472158179639",
          "min": "0.9934801411530998",
          "nan_count": 0,
          "unique_count": 3
         }
        },
        {
         "dtype": "float64",
         "name": "recall",
         "stats": {
          "histogram": [
           {
            "bin_end": 0.8957693429237947,
            "bin_start": 0.8877980819077242,
            "count": 1
           },
           {
            "bin_end": 0.9037406039398652,
            "bin_start": 0.8957693429237947,
            "count": 0
           },
           {
            "bin_end": 0.9117118649559357,
            "bin_start": 0.9037406039398652,
            "count": 0
           },
           {
            "bin_end": 0.9196831259720062,
            "bin_start": 0.9117118649559357,
            "count": 0
           },
           {
            "bin_end": 0.9276543869880767,
            "bin_start": 0.9196831259720062,
            "count": 0
           },
           {
            "bin_end": 0.9356256480041473,
            "bin_start": 0.9276543869880767,
            "count": 0
           },
           {
            "bin_end": 0.9435969090202178,
            "bin_start": 0.9356256480041473,
            "count": 0
           },
           {
            "bin_end": 0.9515681700362882,
            "bin_start": 0.9435969090202178,
            "count": 1
           },
           {
            "bin_end": 0.9595394310523587,
            "bin_start": 0.9515681700362882,
            "count": 0
           },
           {
            "bin_end": 0.9675106920684292,
            "bin_start": 0.9595394310523587,
            "count": 1
           }
          ],
          "max": "0.9675106920684292",
          "min": "0.8877980819077242",
          "nan_count": 0,
          "unique_count": 3
         }
        },
        {
         "dtype": "float64",
         "name": "f1",
         "stats": {
          "histogram": [
           {
            "bin_end": 0.9400444409497557,
            "bin_start": 0.9356861525983641,
            "count": 1
           },
           {
            "bin_end": 0.9444027293011472,
            "bin_start": 0.9400444409497557,
            "count": 0
           },
           {
            "bin_end": 0.9487610176525388,
            "bin_start": 0.9444027293011472,
            "count": 0
           },
           {
            "bin_end": 0.9531193060039304,
            "bin_start": 0.9487610176525388,
            "count": 0
           },
           {
            "bin_end": 0.957477594355322,
            "bin_start": 0.9531193060039304,
            "count": 0
           },
           {
            "bin_end": 0.9618358827067136,
            "bin_start": 0.957477594355322,
            "count": 0
           },
           {
            "bin_end": 0.9661941710581051,
            "bin_start": 0.9618358827067136,
            "count": 0
           },
           {
            "bin_end": 0.9705524594094967,
            "bin_start": 0.9661941710581051,
            "count": 1
           },
           {
            "bin_end": 0.9749107477608883,
            "bin_start": 0.9705524594094967,
            "count": 0
           },
           {
            "bin_end": 0.9792690361122799,
            "bin_start": 0.9749107477608883,
            "count": 1
           }
          ],
          "max": "0.9792690361122799",
          "min": "0.9356861525983641",
          "nan_count": 0,
          "unique_count": 3
         }
        },
        {
         "dtype": "float64",
         "name": "areaROC",
         "stats": {
          "histogram": [
           {
            "bin_end": 0.8360114444215161,
            "bin_start": 0.825669557503213,
            "count": 1
           },
           {
            "bin_end": 0.8463533313398192,
            "bin_start": 0.8360114444215161,
            "count": 0
           },
           {
            "bin_end": 0.8566952182581221,
            "bin_start": 0.8463533313398192,
            "count": 0
           },
           {
            "bin_end": 0.8670371051764252,
            "bin_start": 0.8566952182581221,
            "count": 1
           },
           {
            "bin_end": 0.8773789920947282,
            "bin_start": 0.8670371051764252,
            "count": 0
           },
           {
            "bin_end": 0.8877208790130313,
            "bin_start": 0.8773789920947282,
            "count": 0
           },
           {
            "bin_end": 0.8980627659313344,
            "bin_start": 0.8877208790130313,
            "count": 0
           },
           {
            "bin_end": 0.9084046528496373,
            "bin_start": 0.8980627659313344,
            "count": 0
           },
           {
            "bin_end": 0.9187465397679404,
            "bin_start": 0.9084046528496373,
            "count": 0
           },
           {
            "bin_end": 0.9290884266862435,
            "bin_start": 0.9187465397679404,
            "count": 1
           }
          ],
          "max": "0.9290884266862435",
          "min": "0.825669557503213",
          "nan_count": 0,
          "unique_count": 3
         }
        },
        {
         "dtype": "float64",
         "name": "areaPR",
         "stats": {
          "histogram": [
           {
            "bin_end": 0.03862824265482789,
            "bin_start": 0.03159098952507726,
            "count": 1
           },
           {
            "bin_end": 0.04566549578457853,
            "bin_start": 0.03862824265482789,
            "count": 0
           },
           {
            "bin_end": 0.05270274891432917,
            "bin_start": 0.04566549578457853,
            "count": 0
           },
           {
            "bin_end": 0.0597400020440798,
            "bin_start": 0.05270274891432917,
            "count": 0
           },
           {
            "bin_end": 0.06677725517383043,
            "bin_start": 0.0597400020440798,
            "count": 0
           },
           {
            "bin_end": 0.07381450830358108,
            "bin_start": 0.06677725517383043,
            "count": 0
           },
           {
            "bin_end": 0.08085176143333171,
            "bin_start": 0.07381450830358108,
            "count": 1
           },
           {
            "bin_end": 0.08788901456308235,
            "bin_start": 0.08085176143333171,
            "count": 0
           },
           {
            "bin_end": 0.09492626769283298,
            "bin_start": 0.08788901456308235,
            "count": 0
           },
           {
            "bin_end": 0.10196352082258361,
            "bin_start": 0.09492626769283298,
            "count": 1
           }
          ],
          "max": "0.10196352082258361",
          "min": "0.03159098952507726",
          "nan_count": 0,
          "unique_count": 3
         }
        },
        {
         "dtype": "object",
         "name": "_deepnote_index_column"
        }
       ],
       "row_count": 3,
       "rows": [
        {
         "_deepnote_index_column": "LR",
         "accuracy": 0.8877980819077242,
         "areaPR": 0.03159098952507726,
         "areaROC": 0.825669557503213,
         "f1": 0.9356861525983641,
         "precision": 0.9934801411530998,
         "recall": 0.8877980819077242
        },
        {
         "_deepnote_index_column": "RF",
         "accuracy": 0.9675106920684292,
         "areaPR": 0.10196352082258361,
         "areaROC": 0.8670060881923726,
         "f1": 0.9792690361122799,
         "precision": 0.9940325055893808,
         "recall": 0.9675106920684292
        },
        {
         "_deepnote_index_column": "GBT",
         "accuracy": 0.9436911396232935,
         "areaPR": 0.0765700544944063,
         "areaROC": 0.9290884266862435,
         "f1": 0.9665211705162136,
         "precision": 0.9946472158179639,
         "recall": 0.9436911396232935
        }
       ]
      },
      "text/html": [
       "<div>\n",
       "<style scoped>\n",
       "    .dataframe tbody tr th:only-of-type {\n",
       "        vertical-align: middle;\n",
       "    }\n",
       "\n",
       "    .dataframe tbody tr th {\n",
       "        vertical-align: top;\n",
       "    }\n",
       "\n",
       "    .dataframe thead th {\n",
       "        text-align: right;\n",
       "    }\n",
       "</style>\n",
       "<table border=\"1\" class=\"dataframe\">\n",
       "  <thead>\n",
       "    <tr style=\"text-align: right;\">\n",
       "      <th></th>\n",
       "      <th>accuracy</th>\n",
       "      <th>precision</th>\n",
       "      <th>recall</th>\n",
       "      <th>f1</th>\n",
       "      <th>areaROC</th>\n",
       "      <th>areaPR</th>\n",
       "    </tr>\n",
       "  </thead>\n",
       "  <tbody>\n",
       "    <tr>\n",
       "      <th>LR</th>\n",
       "      <td>0.887798</td>\n",
       "      <td>0.993480</td>\n",
       "      <td>0.887798</td>\n",
       "      <td>0.935686</td>\n",
       "      <td>0.825670</td>\n",
       "      <td>0.031591</td>\n",
       "    </tr>\n",
       "    <tr>\n",
       "      <th>RF</th>\n",
       "      <td>0.967511</td>\n",
       "      <td>0.994033</td>\n",
       "      <td>0.967511</td>\n",
       "      <td>0.979269</td>\n",
       "      <td>0.867006</td>\n",
       "      <td>0.101964</td>\n",
       "    </tr>\n",
       "    <tr>\n",
       "      <th>GBT</th>\n",
       "      <td>0.943691</td>\n",
       "      <td>0.994647</td>\n",
       "      <td>0.943691</td>\n",
       "      <td>0.966521</td>\n",
       "      <td>0.929088</td>\n",
       "      <td>0.076570</td>\n",
       "    </tr>\n",
       "  </tbody>\n",
       "</table>\n",
       "</div>"
      ],
      "text/plain": [
       "     accuracy  precision    recall        f1   areaROC    areaPR\n",
       "LR   0.887798   0.993480  0.887798  0.935686  0.825670  0.031591\n",
       "RF   0.967511   0.994033  0.967511  0.979269  0.867006  0.101964\n",
       "GBT  0.943691   0.994647  0.943691  0.966521  0.929088  0.076570"
      ]
     },
     "execution_count": 32,
     "metadata": {},
     "output_type": "execute_result"
    }
   ],
   "source": [
    "# the error metrics\n",
    "metrics = [accuracy, precision, recall, f1, areaROC, areaPR]\n",
    "metric_labels = ['accuracy', 'precision', 'recall', 'f1', 'areaROC', 'areaPR']\n",
    "\n",
    "# the predictions from each model\n",
    "predictions = [lr_pred, rf_pred, gbt_pred]\n",
    "predict_labels = ['LR', 'RF', 'GBT']\n",
    "\n",
    "eval_list = list()\n",
    "\n",
    "# for each model's predictions, calculate error metrics\n",
    "# and add to a Pandas series\n",
    "for pred in zip(predict_labels, predictions):\n",
    "    name = pred[0]\n",
    "    predict = pred[1]\n",
    "    \n",
    "    metric_vals = pd.Series(dict([(x[0], x[1].evaluate(predict)) \n",
    "                                 for x in zip(metric_labels, metrics)]),\n",
    "                            name=name)\n",
    "    eval_list.append(metric_vals)\n",
    "    \n",
    "# combine all the series into a dataframe\n",
    "eval_df = pd.concat(eval_list, axis=1).T\n",
    "eval_df = eval_df[metric_labels]\n",
    "eval_df"
   ]
  },
  {
   "cell_type": "markdown",
   "metadata": {
    "cell_id": "00035-b76f2f32-df13-4fa7-a269-3d0251de189f",
    "deepnote_cell_type": "markdown",
    "tags": []
   },
   "source": [
    "### Grid Search CV to tune the model"
   ]
  },
  {
   "cell_type": "code",
   "execution_count": null,
   "metadata": {
    "cell_id": "00039-8e968fe2-2cfc-4628-9ecd-cb6ec8f3935d",
    "deepnote_cell_type": "code",
    "deepnote_to_be_reexecuted": false,
    "execution_millis": 1,
    "execution_start": 1639758086147,
    "source_hash": "b9cc25cd",
    "tags": []
   },
   "outputs": [],
   "source": [
    "# Tuning the GradientBoostedTree model\n",
    "gbt_2 = GBTClassifier(featuresCol='features',\n",
    "                     labelCol='is_fraud', \n",
    "                     predictionCol='prediction')\n",
    " \n",
    "# the pipeline\n",
    "pipeline = Pipeline(stages=[assembler, gbt_2]) \n",
    "\n",
    "# the parameter grid\n",
    "paramgrid = (ParamGridBuilder().addGrid(gbt_2.maxDepth, [2, 4, 6])\n",
    "                               .addGrid(gbt_2.stepSize, [0.001, 0.01, 0.1, 1])\n",
    "# commented out, training takes too much time                               .addGrid(gbt_2.maxBins,  [10, 20, 40])\n",
    "# commented out, training takes too much time                               .addGrid(gbt_2.maxIter,  [5, 10, 20])\n",
    "                               .build())\n",
    "\n",
    "# use f1 score as the evaluation metric for best model \n",
    "evaluator = MulticlassClassificationEvaluator(labelCol='is_fraud', \n",
    "                                              predictionCol='prediction', \n",
    "                                              metricName='f1') "
   ]
  },
  {
   "cell_type": "code",
   "execution_count": null,
   "metadata": {
    "cell_id": "00039-f006c813-51ac-4cde-9394-9e2744e0dccc",
    "deepnote_cell_type": "code",
    "deepnote_to_be_reexecuted": false,
    "execution_millis": 13894017,
    "execution_start": 1639758086149,
    "source_hash": "d6027e70",
    "tags": []
   },
   "outputs": [],
   "source": [
    "# 5 folds CV\n",
    "crossval = CrossValidator(estimator=pipeline, \n",
    "                          estimatorParamMaps=paramgrid, \n",
    "                          evaluator=evaluator, \n",
    "                          numFolds=5) \n",
    "\n",
    "gbt_tuned_model = crossval.fit(train_df_os) "
   ]
  },
  {
   "cell_type": "code",
   "execution_count": null,
   "metadata": {
    "cell_id": "00038-3a9d39cb-1eed-4280-9ca0-32518b593f37",
    "deepnote_cell_type": "code",
    "deepnote_to_be_reexecuted": false,
    "execution_millis": 1,
    "execution_start": 1639771980166,
    "source_hash": "176dc89b",
    "tags": []
   },
   "outputs": [],
   "source": [
    "# return the best model based on f1 score\n",
    "best_pipeline = gbt_tuned_model.bestModel\n",
    "\n",
    "best_gbt_model = best_pipeline.stages[1]"
   ]
  },
  {
   "cell_type": "code",
   "execution_count": null,
   "metadata": {
    "cell_id": "00039-1b5405c4-f6ff-44f1-b683-b423e2509f76",
    "deepnote_cell_type": "code",
    "deepnote_output_heights": [
     21.1875
    ],
    "deepnote_to_be_reexecuted": false,
    "execution_millis": 268,
    "execution_start": 1639771980175,
    "source_hash": "4492cf61",
    "tags": []
   },
   "outputs": [
    {
     "data": {
      "text/plain": [
       "20"
      ]
     },
     "execution_count": 36,
     "metadata": {},
     "output_type": "execute_result"
    }
   ],
   "source": [
    "# number of trees\n",
    "len(best_gbt_model.trees)"
   ]
  },
  {
   "cell_type": "code",
   "execution_count": null,
   "metadata": {
    "cell_id": "00040-68bc913b-c252-4396-b715-22a7e3792d5a",
    "deepnote_cell_type": "code",
    "deepnote_output_heights": [
     193.96875
    ],
    "deepnote_to_be_reexecuted": false,
    "execution_millis": 184,
    "execution_start": 1639771980453,
    "source_hash": "ca05ed2a",
    "tags": []
   },
   "outputs": [
    {
     "data": {
      "text/plain": [
       "[DecisionTreeRegressionModel: uid=dtr_d00ee2f8d590, depth=6, numNodes=77, numFeatures=21,\n",
       " DecisionTreeRegressionModel: uid=dtr_6fc90373e3c2, depth=6, numNodes=93, numFeatures=21,\n",
       " DecisionTreeRegressionModel: uid=dtr_21971737ea57, depth=6, numNodes=119, numFeatures=21,\n",
       " DecisionTreeRegressionModel: uid=dtr_c5b49f68ec04, depth=6, numNodes=125, numFeatures=21,\n",
       " DecisionTreeRegressionModel: uid=dtr_881703c9c7a4, depth=6, numNodes=123, numFeatures=21,\n",
       " DecisionTreeRegressionModel: uid=dtr_1f148cbd18b4, depth=6, numNodes=125, numFeatures=21,\n",
       " DecisionTreeRegressionModel: uid=dtr_f70dc951896b, depth=6, numNodes=125, numFeatures=21,\n",
       " DecisionTreeRegressionModel: uid=dtr_35203661a77f, depth=6, numNodes=127, numFeatures=21,\n",
       " DecisionTreeRegressionModel: uid=dtr_13249457c086, depth=6, numNodes=127, numFeatures=21,\n",
       " DecisionTreeRegressionModel: uid=dtr_1186319263de, depth=6, numNodes=127, numFeatures=21]"
      ]
     },
     "execution_count": 37,
     "metadata": {},
     "output_type": "execute_result"
    }
   ],
   "source": [
    "# list some of the trees\n",
    "best_gbt_model.trees[:10]"
   ]
  },
  {
   "cell_type": "code",
   "execution_count": null,
   "metadata": {
    "cell_id": "00041-0c7260f5-bbfa-4115-b770-c394619b24d5",
    "deepnote_cell_type": "code",
    "deepnote_output_heights": [
     21.1875
    ],
    "deepnote_to_be_reexecuted": false,
    "execution_millis": 49,
    "execution_start": 1639771980642,
    "source_hash": "78eb305b",
    "tags": []
   },
   "outputs": [
    {
     "data": {
      "text/plain": [
       "[1.0, 1.0, 1.0, 1.0, 1.0, 1.0, 1.0, 1.0, 1.0, 1.0]"
      ]
     },
     "execution_count": 38,
     "metadata": {},
     "output_type": "execute_result"
    }
   ],
   "source": [
    "# weights\n",
    "best_gbt_model.treeWeights[:10]"
   ]
  },
  {
   "cell_type": "code",
   "execution_count": null,
   "metadata": {
    "cell_id": "00042-5bbd5677-96e6-4cc5-a0b9-8a2771ddc170",
    "deepnote_cell_type": "code",
    "deepnote_output_heights": [
     424.34375
    ],
    "deepnote_to_be_reexecuted": false,
    "execution_millis": 52,
    "execution_start": 1639771980698,
    "source_hash": "54262f6c",
    "tags": []
   },
   "outputs": [
    {
     "data": {
      "text/plain": [
       "cat_shopping_pos      0.000913\n",
       "tran_day_of_week      0.001444\n",
       "cat_misc_net          0.002595\n",
       "gender                0.002768\n",
       "tran_month_of_year    0.002970\n",
       "cat_kids_pets         0.003873\n",
       "tran_day_of_month     0.003938\n",
       "cat_shopping_net      0.005031\n",
       "cat_health_fitness    0.005158\n",
       "cat_personal_care     0.008245\n",
       "cat_food_dining       0.012319\n",
       "cat_travel            0.014198\n",
       "cat_misc_pos          0.016998\n",
       "cat_grocery_pos       0.018039\n",
       "city_pop              0.019002\n",
       "cat_grocery_net       0.021318\n",
       "cat_home              0.023671\n",
       "age                   0.038161\n",
       "cat_gas_transport     0.040237\n",
       "tran_hour_of_day      0.115970\n",
       "amt                   0.643152\n",
       "dtype: float64"
      ]
     },
     "execution_count": 39,
     "metadata": {},
     "output_type": "execute_result"
    }
   ],
   "source": [
    "# extract feature importances\n",
    "feature_importances = best_gbt_model.featureImportances.toArray()\n",
    "\n",
    "# extract feature names, except for the predictor\n",
    "feature_names = train_df_os.columns[:-1]\n",
    "\n",
    "feature_series = (pd.Series(dict(zip(feature_names, feature_importances)))\n",
    "                  .sort_values(ascending=True))\n",
    "\n",
    "feature_series"
   ]
  },
  {
   "cell_type": "code",
   "execution_count": null,
   "metadata": {
    "cell_id": "00043-dc528eef-03dc-4ccd-9cce-c9de3ae7dfea",
    "deepnote_cell_type": "code",
    "deepnote_output_heights": [
     286
    ],
    "deepnote_to_be_reexecuted": false,
    "execution_millis": 927,
    "execution_start": 1639771980749,
    "source_hash": "86e27817",
    "tags": []
   },
   "outputs": [
    {
     "data": {
      "image/png": "[encoded data removed]",
      "text/plain": [
       "<Figure size 432x288 with 1 Axes>"
      ]
     },
     "metadata": {
      "image/png": {
       "height": 284,
       "width": 491
      }
     },
     "output_type": "display_data"
    }
   ],
   "source": [
    "sns.set_palette('dark')\n",
    "sns.set_context('notebook')\n",
    "sns.set_style('white')\n",
    "\n",
    "ax = feature_series.plot(kind='barh')\n",
    "_ = ax.set(xlabel='Relative Importance', \n",
    "           ylabel='Features', \n",
    "           title='Feature Importances for Best GradientBoostedTree Model')\n",
    "\n",
    "fig = plt.gcf()"
   ]
  },
  {
   "cell_type": "markdown",
   "metadata": {
    "cell_id": "00044-c6a260f9-577e-4852-9591-853b5671b8dd",
    "deepnote_cell_type": "markdown",
    "tags": []
   },
   "source": [
    "### Model testing"
   ]
  },
  {
   "cell_type": "code",
   "execution_count": null,
   "metadata": {
    "cell_id": "00045-a2f67c20-4d2c-4e49-aff5-67b0c545fe7c",
    "deepnote_cell_type": "code",
    "deepnote_to_be_reexecuted": false,
    "execution_millis": 1074,
    "execution_start": 1639771981681,
    "source_hash": "efe4af96",
    "tags": []
   },
   "outputs": [
    {
     "ename": "NameError",
     "evalue": "name 'evaluate_model_predictions' is not defined",
     "output_type": "error",
     "traceback": [
      "\u001b[0;31m---------------------------------------------------------------------------\u001b[0m",
      "\u001b[0;31mNameError\u001b[0m                                 Traceback (most recent call last)",
      "\u001b[0;32m<ipython-input-41-31b6565ef0b6>\u001b[0m in \u001b[0;36m<module>\u001b[0;34m\u001b[0m\n\u001b[1;32m      1\u001b[0m \u001b[0mgbt_pred_test\u001b[0m \u001b[0;34m=\u001b[0m \u001b[0mbest_pipeline\u001b[0m\u001b[0;34m.\u001b[0m\u001b[0mtransform\u001b[0m\u001b[0;34m(\u001b[0m\u001b[0mtest_df\u001b[0m\u001b[0;34m)\u001b[0m\u001b[0;34m\u001b[0m\u001b[0;34m\u001b[0m\u001b[0m\n\u001b[1;32m      2\u001b[0m \u001b[0;34m\u001b[0m\u001b[0m\n\u001b[0;32m----> 3\u001b[0;31m \u001b[0mevaluate_model_predictions\u001b[0m\u001b[0;34m(\u001b[0m\u001b[0;34m[\u001b[0m\u001b[0mgbt_pred_test\u001b[0m\u001b[0;34m]\u001b[0m\u001b[0;34m,\u001b[0m \u001b[0;34m[\u001b[0m\u001b[0;34m'GBT_GridSearch'\u001b[0m\u001b[0;34m]\u001b[0m\u001b[0;34m)\u001b[0m\u001b[0;34m\u001b[0m\u001b[0;34m\u001b[0m\u001b[0m\n\u001b[0m",
      "\u001b[0;31mNameError\u001b[0m: name 'evaluate_model_predictions' is not defined"
     ]
    }
   ],
   "source": [
    "gbt_pred_test = best_pipeline.transform(test_df)\n",
    "\n",
    "evaluate_model_predictions([gbt_pred_test], ['GBT_GridSearch'])"
   ]
  },
  {
   "cell_type": "code",
   "execution_count": null,
   "metadata": {
    "cell_id": "00046-d82bcf12-18c5-4f81-9da3-5455e33b40f9",
    "deepnote_cell_type": "code",
    "tags": []
   },
   "outputs": [],
   "source": [
    "# the error metrics\n",
    "metrics = [accuracy, precision, recall, f1, areaROC, areaPR]\n",
    "metric_labels = ['accuracy', 'precision', 'recall', 'f1', 'areaROC', 'areaPR']\n",
    "\n",
    "# the predictions from each model\n",
    "predictions = [gbt_pred_test]\n",
    "predict_labels = ['GBT']\n",
    "\n",
    "eval_list = list()\n",
    "\n",
    "# for each model's predictions, calculate error metrics\n",
    "# and add to a Pandas series\n",
    "for pred in zip(predict_labels, predictions):\n",
    "    name = pred[0]\n",
    "    predict = pred[1]\n",
    "    \n",
    "    metric_vals = pd.Series(dict([(x[0], x[1].evaluate(predict)) \n",
    "                                 for x in zip(metric_labels, metrics)]),\n",
    "                            name=name)\n",
    "    eval_list.append(metric_vals)\n",
    "    \n",
    "# combine all the series into a dataframe\n",
    "eval_df = pd.concat(eval_list, axis=1).T\n",
    "eval_df = eval_df[metric_labels]\n",
    "eval_df"
   ]
  },
  {
   "cell_type": "markdown",
   "metadata": {
    "created_in_deepnote_cell": true,
    "deepnote_cell_type": "markdown",
    "tags": []
   },
   "source": [
    "<a style='text-decoration:none;line-height:16px;display:flex;color:#5B5B62;padding:10px;justify-content:end;' href='https://deepnote.com?utm_source=created-in-deepnote-cell&projectId=1ffa185a-4bcd-432d-b0bf-f70e3dc06cbd' target=\"_blank\">\n",
    "<img alt='Created in deepnote.com' style='display:inline;max-height:16px;margin:0px;margin-right:7.5px;' src='data:image/svg+xml;base64,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' > </img>\n",
    "Created in <span style='font-weight:600;margin-left:4px;'>Deepnote</span></a>"
   ]
  }
 ],
 "metadata": {
  "deepnote": {
   "is_reactive": false
  },
  "deepnote_execution_queue": [],
  "deepnote_notebook_id": "250742c5-eb7d-4646-8dc1-e087c7b4ae73",
  "kernelspec": {
   "display_name": "Python 3",
   "language": "python",
   "name": "python3"
  },
  "language_info": {
   "codemirror_mode": {
    "name": "ipython",
    "version": 3
   },
   "file_extension": ".py",
   "mimetype": "text/x-python",
   "name": "python",
   "nbconvert_exporter": "python",
   "pygments_lexer": "ipython3",
   "version": "3.7.7"
  }
 },
 "nbformat": 4,
 "nbformat_minor": 4
}
